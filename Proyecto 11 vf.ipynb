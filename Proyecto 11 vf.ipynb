{
 "cells": [
  {
   "cell_type": "markdown",
   "metadata": {},
   "source": [
    "# Descripción"
   ]
  },
  {
   "cell_type": "markdown",
   "metadata": {},
   "source": [
    "La compañía de seguros Sure Tomorrow quiere resolver varias tareas con la ayuda de machine learning y te pide que evalúes esa posibilidad.\n",
    "- Tarea 1: encontrar clientes que sean similares a un cliente determinado. Esto ayudará a los agentes de la compañía con el marketing.\n",
    "- Tarea 2: predecir la probabilidad de que un nuevo cliente reciba una prestación del seguro. ¿Puede un modelo de predictivo funcionar mejor que un modelo dummy?\n",
    "- Tarea 3: predecir el número de prestaciones de seguro que un nuevo cliente pueda recibir utilizando un modelo de regresión lineal.\n",
    "- Tarea 4: proteger los datos personales de los clientes sin afectar al modelo del ejercicio anterior. Es necesario desarrollar un algoritmo de transformación de datos que dificulte la recuperación de la información personal si los datos caen en manos equivocadas. Esto se denomina enmascaramiento u ofuscación de datos. Pero los datos deben protegerse de tal manera que no se vea afectada la calidad de los modelos de machine learning. No es necesario elegir el mejor modelo, basta con demostrar que el algoritmo funciona correctamente.\n"
   ]
  },
  {
   "cell_type": "markdown",
   "metadata": {},
   "source": [
    "# Preprocesamiento y exploración de datos\n",
    "\n",
    "## Inicialización"
   ]
  },
  {
   "cell_type": "code",
   "execution_count": 1,
   "metadata": {},
   "outputs": [
    {
     "name": "stdout",
     "output_type": "stream",
     "text": [
      "\u001b[33mWARNING: Ignoring invalid distribution -ikit-learn (/opt/conda/envs/python3/lib/python3.9/site-packages)\u001b[0m\u001b[33m\n",
      "\u001b[0m\u001b[33mWARNING: Ignoring invalid distribution - (/opt/conda/envs/python3/lib/python3.9/site-packages)\u001b[0m\u001b[33m\n",
      "\u001b[0m\u001b[33mWARNING: Ignoring invalid distribution -ikit-learn (/opt/conda/envs/python3/lib/python3.9/site-packages)\u001b[0m\u001b[33m\n",
      "\u001b[0m\u001b[33mWARNING: Ignoring invalid distribution -cikit-learn (/opt/conda/envs/python3/lib/python3.9/site-packages)\u001b[0m\u001b[33m\n",
      "\u001b[0mRequirement already satisfied: scikit-learn in /opt/conda/envs/python3/lib/python3.9/site-packages (0.24.1)\n",
      "Collecting scikit-learn\n",
      "  Using cached scikit_learn-1.5.1-cp39-cp39-manylinux_2_17_x86_64.manylinux2014_x86_64.whl.metadata (12 kB)\n",
      "Requirement already satisfied: numpy>=1.19.5 in /opt/conda/envs/python3/lib/python3.9/site-packages (from scikit-learn) (1.21.2)\n",
      "Requirement already satisfied: scipy>=1.6.0 in /opt/conda/envs/python3/lib/python3.9/site-packages (from scikit-learn) (1.10.1)\n",
      "Requirement already satisfied: joblib>=1.2.0 in /opt/conda/envs/python3/lib/python3.9/site-packages (from scikit-learn) (1.4.2)\n",
      "Requirement already satisfied: threadpoolctl>=3.1.0 in /opt/conda/envs/python3/lib/python3.9/site-packages (from scikit-learn) (3.5.0)\n",
      "Using cached scikit_learn-1.5.1-cp39-cp39-manylinux_2_17_x86_64.manylinux2014_x86_64.whl (13.4 MB)\n",
      "\u001b[33mWARNING: Ignoring invalid distribution -ikit-learn (/opt/conda/envs/python3/lib/python3.9/site-packages)\u001b[0m\u001b[33m\n",
      "\u001b[0m\u001b[33mWARNING: Ignoring invalid distribution - (/opt/conda/envs/python3/lib/python3.9/site-packages)\u001b[0m\u001b[33m\n",
      "\u001b[0m\u001b[33mWARNING: Ignoring invalid distribution -ikit-learn (/opt/conda/envs/python3/lib/python3.9/site-packages)\u001b[0m\u001b[33m\n",
      "\u001b[0m\u001b[33mWARNING: Ignoring invalid distribution -cikit-learn (/opt/conda/envs/python3/lib/python3.9/site-packages)\u001b[0m\u001b[33m\n",
      "\u001b[0mInstalling collected packages: scikit-learn\n",
      "  Attempting uninstall: scikit-learn\n",
      "    Found existing installation: scikit-learn 0.24.1\n",
      "    Uninstalling scikit-learn-0.24.1:\n",
      "\u001b[31mERROR: Could not install packages due to an OSError: [Errno 13] Permission denied: 'COPYING'\n",
      "Consider using the `--user` option or check the permissions.\n",
      "\u001b[0m\u001b[31m\n",
      "\u001b[0mNote: you may need to restart the kernel to use updated packages.\n"
     ]
    }
   ],
   "source": [
    "pip install scikit-learn --upgrade"
   ]
  },
  {
   "cell_type": "code",
   "execution_count": 2,
   "metadata": {},
   "outputs": [],
   "source": [
    "import numpy as np\n",
    "import pandas as pd\n",
    "\n",
    "import seaborn as sns\n",
    "\n",
    "import sklearn.linear_model\n",
    "import sklearn.metrics\n",
    "import sklearn.neighbors\n",
    "import sklearn.preprocessing\n",
    "\n",
    "from sklearn.model_selection import train_test_split\n",
    "\n",
    "from IPython.display import display\n",
    "\n",
    "from sklearn.neighbors import NearestNeighbors\n",
    "from sklearn.neighbors import KNeighborsClassifier\n",
    "from sklearn.metrics import f1_score\n",
    "from sklearn.linear_model import LinearRegression\n",
    "from sklearn.metrics import r2_score, mean_squared_error\n",
    "\n",
    "import math"
   ]
  },
  {
   "cell_type": "markdown",
   "metadata": {},
   "source": [
    "## Carga de datos"
   ]
  },
  {
   "cell_type": "markdown",
   "metadata": {},
   "source": [
    "Carga los datos y haz una revisión básica para comprobar que no hay problemas obvios."
   ]
  },
  {
   "cell_type": "code",
   "execution_count": 3,
   "metadata": {},
   "outputs": [],
   "source": [
    "df = pd.read_csv('/datasets/insurance_us.csv')"
   ]
  },
  {
   "cell_type": "markdown",
   "metadata": {},
   "source": [
    "Renombramos las columnas para que el código se vea más coherente con su estilo."
   ]
  },
  {
   "cell_type": "code",
   "execution_count": 4,
   "metadata": {},
   "outputs": [],
   "source": [
    "df = df.rename(columns={'Gender': 'gender', 'Age': 'age', 'Salary': 'income', 'Family members': 'family_members', 'Insurance benefits': 'insurance_benefits'})"
   ]
  },
  {
   "cell_type": "code",
   "execution_count": 5,
   "metadata": {},
   "outputs": [
    {
     "data": {
      "text/html": [
       "<div>\n",
       "<style scoped>\n",
       "    .dataframe tbody tr th:only-of-type {\n",
       "        vertical-align: middle;\n",
       "    }\n",
       "\n",
       "    .dataframe tbody tr th {\n",
       "        vertical-align: top;\n",
       "    }\n",
       "\n",
       "    .dataframe thead th {\n",
       "        text-align: right;\n",
       "    }\n",
       "</style>\n",
       "<table border=\"1\" class=\"dataframe\">\n",
       "  <thead>\n",
       "    <tr style=\"text-align: right;\">\n",
       "      <th></th>\n",
       "      <th>gender</th>\n",
       "      <th>age</th>\n",
       "      <th>income</th>\n",
       "      <th>family_members</th>\n",
       "      <th>insurance_benefits</th>\n",
       "    </tr>\n",
       "  </thead>\n",
       "  <tbody>\n",
       "    <tr>\n",
       "      <th>573</th>\n",
       "      <td>1</td>\n",
       "      <td>45.0</td>\n",
       "      <td>27200.0</td>\n",
       "      <td>1</td>\n",
       "      <td>1</td>\n",
       "    </tr>\n",
       "    <tr>\n",
       "      <th>1709</th>\n",
       "      <td>1</td>\n",
       "      <td>29.0</td>\n",
       "      <td>56000.0</td>\n",
       "      <td>2</td>\n",
       "      <td>0</td>\n",
       "    </tr>\n",
       "    <tr>\n",
       "      <th>3046</th>\n",
       "      <td>1</td>\n",
       "      <td>38.0</td>\n",
       "      <td>24200.0</td>\n",
       "      <td>2</td>\n",
       "      <td>0</td>\n",
       "    </tr>\n",
       "    <tr>\n",
       "      <th>4864</th>\n",
       "      <td>0</td>\n",
       "      <td>19.0</td>\n",
       "      <td>43300.0</td>\n",
       "      <td>2</td>\n",
       "      <td>0</td>\n",
       "    </tr>\n",
       "    <tr>\n",
       "      <th>4251</th>\n",
       "      <td>0</td>\n",
       "      <td>18.0</td>\n",
       "      <td>25500.0</td>\n",
       "      <td>2</td>\n",
       "      <td>0</td>\n",
       "    </tr>\n",
       "    <tr>\n",
       "      <th>425</th>\n",
       "      <td>1</td>\n",
       "      <td>30.0</td>\n",
       "      <td>67700.0</td>\n",
       "      <td>0</td>\n",
       "      <td>0</td>\n",
       "    </tr>\n",
       "    <tr>\n",
       "      <th>3930</th>\n",
       "      <td>1</td>\n",
       "      <td>32.0</td>\n",
       "      <td>42900.0</td>\n",
       "      <td>1</td>\n",
       "      <td>0</td>\n",
       "    </tr>\n",
       "    <tr>\n",
       "      <th>3030</th>\n",
       "      <td>0</td>\n",
       "      <td>21.0</td>\n",
       "      <td>39000.0</td>\n",
       "      <td>5</td>\n",
       "      <td>0</td>\n",
       "    </tr>\n",
       "    <tr>\n",
       "      <th>4348</th>\n",
       "      <td>1</td>\n",
       "      <td>37.0</td>\n",
       "      <td>38600.0</td>\n",
       "      <td>3</td>\n",
       "      <td>0</td>\n",
       "    </tr>\n",
       "    <tr>\n",
       "      <th>2141</th>\n",
       "      <td>0</td>\n",
       "      <td>25.0</td>\n",
       "      <td>49700.0</td>\n",
       "      <td>0</td>\n",
       "      <td>0</td>\n",
       "    </tr>\n",
       "  </tbody>\n",
       "</table>\n",
       "</div>"
      ],
      "text/plain": [
       "      gender   age   income  family_members  insurance_benefits\n",
       "573        1  45.0  27200.0               1                   1\n",
       "1709       1  29.0  56000.0               2                   0\n",
       "3046       1  38.0  24200.0               2                   0\n",
       "4864       0  19.0  43300.0               2                   0\n",
       "4251       0  18.0  25500.0               2                   0\n",
       "425        1  30.0  67700.0               0                   0\n",
       "3930       1  32.0  42900.0               1                   0\n",
       "3030       0  21.0  39000.0               5                   0\n",
       "4348       1  37.0  38600.0               3                   0\n",
       "2141       0  25.0  49700.0               0                   0"
      ]
     },
     "execution_count": 5,
     "metadata": {},
     "output_type": "execute_result"
    }
   ],
   "source": [
    "df.sample(10)"
   ]
  },
  {
   "cell_type": "code",
   "execution_count": 6,
   "metadata": {},
   "outputs": [
    {
     "name": "stdout",
     "output_type": "stream",
     "text": [
      "<class 'pandas.core.frame.DataFrame'>\n",
      "RangeIndex: 5000 entries, 0 to 4999\n",
      "Data columns (total 5 columns):\n",
      " #   Column              Non-Null Count  Dtype  \n",
      "---  ------              --------------  -----  \n",
      " 0   gender              5000 non-null   int64  \n",
      " 1   age                 5000 non-null   float64\n",
      " 2   income              5000 non-null   float64\n",
      " 3   family_members      5000 non-null   int64  \n",
      " 4   insurance_benefits  5000 non-null   int64  \n",
      "dtypes: float64(2), int64(3)\n",
      "memory usage: 195.4 KB\n"
     ]
    }
   ],
   "source": [
    "df.info()"
   ]
  },
  {
   "cell_type": "code",
   "execution_count": 7,
   "metadata": {},
   "outputs": [
    {
     "name": "stdout",
     "output_type": "stream",
     "text": [
      "153\n",
      "      gender   age   income  family_members  insurance_benefits\n",
      "281        1  39.0  48100.0               1                   0\n",
      "488        1  24.0  32900.0               1                   0\n",
      "513        0  31.0  37400.0               2                   0\n",
      "718        1  22.0  32600.0               1                   0\n",
      "785        0  20.0  35800.0               0                   0\n",
      "...      ...   ...      ...             ...                 ...\n",
      "4793       1  24.0  37800.0               0                   0\n",
      "4902       1  35.0  38700.0               1                   0\n",
      "4935       1  19.0  32700.0               0                   0\n",
      "4945       1  21.0  45800.0               0                   0\n",
      "4965       0  22.0  40100.0               1                   0\n",
      "\n",
      "[153 rows x 5 columns]\n"
     ]
    }
   ],
   "source": [
    "# Vamos a revisar si tenemos filas duplicadas\n",
    "print(df.duplicated().sum())\n",
    "print(df[df.duplicated()])\n",
    "# Tenemos valores duplicados pero no necesariamente serían duplicados pueden conincidencias de diferentes personas que tiene las mismas características."
   ]
  },
  {
   "cell_type": "code",
   "execution_count": 8,
   "metadata": {},
   "outputs": [
    {
     "name": "stdout",
     "output_type": "stream",
     "text": [
      "<class 'pandas.core.frame.DataFrame'>\n",
      "RangeIndex: 4847 entries, 0 to 4846\n",
      "Data columns (total 5 columns):\n",
      " #   Column              Non-Null Count  Dtype  \n",
      "---  ------              --------------  -----  \n",
      " 0   gender              4847 non-null   int64  \n",
      " 1   age                 4847 non-null   float64\n",
      " 2   income              4847 non-null   float64\n",
      " 3   family_members      4847 non-null   int64  \n",
      " 4   insurance_benefits  4847 non-null   int64  \n",
      "dtypes: float64(2), int64(3)\n",
      "memory usage: 189.5 KB\n",
      "None\n"
     ]
    }
   ],
   "source": [
    "#vamos a eliminar las filas duplicadas\n",
    "df = df.drop_duplicates().reset_index(drop= True)\n",
    "print(df.info())"
   ]
  },
  {
   "cell_type": "markdown",
   "metadata": {},
   "source": [
    "Detectamos que teniamos filas duplicadas, que reprentaban el 3% de nuestra base por lo que los eliminamos."
   ]
  },
  {
   "cell_type": "code",
   "execution_count": 9,
   "metadata": {},
   "outputs": [],
   "source": [
    "# puede que queramos cambiar el tipo de edad (de float a int) aunque esto no es crucial\n",
    "\n",
    "# escribe tu conversión aquí si lo deseas:\n",
    "df[\"age\"] = df[\"age\"].astype(\"int\")\n"
   ]
  },
  {
   "cell_type": "code",
   "execution_count": 10,
   "metadata": {},
   "outputs": [
    {
     "name": "stdout",
     "output_type": "stream",
     "text": [
      "<class 'pandas.core.frame.DataFrame'>\n",
      "RangeIndex: 4847 entries, 0 to 4846\n",
      "Data columns (total 5 columns):\n",
      " #   Column              Non-Null Count  Dtype  \n",
      "---  ------              --------------  -----  \n",
      " 0   gender              4847 non-null   int64  \n",
      " 1   age                 4847 non-null   int64  \n",
      " 2   income              4847 non-null   float64\n",
      " 3   family_members      4847 non-null   int64  \n",
      " 4   insurance_benefits  4847 non-null   int64  \n",
      "dtypes: float64(1), int64(4)\n",
      "memory usage: 189.5 KB\n"
     ]
    }
   ],
   "source": [
    "# comprueba que la conversión se haya realizado con éxito\n",
    "df.info()"
   ]
  },
  {
   "cell_type": "code",
   "execution_count": 11,
   "metadata": {},
   "outputs": [
    {
     "data": {
      "text/html": [
       "<div>\n",
       "<style scoped>\n",
       "    .dataframe tbody tr th:only-of-type {\n",
       "        vertical-align: middle;\n",
       "    }\n",
       "\n",
       "    .dataframe tbody tr th {\n",
       "        vertical-align: top;\n",
       "    }\n",
       "\n",
       "    .dataframe thead th {\n",
       "        text-align: right;\n",
       "    }\n",
       "</style>\n",
       "<table border=\"1\" class=\"dataframe\">\n",
       "  <thead>\n",
       "    <tr style=\"text-align: right;\">\n",
       "      <th></th>\n",
       "      <th>gender</th>\n",
       "      <th>age</th>\n",
       "      <th>income</th>\n",
       "      <th>family_members</th>\n",
       "      <th>insurance_benefits</th>\n",
       "    </tr>\n",
       "  </thead>\n",
       "  <tbody>\n",
       "    <tr>\n",
       "      <th>count</th>\n",
       "      <td>4847.000000</td>\n",
       "      <td>4847.000000</td>\n",
       "      <td>4847.000000</td>\n",
       "      <td>4847.000000</td>\n",
       "      <td>4847.000000</td>\n",
       "    </tr>\n",
       "    <tr>\n",
       "      <th>mean</th>\n",
       "      <td>0.498453</td>\n",
       "      <td>31.023932</td>\n",
       "      <td>39895.811842</td>\n",
       "      <td>1.203425</td>\n",
       "      <td>0.152259</td>\n",
       "    </tr>\n",
       "    <tr>\n",
       "      <th>std</th>\n",
       "      <td>0.500049</td>\n",
       "      <td>8.487995</td>\n",
       "      <td>9972.953985</td>\n",
       "      <td>1.098664</td>\n",
       "      <td>0.468934</td>\n",
       "    </tr>\n",
       "    <tr>\n",
       "      <th>min</th>\n",
       "      <td>0.000000</td>\n",
       "      <td>18.000000</td>\n",
       "      <td>5300.000000</td>\n",
       "      <td>0.000000</td>\n",
       "      <td>0.000000</td>\n",
       "    </tr>\n",
       "    <tr>\n",
       "      <th>25%</th>\n",
       "      <td>0.000000</td>\n",
       "      <td>24.000000</td>\n",
       "      <td>33200.000000</td>\n",
       "      <td>0.000000</td>\n",
       "      <td>0.000000</td>\n",
       "    </tr>\n",
       "    <tr>\n",
       "      <th>50%</th>\n",
       "      <td>0.000000</td>\n",
       "      <td>30.000000</td>\n",
       "      <td>40200.000000</td>\n",
       "      <td>1.000000</td>\n",
       "      <td>0.000000</td>\n",
       "    </tr>\n",
       "    <tr>\n",
       "      <th>75%</th>\n",
       "      <td>1.000000</td>\n",
       "      <td>37.000000</td>\n",
       "      <td>46600.000000</td>\n",
       "      <td>2.000000</td>\n",
       "      <td>0.000000</td>\n",
       "    </tr>\n",
       "    <tr>\n",
       "      <th>max</th>\n",
       "      <td>1.000000</td>\n",
       "      <td>65.000000</td>\n",
       "      <td>79000.000000</td>\n",
       "      <td>6.000000</td>\n",
       "      <td>5.000000</td>\n",
       "    </tr>\n",
       "  </tbody>\n",
       "</table>\n",
       "</div>"
      ],
      "text/plain": [
       "            gender          age        income  family_members  \\\n",
       "count  4847.000000  4847.000000   4847.000000     4847.000000   \n",
       "mean      0.498453    31.023932  39895.811842        1.203425   \n",
       "std       0.500049     8.487995   9972.953985        1.098664   \n",
       "min       0.000000    18.000000   5300.000000        0.000000   \n",
       "25%       0.000000    24.000000  33200.000000        0.000000   \n",
       "50%       0.000000    30.000000  40200.000000        1.000000   \n",
       "75%       1.000000    37.000000  46600.000000        2.000000   \n",
       "max       1.000000    65.000000  79000.000000        6.000000   \n",
       "\n",
       "       insurance_benefits  \n",
       "count         4847.000000  \n",
       "mean             0.152259  \n",
       "std              0.468934  \n",
       "min              0.000000  \n",
       "25%              0.000000  \n",
       "50%              0.000000  \n",
       "75%              0.000000  \n",
       "max              5.000000  "
      ]
     },
     "execution_count": 11,
     "metadata": {},
     "output_type": "execute_result"
    }
   ],
   "source": [
    "# ahora echa un vistazo a las estadísticas descriptivas de los datos.# ¿Se ve todo bien?\n",
    "df.describe()"
   ]
  },
  {
   "cell_type": "markdown",
   "metadata": {},
   "source": [
    "Al usar el método describe en el data frame, no tenemos valores anormales un ejemplo serían valores negativos. "
   ]
  },
  {
   "cell_type": "code",
   "execution_count": 12,
   "metadata": {},
   "outputs": [
    {
     "data": {
      "text/plain": [
       "0    4284\n",
       "1     423\n",
       "2     114\n",
       "3      18\n",
       "4       7\n",
       "5       1\n",
       "Name: insurance_benefits, dtype: int64"
      ]
     },
     "execution_count": 12,
     "metadata": {},
     "output_type": "execute_result"
    }
   ],
   "source": [
    "df[\"insurance_benefits\"].value_counts()"
   ]
  },
  {
   "cell_type": "markdown",
   "metadata": {},
   "source": [
    "## Análisis exploratorio de datos"
   ]
  },
  {
   "cell_type": "markdown",
   "metadata": {},
   "source": [
    "Vamos a comprobar rápidamente si existen determinados grupos de clientes observando el gráfico de pares."
   ]
  },
  {
   "cell_type": "code",
   "execution_count": 13,
   "metadata": {},
   "outputs": [
    {
     "data": {
      "image/png": "[encoded data removed]",
      "text/plain": [
       "<Figure size 1200x1200 with 30 Axes>"
      ]
     },
     "metadata": {},
     "output_type": "display_data"
    }
   ],
   "source": [
    "g = sns.pairplot(df, kind='hist')\n",
    "g.fig.set_size_inches(12, 12)"
   ]
  },
  {
   "cell_type": "markdown",
   "metadata": {},
   "source": [
    "De acuerdo, es un poco complicado detectar grupos obvios (clústeres) ya que es difícil combinar diversas variables simultáneamente (para analizar distribuciones multivariadas). Ahí es donde LA y ML pueden ser bastante útiles."
   ]
  },
  {
   "cell_type": "markdown",
   "metadata": {},
   "source": [
    "# Tarea 1. Clientes similares"
   ]
  },
  {
   "cell_type": "markdown",
   "metadata": {},
   "source": [
    "En el lenguaje de ML, es necesario desarrollar un procedimiento que devuelva los k vecinos más cercanos (objetos) para un objeto dado basándose en la distancia entre los objetos.\n",
    "Es posible que quieras revisar las siguientes lecciones (capítulo -> lección)- Distancia entre vectores -> Distancia euclidiana\n",
    "- Distancia entre vectores -> Distancia Manhattan\n",
    "\n",
    "Para resolver la tarea, podemos probar diferentes métricas de distancia."
   ]
  },
  {
   "cell_type": "markdown",
   "metadata": {},
   "source": [
    "Escribe una función que devuelva los k vecinos más cercanos para un $n^{th}$ objeto basándose en una métrica de distancia especificada. A la hora de realizar esta tarea no debe tenerse en cuenta el número de prestaciones de seguro recibidas.\n",
    "Puedes utilizar una implementación ya existente del algoritmo kNN de scikit-learn (consulta [el enlace](https://scikit-learn.org/stable/modules/generated/sklearn.neighbors.NearestNeighbors.html#sklearn.neighbors.NearestNeighbors)) o tu propia implementación.\n",
    "Pruébalo para cuatro combinaciones de dos casos- Escalado\n",
    "  - los datos no están escalados\n",
    "  - los datos se escalan con el escalador [MaxAbsScaler](https://scikit-learn.org/stable/modules/generated/sklearn.preprocessing.MaxAbsScaler.html)\n",
    "- Métricas de distancia\n",
    "  - Euclidiana\n",
    "  - Manhattan\n",
    "\n",
    "Responde a estas preguntas:- ¿El hecho de que los datos no estén escalados afecta al algoritmo kNN? Si es así, ¿cómo se manifiesta?- ¿Qué tan similares son los resultados al utilizar la métrica de distancia Manhattan (independientemente del escalado)?"
   ]
  },
  {
   "cell_type": "code",
   "execution_count": 14,
   "metadata": {},
   "outputs": [],
   "source": [
    "feature_names = ['gender', 'age', 'income', 'family_members']"
   ]
  },
  {
   "cell_type": "code",
   "execution_count": 15,
   "metadata": {},
   "outputs": [],
   "source": [
    "def get_knn(df, n, k, metric):\n",
    "    \n",
    "    \"\"\"\n",
    "    Devuelve los k vecinos más cercanos\n",
    "\n",
    "    :param df: DataFrame de pandas utilizado para encontrar objetos similares dentro del mismo lugar    :param n: número de objetos para los que se buscan los vecinos más cercanos    :param k: número de vecinos más cercanos a devolver\n",
    "    :param métrica: nombre de la métrica de distancia    \"\"\"\n",
    "\n",
    "    nbrs = NearestNeighbors(n_neighbors= k, algorithm='auto', metric= metric).fit(df[feature_names].to_numpy()) #<tu código aquí> \n",
    "    nbrs_distances, nbrs_indices = nbrs.kneighbors([df.iloc[n][feature_names]], k, return_distance=True)\n",
    "    \n",
    "    df_res = pd.concat([\n",
    "        df.iloc[nbrs_indices[0]], \n",
    "        pd.DataFrame(nbrs_distances.T, index=nbrs_indices[0], columns=['distance'])\n",
    "        ], axis=1)\n",
    "    \n",
    "    return df_res"
   ]
  },
  {
   "cell_type": "markdown",
   "metadata": {},
   "source": [
    "Escalar datos."
   ]
  },
  {
   "cell_type": "code",
   "execution_count": 16,
   "metadata": {},
   "outputs": [],
   "source": [
    "feature_names = ['gender', 'age', 'income', 'family_members']\n",
    "\n",
    "transformer_mas = sklearn.preprocessing.MaxAbsScaler().fit(df[feature_names].to_numpy())\n",
    "\n",
    "df_scaled = df.copy()\n",
    "df_scaled.loc[:, feature_names] = transformer_mas.transform(df[feature_names].to_numpy())"
   ]
  },
  {
   "cell_type": "code",
   "execution_count": 17,
   "metadata": {},
   "outputs": [
    {
     "data": {
      "text/html": [
       "<div>\n",
       "<style scoped>\n",
       "    .dataframe tbody tr th:only-of-type {\n",
       "        vertical-align: middle;\n",
       "    }\n",
       "\n",
       "    .dataframe tbody tr th {\n",
       "        vertical-align: top;\n",
       "    }\n",
       "\n",
       "    .dataframe thead th {\n",
       "        text-align: right;\n",
       "    }\n",
       "</style>\n",
       "<table border=\"1\" class=\"dataframe\">\n",
       "  <thead>\n",
       "    <tr style=\"text-align: right;\">\n",
       "      <th></th>\n",
       "      <th>gender</th>\n",
       "      <th>age</th>\n",
       "      <th>income</th>\n",
       "      <th>family_members</th>\n",
       "      <th>insurance_benefits</th>\n",
       "    </tr>\n",
       "  </thead>\n",
       "  <tbody>\n",
       "    <tr>\n",
       "      <th>342</th>\n",
       "      <td>0.0</td>\n",
       "      <td>0.384615</td>\n",
       "      <td>0.694937</td>\n",
       "      <td>0.166667</td>\n",
       "      <td>0</td>\n",
       "    </tr>\n",
       "    <tr>\n",
       "      <th>4551</th>\n",
       "      <td>0.0</td>\n",
       "      <td>0.446154</td>\n",
       "      <td>0.527848</td>\n",
       "      <td>0.000000</td>\n",
       "      <td>0</td>\n",
       "    </tr>\n",
       "    <tr>\n",
       "      <th>4436</th>\n",
       "      <td>0.0</td>\n",
       "      <td>0.476923</td>\n",
       "      <td>0.591139</td>\n",
       "      <td>0.000000</td>\n",
       "      <td>0</td>\n",
       "    </tr>\n",
       "    <tr>\n",
       "      <th>3077</th>\n",
       "      <td>0.0</td>\n",
       "      <td>0.630769</td>\n",
       "      <td>0.618987</td>\n",
       "      <td>0.000000</td>\n",
       "      <td>0</td>\n",
       "    </tr>\n",
       "    <tr>\n",
       "      <th>3016</th>\n",
       "      <td>0.0</td>\n",
       "      <td>0.492308</td>\n",
       "      <td>0.506329</td>\n",
       "      <td>0.166667</td>\n",
       "      <td>0</td>\n",
       "    </tr>\n",
       "  </tbody>\n",
       "</table>\n",
       "</div>"
      ],
      "text/plain": [
       "      gender       age    income  family_members  insurance_benefits\n",
       "342      0.0  0.384615  0.694937        0.166667                   0\n",
       "4551     0.0  0.446154  0.527848        0.000000                   0\n",
       "4436     0.0  0.476923  0.591139        0.000000                   0\n",
       "3077     0.0  0.630769  0.618987        0.000000                   0\n",
       "3016     0.0  0.492308  0.506329        0.166667                   0"
      ]
     },
     "execution_count": 17,
     "metadata": {},
     "output_type": "execute_result"
    }
   ],
   "source": [
    "df_scaled.sample(5)"
   ]
  },
  {
   "cell_type": "markdown",
   "metadata": {},
   "source": [
    "Ahora, vamos a obtener registros similares para uno determinado, para cada combinación"
   ]
  },
  {
   "cell_type": "code",
   "execution_count": 18,
   "metadata": {},
   "outputs": [
    {
     "data": {
      "text/html": [
       "<div>\n",
       "<style scoped>\n",
       "    .dataframe tbody tr th:only-of-type {\n",
       "        vertical-align: middle;\n",
       "    }\n",
       "\n",
       "    .dataframe tbody tr th {\n",
       "        vertical-align: top;\n",
       "    }\n",
       "\n",
       "    .dataframe thead th {\n",
       "        text-align: right;\n",
       "    }\n",
       "</style>\n",
       "<table border=\"1\" class=\"dataframe\">\n",
       "  <thead>\n",
       "    <tr style=\"text-align: right;\">\n",
       "      <th></th>\n",
       "      <th>gender</th>\n",
       "      <th>age</th>\n",
       "      <th>income</th>\n",
       "      <th>family_members</th>\n",
       "      <th>insurance_benefits</th>\n",
       "      <th>distance</th>\n",
       "    </tr>\n",
       "  </thead>\n",
       "  <tbody>\n",
       "    <tr>\n",
       "      <th>777</th>\n",
       "      <td>1</td>\n",
       "      <td>41</td>\n",
       "      <td>48800.0</td>\n",
       "      <td>0</td>\n",
       "      <td>0</td>\n",
       "      <td>0.000000</td>\n",
       "    </tr>\n",
       "    <tr>\n",
       "      <th>834</th>\n",
       "      <td>1</td>\n",
       "      <td>42</td>\n",
       "      <td>48800.0</td>\n",
       "      <td>2</td>\n",
       "      <td>0</td>\n",
       "      <td>2.236068</td>\n",
       "    </tr>\n",
       "    <tr>\n",
       "      <th>3409</th>\n",
       "      <td>1</td>\n",
       "      <td>44</td>\n",
       "      <td>48800.0</td>\n",
       "      <td>1</td>\n",
       "      <td>1</td>\n",
       "      <td>3.162278</td>\n",
       "    </tr>\n",
       "    <tr>\n",
       "      <th>3039</th>\n",
       "      <td>0</td>\n",
       "      <td>35</td>\n",
       "      <td>48800.0</td>\n",
       "      <td>0</td>\n",
       "      <td>0</td>\n",
       "      <td>6.082763</td>\n",
       "    </tr>\n",
       "    <tr>\n",
       "      <th>1655</th>\n",
       "      <td>0</td>\n",
       "      <td>34</td>\n",
       "      <td>48800.0</td>\n",
       "      <td>1</td>\n",
       "      <td>0</td>\n",
       "      <td>7.141428</td>\n",
       "    </tr>\n",
       "    <tr>\n",
       "      <th>1538</th>\n",
       "      <td>0</td>\n",
       "      <td>31</td>\n",
       "      <td>48800.0</td>\n",
       "      <td>1</td>\n",
       "      <td>0</td>\n",
       "      <td>10.099505</td>\n",
       "    </tr>\n",
       "    <tr>\n",
       "      <th>3117</th>\n",
       "      <td>0</td>\n",
       "      <td>30</td>\n",
       "      <td>48800.0</td>\n",
       "      <td>2</td>\n",
       "      <td>0</td>\n",
       "      <td>11.224972</td>\n",
       "    </tr>\n",
       "    <tr>\n",
       "      <th>4394</th>\n",
       "      <td>0</td>\n",
       "      <td>28</td>\n",
       "      <td>48800.0</td>\n",
       "      <td>0</td>\n",
       "      <td>0</td>\n",
       "      <td>13.038405</td>\n",
       "    </tr>\n",
       "    <tr>\n",
       "      <th>2868</th>\n",
       "      <td>0</td>\n",
       "      <td>25</td>\n",
       "      <td>48800.0</td>\n",
       "      <td>1</td>\n",
       "      <td>0</td>\n",
       "      <td>16.062378</td>\n",
       "    </tr>\n",
       "    <tr>\n",
       "      <th>292</th>\n",
       "      <td>0</td>\n",
       "      <td>23</td>\n",
       "      <td>48800.0</td>\n",
       "      <td>2</td>\n",
       "      <td>0</td>\n",
       "      <td>18.138357</td>\n",
       "    </tr>\n",
       "  </tbody>\n",
       "</table>\n",
       "</div>"
      ],
      "text/plain": [
       "      gender  age   income  family_members  insurance_benefits   distance\n",
       "777        1   41  48800.0               0                   0   0.000000\n",
       "834        1   42  48800.0               2                   0   2.236068\n",
       "3409       1   44  48800.0               1                   1   3.162278\n",
       "3039       0   35  48800.0               0                   0   6.082763\n",
       "1655       0   34  48800.0               1                   0   7.141428\n",
       "1538       0   31  48800.0               1                   0  10.099505\n",
       "3117       0   30  48800.0               2                   0  11.224972\n",
       "4394       0   28  48800.0               0                   0  13.038405\n",
       "2868       0   25  48800.0               1                   0  16.062378\n",
       "292        0   23  48800.0               2                   0  18.138357"
      ]
     },
     "metadata": {},
     "output_type": "display_data"
    },
    {
     "data": {
      "text/html": [
       "<div>\n",
       "<style scoped>\n",
       "    .dataframe tbody tr th:only-of-type {\n",
       "        vertical-align: middle;\n",
       "    }\n",
       "\n",
       "    .dataframe tbody tr th {\n",
       "        vertical-align: top;\n",
       "    }\n",
       "\n",
       "    .dataframe thead th {\n",
       "        text-align: right;\n",
       "    }\n",
       "</style>\n",
       "<table border=\"1\" class=\"dataframe\">\n",
       "  <thead>\n",
       "    <tr style=\"text-align: right;\">\n",
       "      <th></th>\n",
       "      <th>gender</th>\n",
       "      <th>age</th>\n",
       "      <th>income</th>\n",
       "      <th>family_members</th>\n",
       "      <th>insurance_benefits</th>\n",
       "      <th>distance</th>\n",
       "    </tr>\n",
       "  </thead>\n",
       "  <tbody>\n",
       "    <tr>\n",
       "      <th>777</th>\n",
       "      <td>1</td>\n",
       "      <td>41</td>\n",
       "      <td>48800.0</td>\n",
       "      <td>0</td>\n",
       "      <td>0</td>\n",
       "      <td>0.0</td>\n",
       "    </tr>\n",
       "    <tr>\n",
       "      <th>834</th>\n",
       "      <td>1</td>\n",
       "      <td>42</td>\n",
       "      <td>48800.0</td>\n",
       "      <td>2</td>\n",
       "      <td>0</td>\n",
       "      <td>3.0</td>\n",
       "    </tr>\n",
       "    <tr>\n",
       "      <th>3409</th>\n",
       "      <td>1</td>\n",
       "      <td>44</td>\n",
       "      <td>48800.0</td>\n",
       "      <td>1</td>\n",
       "      <td>1</td>\n",
       "      <td>4.0</td>\n",
       "    </tr>\n",
       "    <tr>\n",
       "      <th>3039</th>\n",
       "      <td>0</td>\n",
       "      <td>35</td>\n",
       "      <td>48800.0</td>\n",
       "      <td>0</td>\n",
       "      <td>0</td>\n",
       "      <td>7.0</td>\n",
       "    </tr>\n",
       "    <tr>\n",
       "      <th>1655</th>\n",
       "      <td>0</td>\n",
       "      <td>34</td>\n",
       "      <td>48800.0</td>\n",
       "      <td>1</td>\n",
       "      <td>0</td>\n",
       "      <td>9.0</td>\n",
       "    </tr>\n",
       "    <tr>\n",
       "      <th>1538</th>\n",
       "      <td>0</td>\n",
       "      <td>31</td>\n",
       "      <td>48800.0</td>\n",
       "      <td>1</td>\n",
       "      <td>0</td>\n",
       "      <td>12.0</td>\n",
       "    </tr>\n",
       "    <tr>\n",
       "      <th>4394</th>\n",
       "      <td>0</td>\n",
       "      <td>28</td>\n",
       "      <td>48800.0</td>\n",
       "      <td>0</td>\n",
       "      <td>0</td>\n",
       "      <td>14.0</td>\n",
       "    </tr>\n",
       "    <tr>\n",
       "      <th>3117</th>\n",
       "      <td>0</td>\n",
       "      <td>30</td>\n",
       "      <td>48800.0</td>\n",
       "      <td>2</td>\n",
       "      <td>0</td>\n",
       "      <td>14.0</td>\n",
       "    </tr>\n",
       "    <tr>\n",
       "      <th>2868</th>\n",
       "      <td>0</td>\n",
       "      <td>25</td>\n",
       "      <td>48800.0</td>\n",
       "      <td>1</td>\n",
       "      <td>0</td>\n",
       "      <td>18.0</td>\n",
       "    </tr>\n",
       "    <tr>\n",
       "      <th>1122</th>\n",
       "      <td>1</td>\n",
       "      <td>21</td>\n",
       "      <td>48800.0</td>\n",
       "      <td>0</td>\n",
       "      <td>0</td>\n",
       "      <td>20.0</td>\n",
       "    </tr>\n",
       "  </tbody>\n",
       "</table>\n",
       "</div>"
      ],
      "text/plain": [
       "      gender  age   income  family_members  insurance_benefits  distance\n",
       "777        1   41  48800.0               0                   0       0.0\n",
       "834        1   42  48800.0               2                   0       3.0\n",
       "3409       1   44  48800.0               1                   1       4.0\n",
       "3039       0   35  48800.0               0                   0       7.0\n",
       "1655       0   34  48800.0               1                   0       9.0\n",
       "1538       0   31  48800.0               1                   0      12.0\n",
       "4394       0   28  48800.0               0                   0      14.0\n",
       "3117       0   30  48800.0               2                   0      14.0\n",
       "2868       0   25  48800.0               1                   0      18.0\n",
       "1122       1   21  48800.0               0                   0      20.0"
      ]
     },
     "metadata": {},
     "output_type": "display_data"
    }
   ],
   "source": [
    "display(get_knn(df, 777, 10, \"euclidean\"))\n",
    "display(get_knn(df, 777, 10, \"manhattan\"))"
   ]
  },
  {
   "cell_type": "code",
   "execution_count": 19,
   "metadata": {},
   "outputs": [
    {
     "data": {
      "text/html": [
       "<div>\n",
       "<style scoped>\n",
       "    .dataframe tbody tr th:only-of-type {\n",
       "        vertical-align: middle;\n",
       "    }\n",
       "\n",
       "    .dataframe tbody tr th {\n",
       "        vertical-align: top;\n",
       "    }\n",
       "\n",
       "    .dataframe thead th {\n",
       "        text-align: right;\n",
       "    }\n",
       "</style>\n",
       "<table border=\"1\" class=\"dataframe\">\n",
       "  <thead>\n",
       "    <tr style=\"text-align: right;\">\n",
       "      <th></th>\n",
       "      <th>gender</th>\n",
       "      <th>age</th>\n",
       "      <th>income</th>\n",
       "      <th>family_members</th>\n",
       "      <th>insurance_benefits</th>\n",
       "      <th>distance</th>\n",
       "    </tr>\n",
       "  </thead>\n",
       "  <tbody>\n",
       "    <tr>\n",
       "      <th>777</th>\n",
       "      <td>1</td>\n",
       "      <td>41</td>\n",
       "      <td>48800.0</td>\n",
       "      <td>0</td>\n",
       "      <td>0</td>\n",
       "      <td>0.0</td>\n",
       "    </tr>\n",
       "    <tr>\n",
       "      <th>834</th>\n",
       "      <td>1</td>\n",
       "      <td>42</td>\n",
       "      <td>48800.0</td>\n",
       "      <td>2</td>\n",
       "      <td>0</td>\n",
       "      <td>3.0</td>\n",
       "    </tr>\n",
       "    <tr>\n",
       "      <th>3409</th>\n",
       "      <td>1</td>\n",
       "      <td>44</td>\n",
       "      <td>48800.0</td>\n",
       "      <td>1</td>\n",
       "      <td>1</td>\n",
       "      <td>4.0</td>\n",
       "    </tr>\n",
       "    <tr>\n",
       "      <th>3039</th>\n",
       "      <td>0</td>\n",
       "      <td>35</td>\n",
       "      <td>48800.0</td>\n",
       "      <td>0</td>\n",
       "      <td>0</td>\n",
       "      <td>7.0</td>\n",
       "    </tr>\n",
       "    <tr>\n",
       "      <th>1655</th>\n",
       "      <td>0</td>\n",
       "      <td>34</td>\n",
       "      <td>48800.0</td>\n",
       "      <td>1</td>\n",
       "      <td>0</td>\n",
       "      <td>9.0</td>\n",
       "    </tr>\n",
       "    <tr>\n",
       "      <th>1538</th>\n",
       "      <td>0</td>\n",
       "      <td>31</td>\n",
       "      <td>48800.0</td>\n",
       "      <td>1</td>\n",
       "      <td>0</td>\n",
       "      <td>12.0</td>\n",
       "    </tr>\n",
       "    <tr>\n",
       "      <th>4394</th>\n",
       "      <td>0</td>\n",
       "      <td>28</td>\n",
       "      <td>48800.0</td>\n",
       "      <td>0</td>\n",
       "      <td>0</td>\n",
       "      <td>14.0</td>\n",
       "    </tr>\n",
       "    <tr>\n",
       "      <th>3117</th>\n",
       "      <td>0</td>\n",
       "      <td>30</td>\n",
       "      <td>48800.0</td>\n",
       "      <td>2</td>\n",
       "      <td>0</td>\n",
       "      <td>14.0</td>\n",
       "    </tr>\n",
       "    <tr>\n",
       "      <th>2868</th>\n",
       "      <td>0</td>\n",
       "      <td>25</td>\n",
       "      <td>48800.0</td>\n",
       "      <td>1</td>\n",
       "      <td>0</td>\n",
       "      <td>18.0</td>\n",
       "    </tr>\n",
       "    <tr>\n",
       "      <th>1122</th>\n",
       "      <td>1</td>\n",
       "      <td>21</td>\n",
       "      <td>48800.0</td>\n",
       "      <td>0</td>\n",
       "      <td>0</td>\n",
       "      <td>20.0</td>\n",
       "    </tr>\n",
       "  </tbody>\n",
       "</table>\n",
       "</div>"
      ],
      "text/plain": [
       "      gender  age   income  family_members  insurance_benefits  distance\n",
       "777        1   41  48800.0               0                   0       0.0\n",
       "834        1   42  48800.0               2                   0       3.0\n",
       "3409       1   44  48800.0               1                   1       4.0\n",
       "3039       0   35  48800.0               0                   0       7.0\n",
       "1655       0   34  48800.0               1                   0       9.0\n",
       "1538       0   31  48800.0               1                   0      12.0\n",
       "4394       0   28  48800.0               0                   0      14.0\n",
       "3117       0   30  48800.0               2                   0      14.0\n",
       "2868       0   25  48800.0               1                   0      18.0\n",
       "1122       1   21  48800.0               0                   0      20.0"
      ]
     },
     "metadata": {},
     "output_type": "display_data"
    },
    {
     "data": {
      "text/html": [
       "<div>\n",
       "<style scoped>\n",
       "    .dataframe tbody tr th:only-of-type {\n",
       "        vertical-align: middle;\n",
       "    }\n",
       "\n",
       "    .dataframe tbody tr th {\n",
       "        vertical-align: top;\n",
       "    }\n",
       "\n",
       "    .dataframe thead th {\n",
       "        text-align: right;\n",
       "    }\n",
       "</style>\n",
       "<table border=\"1\" class=\"dataframe\">\n",
       "  <thead>\n",
       "    <tr style=\"text-align: right;\">\n",
       "      <th></th>\n",
       "      <th>gender</th>\n",
       "      <th>age</th>\n",
       "      <th>income</th>\n",
       "      <th>family_members</th>\n",
       "      <th>insurance_benefits</th>\n",
       "      <th>distance</th>\n",
       "    </tr>\n",
       "  </thead>\n",
       "  <tbody>\n",
       "    <tr>\n",
       "      <th>777</th>\n",
       "      <td>1.0</td>\n",
       "      <td>0.630769</td>\n",
       "      <td>0.617722</td>\n",
       "      <td>0.0</td>\n",
       "      <td>0</td>\n",
       "      <td>0.000000</td>\n",
       "    </tr>\n",
       "    <tr>\n",
       "      <th>176</th>\n",
       "      <td>1.0</td>\n",
       "      <td>0.630769</td>\n",
       "      <td>0.618987</td>\n",
       "      <td>0.0</td>\n",
       "      <td>0</td>\n",
       "      <td>0.001266</td>\n",
       "    </tr>\n",
       "    <tr>\n",
       "      <th>1992</th>\n",
       "      <td>1.0</td>\n",
       "      <td>0.630769</td>\n",
       "      <td>0.627848</td>\n",
       "      <td>0.0</td>\n",
       "      <td>0</td>\n",
       "      <td>0.010127</td>\n",
       "    </tr>\n",
       "    <tr>\n",
       "      <th>1073</th>\n",
       "      <td>1.0</td>\n",
       "      <td>0.646154</td>\n",
       "      <td>0.608861</td>\n",
       "      <td>0.0</td>\n",
       "      <td>1</td>\n",
       "      <td>0.024245</td>\n",
       "    </tr>\n",
       "    <tr>\n",
       "      <th>18</th>\n",
       "      <td>1.0</td>\n",
       "      <td>0.646154</td>\n",
       "      <td>0.629114</td>\n",
       "      <td>0.0</td>\n",
       "      <td>1</td>\n",
       "      <td>0.026777</td>\n",
       "    </tr>\n",
       "    <tr>\n",
       "      <th>2606</th>\n",
       "      <td>1.0</td>\n",
       "      <td>0.630769</td>\n",
       "      <td>0.645570</td>\n",
       "      <td>0.0</td>\n",
       "      <td>0</td>\n",
       "      <td>0.027848</td>\n",
       "    </tr>\n",
       "    <tr>\n",
       "      <th>3514</th>\n",
       "      <td>1.0</td>\n",
       "      <td>0.646154</td>\n",
       "      <td>0.598734</td>\n",
       "      <td>0.0</td>\n",
       "      <td>1</td>\n",
       "      <td>0.034372</td>\n",
       "    </tr>\n",
       "    <tr>\n",
       "      <th>2220</th>\n",
       "      <td>1.0</td>\n",
       "      <td>0.661538</td>\n",
       "      <td>0.611392</td>\n",
       "      <td>0.0</td>\n",
       "      <td>1</td>\n",
       "      <td>0.037098</td>\n",
       "    </tr>\n",
       "    <tr>\n",
       "      <th>820</th>\n",
       "      <td>1.0</td>\n",
       "      <td>0.630769</td>\n",
       "      <td>0.656962</td>\n",
       "      <td>0.0</td>\n",
       "      <td>0</td>\n",
       "      <td>0.039241</td>\n",
       "    </tr>\n",
       "    <tr>\n",
       "      <th>2847</th>\n",
       "      <td>1.0</td>\n",
       "      <td>0.646154</td>\n",
       "      <td>0.593671</td>\n",
       "      <td>0.0</td>\n",
       "      <td>1</td>\n",
       "      <td>0.039435</td>\n",
       "    </tr>\n",
       "  </tbody>\n",
       "</table>\n",
       "</div>"
      ],
      "text/plain": [
       "      gender       age    income  family_members  insurance_benefits  distance\n",
       "777      1.0  0.630769  0.617722             0.0                   0  0.000000\n",
       "176      1.0  0.630769  0.618987             0.0                   0  0.001266\n",
       "1992     1.0  0.630769  0.627848             0.0                   0  0.010127\n",
       "1073     1.0  0.646154  0.608861             0.0                   1  0.024245\n",
       "18       1.0  0.646154  0.629114             0.0                   1  0.026777\n",
       "2606     1.0  0.630769  0.645570             0.0                   0  0.027848\n",
       "3514     1.0  0.646154  0.598734             0.0                   1  0.034372\n",
       "2220     1.0  0.661538  0.611392             0.0                   1  0.037098\n",
       "820      1.0  0.630769  0.656962             0.0                   0  0.039241\n",
       "2847     1.0  0.646154  0.593671             0.0                   1  0.039435"
      ]
     },
     "metadata": {},
     "output_type": "display_data"
    }
   ],
   "source": [
    "display(get_knn(df, 777, 10, \"manhattan\"))\n",
    "display(get_knn(df_scaled, 777, 10, \"manhattan\"))"
   ]
  },
  {
   "cell_type": "code",
   "execution_count": 20,
   "metadata": {},
   "outputs": [
    {
     "data": {
      "text/html": [
       "<div>\n",
       "<style scoped>\n",
       "    .dataframe tbody tr th:only-of-type {\n",
       "        vertical-align: middle;\n",
       "    }\n",
       "\n",
       "    .dataframe tbody tr th {\n",
       "        vertical-align: top;\n",
       "    }\n",
       "\n",
       "    .dataframe thead th {\n",
       "        text-align: right;\n",
       "    }\n",
       "</style>\n",
       "<table border=\"1\" class=\"dataframe\">\n",
       "  <thead>\n",
       "    <tr style=\"text-align: right;\">\n",
       "      <th></th>\n",
       "      <th>gender</th>\n",
       "      <th>age</th>\n",
       "      <th>income</th>\n",
       "      <th>family_members</th>\n",
       "      <th>insurance_benefits</th>\n",
       "      <th>distance</th>\n",
       "    </tr>\n",
       "  </thead>\n",
       "  <tbody>\n",
       "    <tr>\n",
       "      <th>777</th>\n",
       "      <td>1.0</td>\n",
       "      <td>0.630769</td>\n",
       "      <td>0.617722</td>\n",
       "      <td>0.0</td>\n",
       "      <td>0</td>\n",
       "      <td>0.000000</td>\n",
       "    </tr>\n",
       "    <tr>\n",
       "      <th>176</th>\n",
       "      <td>1.0</td>\n",
       "      <td>0.630769</td>\n",
       "      <td>0.618987</td>\n",
       "      <td>0.0</td>\n",
       "      <td>0</td>\n",
       "      <td>0.001266</td>\n",
       "    </tr>\n",
       "    <tr>\n",
       "      <th>1992</th>\n",
       "      <td>1.0</td>\n",
       "      <td>0.630769</td>\n",
       "      <td>0.627848</td>\n",
       "      <td>0.0</td>\n",
       "      <td>0</td>\n",
       "      <td>0.010127</td>\n",
       "    </tr>\n",
       "    <tr>\n",
       "      <th>1073</th>\n",
       "      <td>1.0</td>\n",
       "      <td>0.646154</td>\n",
       "      <td>0.608861</td>\n",
       "      <td>0.0</td>\n",
       "      <td>1</td>\n",
       "      <td>0.017754</td>\n",
       "    </tr>\n",
       "    <tr>\n",
       "      <th>18</th>\n",
       "      <td>1.0</td>\n",
       "      <td>0.646154</td>\n",
       "      <td>0.629114</td>\n",
       "      <td>0.0</td>\n",
       "      <td>1</td>\n",
       "      <td>0.019143</td>\n",
       "    </tr>\n",
       "    <tr>\n",
       "      <th>3514</th>\n",
       "      <td>1.0</td>\n",
       "      <td>0.646154</td>\n",
       "      <td>0.598734</td>\n",
       "      <td>0.0</td>\n",
       "      <td>1</td>\n",
       "      <td>0.024438</td>\n",
       "    </tr>\n",
       "    <tr>\n",
       "      <th>2606</th>\n",
       "      <td>1.0</td>\n",
       "      <td>0.630769</td>\n",
       "      <td>0.645570</td>\n",
       "      <td>0.0</td>\n",
       "      <td>0</td>\n",
       "      <td>0.027848</td>\n",
       "    </tr>\n",
       "    <tr>\n",
       "      <th>2847</th>\n",
       "      <td>1.0</td>\n",
       "      <td>0.646154</td>\n",
       "      <td>0.593671</td>\n",
       "      <td>0.0</td>\n",
       "      <td>1</td>\n",
       "      <td>0.028550</td>\n",
       "    </tr>\n",
       "    <tr>\n",
       "      <th>4262</th>\n",
       "      <td>1.0</td>\n",
       "      <td>0.615385</td>\n",
       "      <td>0.592405</td>\n",
       "      <td>0.0</td>\n",
       "      <td>0</td>\n",
       "      <td>0.029624</td>\n",
       "    </tr>\n",
       "    <tr>\n",
       "      <th>260</th>\n",
       "      <td>1.0</td>\n",
       "      <td>0.646154</td>\n",
       "      <td>0.591139</td>\n",
       "      <td>0.0</td>\n",
       "      <td>1</td>\n",
       "      <td>0.030713</td>\n",
       "    </tr>\n",
       "  </tbody>\n",
       "</table>\n",
       "</div>"
      ],
      "text/plain": [
       "      gender       age    income  family_members  insurance_benefits  distance\n",
       "777      1.0  0.630769  0.617722             0.0                   0  0.000000\n",
       "176      1.0  0.630769  0.618987             0.0                   0  0.001266\n",
       "1992     1.0  0.630769  0.627848             0.0                   0  0.010127\n",
       "1073     1.0  0.646154  0.608861             0.0                   1  0.017754\n",
       "18       1.0  0.646154  0.629114             0.0                   1  0.019143\n",
       "3514     1.0  0.646154  0.598734             0.0                   1  0.024438\n",
       "2606     1.0  0.630769  0.645570             0.0                   0  0.027848\n",
       "2847     1.0  0.646154  0.593671             0.0                   1  0.028550\n",
       "4262     1.0  0.615385  0.592405             0.0                   0  0.029624\n",
       "260      1.0  0.646154  0.591139             0.0                   1  0.030713"
      ]
     },
     "metadata": {},
     "output_type": "display_data"
    },
    {
     "data": {
      "text/html": [
       "<div>\n",
       "<style scoped>\n",
       "    .dataframe tbody tr th:only-of-type {\n",
       "        vertical-align: middle;\n",
       "    }\n",
       "\n",
       "    .dataframe tbody tr th {\n",
       "        vertical-align: top;\n",
       "    }\n",
       "\n",
       "    .dataframe thead th {\n",
       "        text-align: right;\n",
       "    }\n",
       "</style>\n",
       "<table border=\"1\" class=\"dataframe\">\n",
       "  <thead>\n",
       "    <tr style=\"text-align: right;\">\n",
       "      <th></th>\n",
       "      <th>gender</th>\n",
       "      <th>age</th>\n",
       "      <th>income</th>\n",
       "      <th>family_members</th>\n",
       "      <th>insurance_benefits</th>\n",
       "      <th>distance</th>\n",
       "    </tr>\n",
       "  </thead>\n",
       "  <tbody>\n",
       "    <tr>\n",
       "      <th>777</th>\n",
       "      <td>1.0</td>\n",
       "      <td>0.630769</td>\n",
       "      <td>0.617722</td>\n",
       "      <td>0.0</td>\n",
       "      <td>0</td>\n",
       "      <td>0.000000</td>\n",
       "    </tr>\n",
       "    <tr>\n",
       "      <th>176</th>\n",
       "      <td>1.0</td>\n",
       "      <td>0.630769</td>\n",
       "      <td>0.618987</td>\n",
       "      <td>0.0</td>\n",
       "      <td>0</td>\n",
       "      <td>0.001266</td>\n",
       "    </tr>\n",
       "    <tr>\n",
       "      <th>1992</th>\n",
       "      <td>1.0</td>\n",
       "      <td>0.630769</td>\n",
       "      <td>0.627848</td>\n",
       "      <td>0.0</td>\n",
       "      <td>0</td>\n",
       "      <td>0.010127</td>\n",
       "    </tr>\n",
       "    <tr>\n",
       "      <th>1073</th>\n",
       "      <td>1.0</td>\n",
       "      <td>0.646154</td>\n",
       "      <td>0.608861</td>\n",
       "      <td>0.0</td>\n",
       "      <td>1</td>\n",
       "      <td>0.024245</td>\n",
       "    </tr>\n",
       "    <tr>\n",
       "      <th>18</th>\n",
       "      <td>1.0</td>\n",
       "      <td>0.646154</td>\n",
       "      <td>0.629114</td>\n",
       "      <td>0.0</td>\n",
       "      <td>1</td>\n",
       "      <td>0.026777</td>\n",
       "    </tr>\n",
       "    <tr>\n",
       "      <th>2606</th>\n",
       "      <td>1.0</td>\n",
       "      <td>0.630769</td>\n",
       "      <td>0.645570</td>\n",
       "      <td>0.0</td>\n",
       "      <td>0</td>\n",
       "      <td>0.027848</td>\n",
       "    </tr>\n",
       "    <tr>\n",
       "      <th>3514</th>\n",
       "      <td>1.0</td>\n",
       "      <td>0.646154</td>\n",
       "      <td>0.598734</td>\n",
       "      <td>0.0</td>\n",
       "      <td>1</td>\n",
       "      <td>0.034372</td>\n",
       "    </tr>\n",
       "    <tr>\n",
       "      <th>2220</th>\n",
       "      <td>1.0</td>\n",
       "      <td>0.661538</td>\n",
       "      <td>0.611392</td>\n",
       "      <td>0.0</td>\n",
       "      <td>1</td>\n",
       "      <td>0.037098</td>\n",
       "    </tr>\n",
       "    <tr>\n",
       "      <th>820</th>\n",
       "      <td>1.0</td>\n",
       "      <td>0.630769</td>\n",
       "      <td>0.656962</td>\n",
       "      <td>0.0</td>\n",
       "      <td>0</td>\n",
       "      <td>0.039241</td>\n",
       "    </tr>\n",
       "    <tr>\n",
       "      <th>2847</th>\n",
       "      <td>1.0</td>\n",
       "      <td>0.646154</td>\n",
       "      <td>0.593671</td>\n",
       "      <td>0.0</td>\n",
       "      <td>1</td>\n",
       "      <td>0.039435</td>\n",
       "    </tr>\n",
       "  </tbody>\n",
       "</table>\n",
       "</div>"
      ],
      "text/plain": [
       "      gender       age    income  family_members  insurance_benefits  distance\n",
       "777      1.0  0.630769  0.617722             0.0                   0  0.000000\n",
       "176      1.0  0.630769  0.618987             0.0                   0  0.001266\n",
       "1992     1.0  0.630769  0.627848             0.0                   0  0.010127\n",
       "1073     1.0  0.646154  0.608861             0.0                   1  0.024245\n",
       "18       1.0  0.646154  0.629114             0.0                   1  0.026777\n",
       "2606     1.0  0.630769  0.645570             0.0                   0  0.027848\n",
       "3514     1.0  0.646154  0.598734             0.0                   1  0.034372\n",
       "2220     1.0  0.661538  0.611392             0.0                   1  0.037098\n",
       "820      1.0  0.630769  0.656962             0.0                   0  0.039241\n",
       "2847     1.0  0.646154  0.593671             0.0                   1  0.039435"
      ]
     },
     "metadata": {},
     "output_type": "display_data"
    }
   ],
   "source": [
    "display(get_knn(df_scaled, 777, 10, \"euclidean\"))\n",
    "display(get_knn(df_scaled, 777, 10, \"manhattan\"))"
   ]
  },
  {
   "cell_type": "markdown",
   "metadata": {},
   "source": [
    "Respuestas a las preguntas"
   ]
  },
  {
   "cell_type": "markdown",
   "metadata": {},
   "source": [
    "**¿El hecho de que los datos no estén escalados afecta al algoritmo kNN? Si es así, ¿cómo se manifiesta?** \n",
    "\n",
    "Respuesta: Sí afecta, cuando los valores están escalados se obtiene una mayo presición en los cálculos ya que su rango queda en el intervalo (-1, 1)."
   ]
  },
  {
   "cell_type": "markdown",
   "metadata": {},
   "source": [
    "**¿Qué tan similares son los resultados al utilizar la métrica de distancia Manhattan (independientemente del escalado)?** \n",
    "\n",
    "Respuesta: Por lo anteriores ejemplos, vemos que hay cierta similitud entre los primeros 3 a 5 lugares despúes empieza a tener variaciones en el orden en que se situan."
   ]
  },
  {
   "cell_type": "markdown",
   "metadata": {},
   "source": [
    "# Tarea 2. ¿Es probable que el cliente reciba una prestación del seguro?"
   ]
  },
  {
   "cell_type": "markdown",
   "metadata": {},
   "source": [
    "En términos de machine learning podemos considerarlo como una tarea de clasificación binaria."
   ]
  },
  {
   "cell_type": "markdown",
   "metadata": {},
   "source": [
    "Con el valor de `insurance_benefits` superior a cero como objetivo, evalúa si el enfoque de clasificación kNN puede funcionar mejor que el modelo dummy.\n",
    "Instrucciones:\n",
    "- Construye un clasificador basado en KNN y mide su calidad con la métrica F1 para k=1...10 tanto para los datos originales como para los escalados. Sería interesante observar cómo k puede influir en la métrica de evaluación y si el escalado de los datos provoca alguna diferencia. Puedes utilizar una implementación ya existente del algoritmo de clasificación kNN de scikit-learn (consulta [el enlace](https://scikit-learn.org/stable/modules/generated/sklearn.neighbors.KNeighborsClassifier.html)) o tu propia implementación.- Construye un modelo dummy que, en este caso, es simplemente un modelo aleatorio. Debería devolver \"1\" con cierta probabilidad. Probemos el modelo con cuatro valores de probabilidad: 0, la probabilidad de pagar cualquier prestación del seguro, 0.5, 1.\n",
    "La probabilidad de pagar cualquier prestación del seguro puede definirse como\n",
    "$$\n",
    "P\\{\\text{prestación de seguro recibida}\\}=\\frac{\\text{número de clientes que han recibido alguna prestación de seguro}}{\\text{número total de clientes}}.\n",
    "$$\n",
    "\n",
    "Divide todos los datos correspondientes a las etapas de entrenamiento/prueba respetando la proporción 70:30."
   ]
  },
  {
   "cell_type": "code",
   "execution_count": 21,
   "metadata": {},
   "outputs": [
    {
     "name": "stdout",
     "output_type": "stream",
     "text": [
      "0       False\n",
      "1        True\n",
      "2       False\n",
      "3       False\n",
      "4       False\n",
      "        ...  \n",
      "4842    False\n",
      "4843    False\n",
      "4844    False\n",
      "4845    False\n",
      "4846    False\n",
      "Name: insurance_benefits_received, Length: 4847, dtype: bool\n"
     ]
    }
   ],
   "source": [
    "# сalcula el objetivo\n",
    "df['insurance_benefits_received'] = df[\"insurance_benefits\"] > 0\n",
    "print(df['insurance_benefits_received'])"
   ]
  },
  {
   "cell_type": "code",
   "execution_count": 22,
   "metadata": {},
   "outputs": [
    {
     "name": "stdout",
     "output_type": "stream",
     "text": [
      "0    0.883846\n",
      "1    0.087270\n",
      "2    0.023520\n",
      "3    0.003714\n",
      "4    0.001444\n",
      "5    0.000206\n",
      "Name: insurance_benefits, dtype: float64\n"
     ]
    }
   ],
   "source": [
    "# comprueba el desequilibrio de clases con value_counts()\n",
    "print(df[\"insurance_benefits\"].value_counts(normalize = True))\n",
    "# <tu código aquí>"
   ]
  },
  {
   "cell_type": "code",
   "execution_count": 23,
   "metadata": {},
   "outputs": [],
   "source": [
    "def eval_classifier(y_true, y_pred):\n",
    "    \n",
    "    f1_score = sklearn.metrics.f1_score(y_true, y_pred)\n",
    "    print(f'F1: {f1_score:.2f}')\n",
    "    \n",
    "# si tienes algún problema con la siguiente línea, reinicia el kernel y ejecuta el cuaderno de nuevo    \n",
    "    cm = sklearn.metrics.confusion_matrix(y_true, y_pred, normalize='all')\n",
    "    print('Matriz de confusión')\n",
    "    print(cm)"
   ]
  },
  {
   "cell_type": "code",
   "execution_count": 24,
   "metadata": {},
   "outputs": [],
   "source": [
    "# generar la salida de un modelo aleatorio\n",
    "\n",
    "def rnd_model_predict(P, size, seed=42):\n",
    "\n",
    "    rng = np.random.default_rng(seed=seed)\n",
    "    return rng.binomial(n=1, p=P, size=size)"
   ]
  },
  {
   "cell_type": "code",
   "execution_count": 25,
   "metadata": {},
   "outputs": [
    {
     "name": "stdout",
     "output_type": "stream",
     "text": [
      "La probabilidad: 0.00\n",
      "F1: 0.00\n",
      "Matriz de confusión\n",
      "[[0.88384568 0.        ]\n",
      " [0.11615432 0.        ]]\n",
      "\n",
      "La probabilidad: 0.12\n",
      "F1: 0.13\n",
      "Matriz de confusión\n",
      "[[0.78502166 0.09882401]\n",
      " [0.1017124  0.01444192]]\n",
      "\n",
      "La probabilidad: 0.50\n",
      "F1: 0.19\n",
      "Matriz de confusión\n",
      "[[0.44873117 0.4351145 ]\n",
      " [0.05921188 0.05694244]]\n",
      "\n",
      "La probabilidad: 1.00\n",
      "F1: 0.21\n",
      "Matriz de confusión\n",
      "[[0.         0.88384568]\n",
      " [0.         0.11615432]]\n",
      "\n"
     ]
    }
   ],
   "source": [
    "for P in [0, df['insurance_benefits_received'].sum() / len(df), 0.5, 1]:\n",
    "\n",
    "    print(f'La probabilidad: {P:.2f}')\n",
    "    y_pred_rnd = rnd_model_predict(P, len(df), seed= 42) # <tu código aquí> \n",
    "        \n",
    "    eval_classifier(df['insurance_benefits_received'], y_pred_rnd)\n",
    "    \n",
    "    print()"
   ]
  },
  {
   "cell_type": "markdown",
   "metadata": {},
   "source": [
    "### Ahora vamos a utilizar los datos no escalados"
   ]
  },
  {
   "cell_type": "code",
   "execution_count": 26,
   "metadata": {},
   "outputs": [
    {
     "name": "stdout",
     "output_type": "stream",
     "text": [
      "(3392, 4)\n",
      "(1455, 4)\n"
     ]
    },
    {
     "data": {
      "text/plain": [
       "1321    0\n",
       "3767    0\n",
       "166     0\n",
       "2935    0\n",
       "423     1\n",
       "       ..\n",
       "1818    0\n",
       "641     0\n",
       "2667    0\n",
       "3342    0\n",
       "4708    0\n",
       "Name: insurance_benefits_received, Length: 1455, dtype: int64"
      ]
     },
     "metadata": {},
     "output_type": "display_data"
    }
   ],
   "source": [
    "features = df[feature_names]\n",
    "\n",
    "etiqueta = {False :0, True: 1 }\n",
    "df['insurance_benefits_received'] = df['insurance_benefits_received'].map(etiqueta)\n",
    "\n",
    "target = df[\"insurance_benefits_received\"]\n",
    "\n",
    "#feature_names = ['gender', 'age', 'income', 'family_members']\n",
    "\n",
    "features_train, features_test, target_train, target_test = train_test_split(features, target, test_size=0.3, random_state= 12345)\n",
    "\n",
    "print(features_train.shape)\n",
    "print(features_test.shape)\n",
    "display(target_test)"
   ]
  },
  {
   "cell_type": "markdown",
   "metadata": {},
   "source": [
    "Hasta el momento definimos de la base de datos las caractéristicas y el objetivo. Después creamos la partición para entrenar el modelo y para la prueba."
   ]
  },
  {
   "cell_type": "code",
   "execution_count": 27,
   "metadata": {},
   "outputs": [
    {
     "name": "stdout",
     "output_type": "stream",
     "text": [
      "Para vecinos igual a 1\n",
      "F1: 0.67\n",
      "[[0.86185567 0.02268041]\n",
      " [0.04536082 0.07010309]]\n",
      "\n",
      "Para vecinos igual a 2\n",
      "F1: 0.37\n",
      "[[0.87972509 0.004811  ]\n",
      " [0.08797251 0.02749141]]\n",
      "\n",
      "Para vecinos igual a 3\n",
      "F1: 0.38\n",
      "[[0.87147766 0.01305842]\n",
      " [0.08522337 0.03024055]]\n",
      "\n",
      "Para vecinos igual a 4\n",
      "F1: 0.18\n",
      "[[0.87972509 0.004811  ]\n",
      " [0.10378007 0.01168385]]\n",
      "\n",
      "Para vecinos igual a 5\n",
      "F1: 0.23\n",
      "[[0.87766323 0.00687285]\n",
      " [0.09965636 0.01580756]]\n",
      "\n",
      "Para vecinos igual a 6\n",
      "F1: 0.06\n",
      "[[8.83848797e-01 6.87285223e-04]\n",
      " [1.12027491e-01 3.43642612e-03]]\n",
      "\n",
      "Para vecinos igual a 7\n",
      "F1: 0.07\n",
      "[[0.88316151 0.00137457]\n",
      " [0.11134021 0.00412371]]\n",
      "\n",
      "Para vecinos igual a 8\n",
      "F1: 0.00\n",
      "[[0.88453608 0.        ]\n",
      " [0.11546392 0.        ]]\n",
      "\n",
      "Para vecinos igual a 9\n",
      "F1: 0.01\n",
      "[[8.84536082e-01 0.00000000e+00]\n",
      " [1.14776632e-01 6.87285223e-04]]\n",
      "\n",
      "Para vecinos igual a 10\n",
      "F1: 0.00\n",
      "[[0.88453608 0.        ]\n",
      " [0.11546392 0.        ]]\n",
      "\n"
     ]
    }
   ],
   "source": [
    "for n in range(1, 11 ,1):\n",
    "    model = KNeighborsClassifier(n_neighbors= n, metric= \"euclidean\")\n",
    "    model.fit(features_train, target_train)\n",
    "    predicted_test = model.predict(features_test)\n",
    "    matriz_confusion = sklearn.metrics.confusion_matrix(target_test, predicted_test, normalize='all')\n",
    "\n",
    "    print(f'Para vecinos igual a {n}')\n",
    "    print(f'F1: {f1_score(target_test, predicted_test):,.2f}')\n",
    "    print(f'{matriz_confusion}')\n",
    "    print()"
   ]
  },
  {
   "cell_type": "markdown",
   "metadata": {},
   "source": [
    "Por lo datos anteriores, podemos decir que el mejor resultado para los datos no escalados fue con el número de vecinos igual a 1, dando la métrica f1= 0.67 como mejor resultado de todos los casos."
   ]
  },
  {
   "cell_type": "markdown",
   "metadata": {},
   "source": [
    "### Ahora vamos a utilizar los datos escalados"
   ]
  },
  {
   "cell_type": "code",
   "execution_count": 28,
   "metadata": {},
   "outputs": [
    {
     "name": "stdout",
     "output_type": "stream",
     "text": [
      "(3392, 4)\n",
      "(1455, 4)\n"
     ]
    },
    {
     "data": {
      "text/html": [
       "<div>\n",
       "<style scoped>\n",
       "    .dataframe tbody tr th:only-of-type {\n",
       "        vertical-align: middle;\n",
       "    }\n",
       "\n",
       "    .dataframe tbody tr th {\n",
       "        vertical-align: top;\n",
       "    }\n",
       "\n",
       "    .dataframe thead th {\n",
       "        text-align: right;\n",
       "    }\n",
       "</style>\n",
       "<table border=\"1\" class=\"dataframe\">\n",
       "  <thead>\n",
       "    <tr style=\"text-align: right;\">\n",
       "      <th></th>\n",
       "      <th>gender</th>\n",
       "      <th>age</th>\n",
       "      <th>income</th>\n",
       "      <th>family_members</th>\n",
       "    </tr>\n",
       "  </thead>\n",
       "  <tbody>\n",
       "    <tr>\n",
       "      <th>1321</th>\n",
       "      <td>1.0</td>\n",
       "      <td>0.353846</td>\n",
       "      <td>0.597468</td>\n",
       "      <td>0.000000</td>\n",
       "    </tr>\n",
       "    <tr>\n",
       "      <th>3767</th>\n",
       "      <td>1.0</td>\n",
       "      <td>0.492308</td>\n",
       "      <td>0.834177</td>\n",
       "      <td>0.000000</td>\n",
       "    </tr>\n",
       "    <tr>\n",
       "      <th>166</th>\n",
       "      <td>1.0</td>\n",
       "      <td>0.507692</td>\n",
       "      <td>0.429114</td>\n",
       "      <td>0.333333</td>\n",
       "    </tr>\n",
       "    <tr>\n",
       "      <th>2935</th>\n",
       "      <td>0.0</td>\n",
       "      <td>0.600000</td>\n",
       "      <td>0.244304</td>\n",
       "      <td>0.333333</td>\n",
       "    </tr>\n",
       "    <tr>\n",
       "      <th>423</th>\n",
       "      <td>0.0</td>\n",
       "      <td>0.707692</td>\n",
       "      <td>0.348101</td>\n",
       "      <td>0.333333</td>\n",
       "    </tr>\n",
       "    <tr>\n",
       "      <th>...</th>\n",
       "      <td>...</td>\n",
       "      <td>...</td>\n",
       "      <td>...</td>\n",
       "      <td>...</td>\n",
       "    </tr>\n",
       "    <tr>\n",
       "      <th>1818</th>\n",
       "      <td>1.0</td>\n",
       "      <td>0.292308</td>\n",
       "      <td>0.588608</td>\n",
       "      <td>0.333333</td>\n",
       "    </tr>\n",
       "    <tr>\n",
       "      <th>641</th>\n",
       "      <td>1.0</td>\n",
       "      <td>0.307692</td>\n",
       "      <td>0.434177</td>\n",
       "      <td>0.166667</td>\n",
       "    </tr>\n",
       "    <tr>\n",
       "      <th>2667</th>\n",
       "      <td>1.0</td>\n",
       "      <td>0.553846</td>\n",
       "      <td>0.810127</td>\n",
       "      <td>0.500000</td>\n",
       "    </tr>\n",
       "    <tr>\n",
       "      <th>3342</th>\n",
       "      <td>0.0</td>\n",
       "      <td>0.476923</td>\n",
       "      <td>0.235443</td>\n",
       "      <td>0.166667</td>\n",
       "    </tr>\n",
       "    <tr>\n",
       "      <th>4708</th>\n",
       "      <td>1.0</td>\n",
       "      <td>0.553846</td>\n",
       "      <td>0.544304</td>\n",
       "      <td>0.666667</td>\n",
       "    </tr>\n",
       "  </tbody>\n",
       "</table>\n",
       "<p>1455 rows × 4 columns</p>\n",
       "</div>"
      ],
      "text/plain": [
       "      gender       age    income  family_members\n",
       "1321     1.0  0.353846  0.597468        0.000000\n",
       "3767     1.0  0.492308  0.834177        0.000000\n",
       "166      1.0  0.507692  0.429114        0.333333\n",
       "2935     0.0  0.600000  0.244304        0.333333\n",
       "423      0.0  0.707692  0.348101        0.333333\n",
       "...      ...       ...       ...             ...\n",
       "1818     1.0  0.292308  0.588608        0.333333\n",
       "641      1.0  0.307692  0.434177        0.166667\n",
       "2667     1.0  0.553846  0.810127        0.500000\n",
       "3342     0.0  0.476923  0.235443        0.166667\n",
       "4708     1.0  0.553846  0.544304        0.666667\n",
       "\n",
       "[1455 rows x 4 columns]"
      ]
     },
     "metadata": {},
     "output_type": "display_data"
    },
    {
     "data": {
      "text/plain": [
       "1321    0\n",
       "3767    0\n",
       "166     0\n",
       "2935    0\n",
       "423     1\n",
       "       ..\n",
       "1818    0\n",
       "641     0\n",
       "2667    0\n",
       "3342    0\n",
       "4708    0\n",
       "Name: insurance_benefits_received, Length: 1455, dtype: int64"
      ]
     },
     "metadata": {},
     "output_type": "display_data"
    }
   ],
   "source": [
    "features_scaled = df_scaled[feature_names]\n",
    "#feature_names = ['gender', 'age', 'income', 'family_members']\n",
    "\n",
    "features_train_scaled, features_test_scaled, target_train_scaled, target_test_scaled = train_test_split(features_scaled, target, test_size=0.3, random_state= 12345)\n",
    "\n",
    "print(features_train_scaled.shape)\n",
    "print(features_test_scaled.shape)\n",
    "display(features_test_scaled)\n",
    "display(target_test_scaled)"
   ]
  },
  {
   "cell_type": "code",
   "execution_count": 29,
   "metadata": {},
   "outputs": [
    {
     "name": "stdout",
     "output_type": "stream",
     "text": [
      "Para vecinos igual a 1\n",
      "F1: 0.93\n",
      "[[0.87972509 0.004811  ]\n",
      " [0.01168385 0.10378007]]\n",
      "\n",
      "Para vecinos igual a 2\n",
      "F1: 0.89\n",
      "[[0.88247423 0.00206186]\n",
      " [0.02199313 0.09347079]]\n",
      "\n",
      "Para vecinos igual a 3\n",
      "F1: 0.91\n",
      "[[0.88041237 0.00412371]\n",
      " [0.01649485 0.09896907]]\n",
      "\n",
      "Para vecinos igual a 4\n",
      "F1: 0.88\n",
      "[[0.88178694 0.00274914]\n",
      " [0.0233677  0.09209622]]\n",
      "\n",
      "Para vecinos igual a 5\n",
      "F1: 0.89\n",
      "[[0.87972509 0.004811  ]\n",
      " [0.0185567  0.09690722]]\n",
      "\n",
      "Para vecinos igual a 6\n",
      "F1: 0.87\n",
      "[[0.88178694 0.00274914]\n",
      " [0.02405498 0.09140893]]\n",
      "\n",
      "Para vecinos igual a 7\n",
      "F1: 0.90\n",
      "[[0.88178694 0.00274914]\n",
      " [0.01924399 0.09621993]]\n",
      "\n",
      "Para vecinos igual a 8\n",
      "F1: 0.86\n",
      "[[0.88178694 0.00274914]\n",
      " [0.02542955 0.09003436]]\n",
      "\n",
      "Para vecinos igual a 9\n",
      "F1: 0.87\n",
      "[[0.88178694 0.00274914]\n",
      " [0.02405498 0.09140893]]\n",
      "\n",
      "Para vecinos igual a 10\n",
      "F1: 0.86\n",
      "[[0.88178694 0.00274914]\n",
      " [0.02542955 0.09003436]]\n",
      "\n"
     ]
    }
   ],
   "source": [
    "for n in range(1, 11 ,1):\n",
    "    model = KNeighborsClassifier(n_neighbors= n, metric= \"euclidean\")\n",
    "    model.fit(features_train_scaled, target_train_scaled)\n",
    "    predicted_test_scaled = model.predict(features_test_scaled)\n",
    "    matriz_confusion_1 = sklearn.metrics.confusion_matrix(target_test_scaled, predicted_test_scaled, normalize='all')\n",
    "\n",
    "    print(f'Para vecinos igual a {n}')\n",
    "    print(f'F1: {f1_score(target_test_scaled, predicted_test_scaled):,.2f}')\n",
    "    print(f'{matriz_confusion_1}')\n",
    "    print()"
   ]
  },
  {
   "cell_type": "markdown",
   "metadata": {},
   "source": [
    "Por lo anterior, usando los datos escalados vemos que usando el número de vecinos igual a 1 fue el que tuvo mejor resultado en la métrica f1 con un valor de 0.93."
   ]
  },
  {
   "cell_type": "markdown",
   "metadata": {},
   "source": [
    "En conclusión, con respecto a la métrica f1 fue mejor usar los datos escalados ya que el rango fue de (0.86, 0.93) usando las vecindades de 1 a 10. En el caso de los datos sin escalar el rango de f1 fue de (0, 0.67) usando las vecindades de 1 a 10. Esto confirma que es mejor usar los datos escalados para entrenar el modelo."
   ]
  },
  {
   "cell_type": "markdown",
   "metadata": {},
   "source": [
    "# Tarea 3. Regresión (con regresión lineal)"
   ]
  },
  {
   "cell_type": "markdown",
   "metadata": {},
   "source": [
    "Con `insurance_benefits` como objetivo, evalúa cuál sería la RECM de un modelo de regresión lineal."
   ]
  },
  {
   "cell_type": "markdown",
   "metadata": {},
   "source": [
    "Construye tu propia implementación de regresión lineal. Para ello, recuerda cómo está formulada la solución de la tarea de regresión lineal en términos de LA. Comprueba la RECM tanto para los datos originales como para los escalados. ¿Puedes ver alguna diferencia en la RECM con respecto a estos dos casos?\n",
    "\n",
    "Denotemos- $X$: matriz de características; cada fila es un caso, cada columna es una característica, la primera columna está formada por unidades- $y$ — objetivo (un vector)- $\\hat{y}$ — objetivo estimado (un vector)- $w$ — vector de pesos\n",
    "La tarea de regresión lineal en el lenguaje de las matrices puede formularse así:\n",
    "$$\n",
    "y = Xw\n",
    "$$\n",
    "\n",
    "El objetivo de entrenamiento es entonces encontrar esa $w$ w que minimice la distancia L2 (ECM) entre $Xw$ y $y$:\n",
    "\n",
    "$$\n",
    "\\min_w d_2(Xw, y) \\quad \\text{or} \\quad \\min_w \\text{MSE}(Xw, y)\n",
    "$$\n",
    "\n",
    "Parece que hay una solución analítica para lo anteriormente expuesto:\n",
    "$$\n",
    "w = (X^T X)^{-1} X^T y\n",
    "$$\n",
    "\n",
    "La fórmula anterior puede servir para encontrar los pesos $w$ y estos últimos pueden utilizarse para calcular los valores predichos\n",
    "$$\n",
    "\\hat{y} = X_{val}w\n",
    "$$"
   ]
  },
  {
   "cell_type": "markdown",
   "metadata": {},
   "source": [
    "Divide todos los datos correspondientes a las etapas de entrenamiento/prueba respetando la proporción 70:30. Utiliza la métrica RECM para evaluar el modelo."
   ]
  },
  {
   "cell_type": "code",
   "execution_count": 30,
   "metadata": {},
   "outputs": [],
   "source": [
    "class MyLinearRegression:\n",
    "    \n",
    "    def __init__(self):\n",
    "        \n",
    "        self.weights = None\n",
    "    \n",
    "    def fit(self, X, y):\n",
    "        \n",
    "        # añadir las unidades\n",
    "        X2 = np.append(np.ones([len(X), 1]), X, axis=1)\n",
    "        self.weights = np.linalg.inv(X2.T @ X2) @ X2.T @ y # <tu código aquí>\n",
    "\n",
    "    def predict(self, X):\n",
    "        \n",
    "        # añadir las unidades\n",
    "        X2 = np.append(np.ones([len(X), 1]), X, axis=1) # <tu código aquí>\n",
    "        y_pred = X2 @ self.weights # <tu código aquí>\n",
    "        \n",
    "        return y_pred"
   ]
  },
  {
   "cell_type": "code",
   "execution_count": 31,
   "metadata": {},
   "outputs": [],
   "source": [
    "def eval_regressor(y_true, y_pred):\n",
    "    \n",
    "    rmse = math.sqrt(sklearn.metrics.mean_squared_error(y_true, y_pred))\n",
    "    print(f'RMSE: {rmse:.2f}')\n",
    "    \n",
    "    r2_score = math.sqrt(sklearn.metrics.r2_score(y_true, y_pred))\n",
    "    print(f'R2: {r2_score:.2f}')    "
   ]
  },
  {
   "cell_type": "markdown",
   "metadata": {},
   "source": [
    "**Nota: Hay un error en r2_score ya usa la raíz cuadrada (r2_score = ***math.sqrt***(sklearn.metrics.r2_score(y_true, y_pred))**.\n",
    "\n",
    "Lo deje porque así venía la plantilla o proyecto."
   ]
  },
  {
   "cell_type": "code",
   "execution_count": 32,
   "metadata": {},
   "outputs": [
    {
     "name": "stdout",
     "output_type": "stream",
     "text": [
      "[-9.77366729e-01  3.58042291e-02  1.95594888e-02  5.85336165e-07\n",
      " -1.21618420e-02]\n",
      "RMSE: 0.36\n",
      "R2: 0.66\n"
     ]
    }
   ],
   "source": [
    "X = df[['age', 'gender', 'income', 'family_members']].to_numpy()\n",
    "y = df['insurance_benefits'].to_numpy()\n",
    "\n",
    "X_train, X_test, y_train, y_test = train_test_split(X, y, test_size=0.3, random_state=12345)\n",
    "\n",
    "lr = MyLinearRegression()\n",
    "\n",
    "lr.fit(X_train, y_train)\n",
    "print(lr.weights)\n",
    "\n",
    "y_test_pred = lr.predict(X_test)\n",
    "eval_regressor(y_test, y_test_pred)"
   ]
  },
  {
   "cell_type": "markdown",
   "metadata": {},
   "source": [
    "### Usando los datos escalados para hacer la regresión lineal con matrices"
   ]
  },
  {
   "cell_type": "code",
   "execution_count": 33,
   "metadata": {},
   "outputs": [
    {
     "name": "stdout",
     "output_type": "stream",
     "text": [
      "[-0.97736673  2.32727489  0.01955949  0.04624156 -0.07297105]\n",
      "RMSE: 0.36\n",
      "R2: 0.66\n"
     ]
    }
   ],
   "source": [
    "X_scaled = df_scaled[['age', 'gender', 'income', 'family_members']].to_numpy()\n",
    "y_scaled = df['insurance_benefits'].to_numpy()\n",
    "\n",
    "X_train_scaled, X_test_scaled, y_train_scaled, y_test_scaled = train_test_split(X_scaled, y_scaled, test_size=0.3, random_state=12345)\n",
    "\n",
    "lr_scaled = MyLinearRegression()\n",
    "\n",
    "lr_scaled.fit(X_train_scaled, y_train_scaled)\n",
    "print(lr_scaled.weights)\n",
    "\n",
    "y_test_predicted_scaled = lr_scaled.predict(X_test_scaled)\n",
    "\n",
    "eval_regressor(y_test_scaled, y_test_predicted_scaled)"
   ]
  },
  {
   "cell_type": "markdown",
   "metadata": {},
   "source": [
    "Me dio los mismos resultados de RMSE y R2 pero el vector de los pesos son distintos."
   ]
  },
  {
   "cell_type": "markdown",
   "metadata": {},
   "source": [
    "# Tarea 4. Ofuscar datos"
   ]
  },
  {
   "cell_type": "markdown",
   "metadata": {},
   "source": [
    "Lo mejor es ofuscar los datos multiplicando las características numéricas (recuerda que se pueden ver como la matriz $X$) por una matriz invertible $P$. \n",
    "\n",
    "$$\n",
    "X' = X \\times P\n",
    "$$\n",
    "\n",
    "Trata de hacerlo y comprueba cómo quedarán los valores de las características después de la transformación. Por cierto, la propiedad de invertibilidad es importante aquí, así que asegúrate de que $P$ sea realmente invertible.\n",
    "\n",
    "Puedes revisar la lección 'Matrices y operaciones matriciales -> Multiplicación de matrices' para recordar la regla de multiplicación de matrices y su implementación con NumPy."
   ]
  },
  {
   "cell_type": "code",
   "execution_count": 34,
   "metadata": {},
   "outputs": [],
   "source": [
    "personal_info_column_list = ['gender', 'age', 'income', 'family_members']\n",
    "df_pn = df[personal_info_column_list]"
   ]
  },
  {
   "cell_type": "code",
   "execution_count": 35,
   "metadata": {},
   "outputs": [],
   "source": [
    "X = df_pn.to_numpy()"
   ]
  },
  {
   "cell_type": "code",
   "execution_count": 36,
   "metadata": {
    "scrolled": true
   },
   "outputs": [
    {
     "name": "stdout",
     "output_type": "stream",
     "text": [
      "[[1.00e+00 4.10e+01 4.96e+04 1.00e+00]\n",
      " [0.00e+00 4.60e+01 3.80e+04 1.00e+00]\n",
      " [0.00e+00 2.90e+01 2.10e+04 0.00e+00]\n",
      " ...\n",
      " [0.00e+00 2.00e+01 3.39e+04 2.00e+00]\n",
      " [1.00e+00 2.20e+01 3.27e+04 3.00e+00]\n",
      " [1.00e+00 2.80e+01 4.06e+04 1.00e+00]]\n"
     ]
    }
   ],
   "source": [
    "print(X)"
   ]
  },
  {
   "cell_type": "markdown",
   "metadata": {},
   "source": [
    "Generar una matriz aleatoria $P$."
   ]
  },
  {
   "cell_type": "code",
   "execution_count": 37,
   "metadata": {},
   "outputs": [],
   "source": [
    "rng = np.random.default_rng(seed=42)\n",
    "P = rng.random(size=(X.shape[1], X.shape[1]))"
   ]
  },
  {
   "cell_type": "code",
   "execution_count": 38,
   "metadata": {},
   "outputs": [
    {
     "name": "stdout",
     "output_type": "stream",
     "text": [
      "[[0.77395605 0.43887844 0.85859792 0.69736803]\n",
      " [0.09417735 0.97562235 0.7611397  0.78606431]\n",
      " [0.12811363 0.45038594 0.37079802 0.92676499]\n",
      " [0.64386512 0.82276161 0.4434142  0.22723872]]\n"
     ]
    }
   ],
   "source": [
    "print(P)"
   ]
  },
  {
   "cell_type": "markdown",
   "metadata": {},
   "source": [
    "Comprobar que la matriz P sea invertible"
   ]
  },
  {
   "cell_type": "code",
   "execution_count": 39,
   "metadata": {},
   "outputs": [
    {
     "name": "stdout",
     "output_type": "stream",
     "text": [
      "0.24339135998015463\n",
      "\n",
      "[[ 0.41467992 -1.43783972  0.62798546  1.14001268]\n",
      " [-1.06101789  0.44219337  0.1329549   1.18425933]\n",
      " [ 1.42362442  1.60461607 -2.0553823  -1.53699695]\n",
      " [-0.11128575 -0.65813802  1.74995517 -0.11816316]]\n",
      "\n",
      "4.108609278823768\n"
     ]
    }
   ],
   "source": [
    "print(np.linalg.det(P)) # La matriz es cuadrad y su determinante es distinto de cero, entonces la matriz es invertible\n",
    "print()\n",
    "P_inv= np.linalg.inv(P)\n",
    "print(P_inv)\n",
    "print()\n",
    "print(np.linalg.det(P_inv))"
   ]
  },
  {
   "cell_type": "markdown",
   "metadata": {},
   "source": [
    "¿Puedes adivinar la edad o los ingresos de los clientes después de la transformación?"
   ]
  },
  {
   "cell_type": "code",
   "execution_count": 40,
   "metadata": {},
   "outputs": [
    {
     "name": "stdout",
     "output_type": "stream",
     "text": [
      "[[ 6359.71527314 22380.40467609 18424.09074184 46000.69669016]\n",
      " [ 4873.29406479 17160.36702982 14125.78076133 35253.45577301]\n",
      " [ 2693.11742928  9486.397744    7808.83156024 19484.86063067]\n",
      " ...\n",
      " [ 4346.2234249  15289.24126492 12586.16264392 31433.50888552]\n",
      " [ 4194.09324155 14751.9910242  12144.02930637 30323.88763426]\n",
      " [ 5205.46827354 18314.24814446 15077.01370762 37649.59295455]]\n"
     ]
    }
   ],
   "source": [
    "print(X @ P)"
   ]
  },
  {
   "cell_type": "markdown",
   "metadata": {},
   "source": [
    "No, es imposible saber los valores reales de la matriz original en este caso X."
   ]
  },
  {
   "cell_type": "markdown",
   "metadata": {},
   "source": [
    "¿Puedes recuperar los datos originales de $X'$ si conoces $P$? Intenta comprobarlo a través de los cálculos moviendo $P$ del lado derecho de la fórmula anterior al izquierdo. En este caso las reglas de la multiplicación matricial son realmente útiles"
   ]
  },
  {
   "cell_type": "code",
   "execution_count": 41,
   "metadata": {},
   "outputs": [
    {
     "name": "stdout",
     "output_type": "stream",
     "text": [
      "[[ 1.00000000e+00  4.10000000e+01  4.96000000e+04  1.00000000e+00]\n",
      " [-4.47363596e-12  4.60000000e+01  3.80000000e+04  1.00000000e+00]\n",
      " [-2.51586878e-12  2.90000000e+01  2.10000000e+04  9.52452315e-13]\n",
      " ...\n",
      " [-1.92837871e-12  2.00000000e+01  3.39000000e+04  2.00000000e+00]\n",
      " [ 1.00000000e+00  2.20000000e+01  3.27000000e+04  3.00000000e+00]\n",
      " [ 1.00000000e+00  2.80000000e+01  4.06000000e+04  1.00000000e+00]]\n",
      "\n",
      "[[ 1.00000000e+00 -1.69848573e-16 -7.58122972e-17 -1.13112497e-16]\n",
      " [-6.94895396e-17  1.00000000e+00 -7.10568689e-17  3.59096970e-17]\n",
      " [-1.21269339e-16 -8.01461326e-17  1.00000000e+00  4.30764008e-19]\n",
      " [-3.60694539e-16 -5.55430227e-16  3.08072404e-16  1.00000000e+00]]\n"
     ]
    }
   ],
   "source": [
    "print((X @ P) @ P_inv)\n",
    "print()\n",
    "print(P @ P_inv)"
   ]
  },
  {
   "cell_type": "markdown",
   "metadata": {},
   "source": [
    "Por lo anteior, dado que tenemos $X'$ y $P$ podemos calcular $P^{-1}$ inversa y luego hacer el producto $(X @ P) @$ $P^{-1}$)$."
   ]
  },
  {
   "cell_type": "markdown",
   "metadata": {},
   "source": [
    "Muestra los tres casos para algunos clientes- Datos originales\n",
    "- El que está transformado- El que está invertido (recuperado)"
   ]
  },
  {
   "cell_type": "code",
   "execution_count": 42,
   "metadata": {},
   "outputs": [
    {
     "name": "stdout",
     "output_type": "stream",
     "text": [
      "Dato original [1.00e+00 4.10e+01 4.96e+04 1.00e+00]\n",
      "Dato transformado [ 6359.71527314 22380.40467609 18424.09074184 46000.69669016]\n",
      "Dato recuperado [1.00e+00 4.10e+01 4.96e+04 1.00e+00]\n",
      "\n",
      "Dato original [1.00e+00 2.80e+01 4.06e+04 1.00e+00]\n",
      "Dato transformado [ 5205.46827354 18314.24814446 15077.01370762 37649.59295455]\n",
      "Dato recuperado [1.00e+00 2.80e+01 4.06e+04 1.00e+00]\n",
      "\n",
      "Dato original [0.00e+00 3.50e+01 4.52e+04 1.00e+00]\n",
      "Dato transformado [ 5794.67626923 20392.4139368  16787.15399908 41917.51698536]\n",
      "Dato recuperado [-7.27595761e-12  3.50000000e+01  4.52000000e+04  1.00000000e+00]\n"
     ]
    }
   ],
   "source": [
    "a = X[0, :]\n",
    "b = X[4846, :]\n",
    "c = X[1234, :]\n",
    "print(f'Dato original {a}')\n",
    "print(f'Dato transformado {a @ P}')\n",
    "print(f'Dato recuperado {a @ P @ P_inv}')\n",
    "print()\n",
    "print(f'Dato original {b}')\n",
    "print(f'Dato transformado {b @ P}')\n",
    "print(f'Dato recuperado {b @ P @ P_inv}')\n",
    "print()\n",
    "print(f'Dato original {c}')\n",
    "print(f'Dato transformado {c @ P}')\n",
    "print(f'Dato recuperado {c @ P @ P_inv}')\n"
   ]
  },
  {
   "cell_type": "markdown",
   "metadata": {},
   "source": [
    "Seguramente puedes ver que algunos valores no son exactamente iguales a los de los datos originales. ¿Cuál podría ser la razón de ello?"
   ]
  },
  {
   "cell_type": "markdown",
   "metadata": {},
   "source": [
    "Por lo que investigue, es por el tema de los puntos decimales muy cercanos a cero, por ello hay exponenciales $e$ a la algo. Esto se puede apreciar en el último ejemplo."
   ]
  },
  {
   "cell_type": "markdown",
   "metadata": {},
   "source": [
    "## Prueba de que la ofuscación de datos puede funcionar con regresión lineal"
   ]
  },
  {
   "cell_type": "markdown",
   "metadata": {},
   "source": [
    "En este proyecto la tarea de regresión se ha resuelto con la regresión lineal. Tu siguiente tarea es demostrar _analytically_ que el método de ofuscación no afectará a la regresión lineal en términos de valores predichos, es decir, que sus valores seguirán siendo los mismos. ¿Lo puedes creer? Pues no hace falta que lo creas, ¡tienes que que demostrarlo!"
   ]
  },
  {
   "cell_type": "markdown",
   "metadata": {},
   "source": [
    "Entonces, los datos están ofuscados y ahora tenemos $X \\times P$ en lugar de tener solo $X$. En consecuencia, hay otros pesos $w_P$ como\n",
    "$$\n",
    "w = (X^T X)^{-1} X^T y \\quad \\Rightarrow \\quad w_P = [(XP)^T XP]^{-1} (XP)^T y\n",
    "$$\n",
    "\n",
    "¿Cómo se relacionarían $w$ y $w_P$ si simplificáramos la fórmula de $w_P$ anterior? \n",
    "\n",
    "¿Cuáles serían los valores predichos con $w_P$? \n",
    "\n",
    "**¿Qué significa esto para la calidad de la regresión lineal si esta se mide mediante la RECM?**\n",
    "Revisa el Apéndice B Propiedades de las matrices al final del cuaderno. ¡Allí encontrarás fórmulas muy útiles!\n",
    "\n",
    "No es necesario escribir código en esta sección, basta con una explicación analítica."
   ]
  },
  {
   "cell_type": "markdown",
   "metadata": {},
   "source": [
    "**Respuesta**"
   ]
  },
  {
   "cell_type": "markdown",
   "metadata": {},
   "source": [
    "Los valores $w$ y $w_P$ se relacionan de la siguiente manera\n",
    "$$ w_P = P^{-1}w $$\n",
    "\n",
    "Es decir, teniendo el valor de la matriz P (invertible) y cualquiera de los valores $w$ o $w_P$ puedes tener el otro.\n"
   ]
  },
  {
   "cell_type": "markdown",
   "metadata": {},
   "source": [
    "**Prueba analítica**"
   ]
  },
  {
   "cell_type": "markdown",
   "metadata": {},
   "source": [
    "Tenemos que $$ w_P = [(XP)^T XP]^{-1} (XP)^T y $$ \n",
    "\n",
    "vamos a trabajar con el lado derecho de la igualdad y usar la siguiente propiedad $(AB)^T = B^TA^T$ entonces:\n",
    "\n",
    "$$[P^{T} (X^{T} X) P]^{-1} (XP)^{T} y = [P^{T} (X^{T} X) P]^{-1} P^{T}X^{T} y $$ \n",
    "\n",
    "Debemos mencionar que conocemos a la matriz $P$ y está debe ser invertible así como $(X^{T} X)$, además recordemas la siguiente propiedad $(AB)^{-1} = B^{-1}A^{-1}$ entonces tnemos que:\n",
    "\n",
    "$$[P^{T} (X^{T} X) P]^{-1} P^{T}X^{T} y = P^{-1}(X^{T} X)^{-1}(P^{T})^{-1}P^{T}X^{T} y = P^{-1}(X^{T} X)^{-1}[(P^{T})^{-1}P^{T}] X^{T} y   $$\n",
    "\n",
    "Sabemos que $A^{-1}A = AA^{-1} = I$ por lo tanto;\n",
    "\n",
    "$$P^{-1}(X^{T} X)^{-1}[(P^{T})^{-1}P^{T}] X^{T} y = P^{-1}(X^{T} X)^{-1} I X^{T} y = P^{-1}(X^{T} X)^{-1} X^{T} y$$\n",
    "\n",
    "Recordar que $w = (X^T X)^{-1} X^T y$\n",
    "\n",
    "Entonces, $$ w_P =P^{-1}(X^{T} X)^{-1} X^{T} y = P^{-1}w $$\n",
    "\n",
    "Por lo tanto,\n",
    "$$ w_P = P^{-1}w $$"
   ]
  },
  {
   "cell_type": "markdown",
   "metadata": {},
   "source": [
    "## Prueba de regresión lineal con ofuscación de datos"
   ]
  },
  {
   "cell_type": "markdown",
   "metadata": {},
   "source": [
    "Ahora, probemos que la regresión lineal pueda funcionar, en términos computacionales, con la transformación de ofuscación elegida.\n",
    "Construye un procedimiento o una clase que ejecute la regresión lineal opcionalmente con la ofuscación. Puedes usar una implementación de regresión lineal de scikit-learn o tu propia implementación.\n",
    "Ejecuta la regresión lineal para los datos originales y los ofuscados, compara los valores predichos y los valores de las métricas RMSE y $R^2$. ¿Hay alguna diferencia?"
   ]
  },
  {
   "cell_type": "markdown",
   "metadata": {},
   "source": [
    "**Procedimiento**\n",
    "\n",
    "- Crea una matriz cuadrada $P$ de números aleatorios.- Comprueba que sea invertible. Si no lo es, repite el primer paso hasta obtener una matriz invertible.- <¡ tu comentario aquí !>\n",
    "- Utiliza $XP$ como la nueva matriz de características"
   ]
  },
  {
   "cell_type": "code",
   "execution_count": 43,
   "metadata": {},
   "outputs": [
    {
     "name": "stdout",
     "output_type": "stream",
     "text": [
      "[[6 2 7 3]\n",
      " [2 7 6 6]\n",
      " [9 3 8 3]\n",
      " [5 5 2 1]]\n"
     ]
    }
   ],
   "source": [
    "#Vamos a crear nuestra matriz P\n",
    "rng = np.random.default_rng(seed=12345)\n",
    "P = rng.integers(10 ,size=(X.shape[1], X.shape[1]))\n",
    "print(P)"
   ]
  },
  {
   "cell_type": "code",
   "execution_count": 44,
   "metadata": {},
   "outputs": [
    {
     "name": "stdout",
     "output_type": "stream",
     "text": [
      "64.00000000000003\n",
      "\n",
      "[[-1.84375   0.21875   1.578125 -0.515625]\n",
      " [ 1.4375   -0.1875   -1.28125   0.65625 ]\n",
      " [ 3.09375  -0.46875  -2.453125  0.890625]\n",
      " [-4.15625   0.78125   3.421875 -1.484375]]\n",
      "\n",
      "0.015624999999999936\n"
     ]
    }
   ],
   "source": [
    "print(np.linalg.det(P)) # La matriz es cuadrad y su determinante es distinto de cero, entonces la matriz es invertible\n",
    "print()\n",
    "Pinv= np.linalg.inv(P)\n",
    "print(Pinv)\n",
    "print()\n",
    "print(np.linalg.det(Pinv))"
   ]
  },
  {
   "cell_type": "markdown",
   "metadata": {},
   "source": [
    "Ahora ya tenemos la matriz P invertible entonces, vamos a ofuscar los datos:"
   ]
  },
  {
   "cell_type": "code",
   "execution_count": 45,
   "metadata": {
    "scrolled": true
   },
   "outputs": [
    {
     "name": "stdout",
     "output_type": "stream",
     "text": [
      "[[446493. 149094. 397055. 149050.]\n",
      " [342097. 114327. 304278. 114277.]\n",
      " [189058.  63203. 168174.  63174.]\n",
      " ...\n",
      " [305150. 101850. 271324. 101822.]\n",
      " [294365.  98271. 261745.  98238.]\n",
      " [365467. 122003. 324977. 121972.]]\n",
      "[[6 2 7 3]\n",
      " [2 7 6 6]\n",
      " [9 3 8 3]\n",
      " [5 5 2 1]]\n"
     ]
    }
   ],
   "source": [
    "X_P = X @ P\n",
    "print(X_P)\n",
    "print(P)"
   ]
  },
  {
   "cell_type": "code",
   "execution_count": 46,
   "metadata": {},
   "outputs": [],
   "source": [
    "# Recordar que y = df['insurance_benefits'].to_numpy() and \n"
   ]
  },
  {
   "cell_type": "markdown",
   "metadata": {},
   "source": [
    "Para hacer la regresión lineal vamos a ocupar la clase definida como MyLinearRegression"
   ]
  },
  {
   "cell_type": "markdown",
   "metadata": {},
   "source": [
    "### Regresión lineal con los datos ofuscados"
   ]
  },
  {
   "cell_type": "code",
   "execution_count": 47,
   "metadata": {},
   "outputs": [
    {
     "name": "stdout",
     "output_type": "stream",
     "text": [
      "[-0.97751468 -0.0219602   0.01342263  0.03289828 -0.03527058]\n",
      "RMSE: 0.36\n",
      "R2: 0.66\n"
     ]
    }
   ],
   "source": [
    "X_P_train, X_P_test, y_train, y_test = train_test_split(X_P, y, test_size= 0.30, random_state= 12345)\n",
    "\n",
    "lr_X_P = MyLinearRegression()\n",
    "lr_X_P.fit(X_P_train, y_train)\n",
    "print(lr_X_P.weights)\n",
    "\n",
    "predicted_X_P = lr_X_P.predict(X_P_test)\n",
    "\n",
    "eval_regressor(y_test, predicted_X_P)"
   ]
  },
  {
   "cell_type": "markdown",
   "metadata": {},
   "source": [
    "### Regresión lineal con los datos no ofuscados"
   ]
  },
  {
   "cell_type": "markdown",
   "metadata": {},
   "source": [
    "Sólo recordar que la regresión lineal con la base de datos original ya se hizo en los pasos anteriores (como referencia celda 32 de código)."
   ]
  },
  {
   "cell_type": "code",
   "execution_count": 48,
   "metadata": {},
   "outputs": [
    {
     "name": "stdout",
     "output_type": "stream",
     "text": [
      "[-9.77366729e-01  3.58042291e-02  1.95594888e-02  5.85336165e-07\n",
      " -1.21618420e-02]\n",
      "RMSE: 0.36\n",
      "R2: 0.66\n"
     ]
    }
   ],
   "source": [
    "X = df[['age', 'gender', 'income', 'family_members']].to_numpy()\n",
    "y = df['insurance_benefits'].to_numpy()\n",
    "\n",
    "X_train, X_test, y_train, y_test = train_test_split(X, y, test_size=0.3, random_state=12345)\n",
    "\n",
    "lr = MyLinearRegression()\n",
    "\n",
    "lr.fit(X_train, y_train)\n",
    "print(lr.weights)\n",
    "\n",
    "y_test_pred = lr.predict(X_test)\n",
    "eval_regressor(y_test, y_test_pred)"
   ]
  },
  {
   "cell_type": "code",
   "execution_count": 49,
   "metadata": {},
   "outputs": [
    {
     "name": "stdout",
     "output_type": "stream",
     "text": [
      "[-9.77366729e-01  3.58042291e-02  1.95594888e-02  5.85336165e-07\n",
      " -1.21618420e-02]\n",
      "[-0.97751468 -0.0219602   0.01342263  0.03289828 -0.03527058]\n",
      "\n",
      "0.99739498211109\n"
     ]
    }
   ],
   "source": [
    "print(lr.weights) # es el vector w con respecto a X sin ofuscar\n",
    "print(lr_X_P.weights) # es el vector w con respecto a X ofuscando los datos\n",
    "print()\n",
    "similares = lr.weights @ lr_X_P.weights / (np.linalg.norm(lr.weights) * np.linalg.norm(lr_X_P.weights))\n",
    "print(similares)"
   ]
  },
  {
   "cell_type": "markdown",
   "metadata": {},
   "source": [
    "Por lo anterior, vemos que con respecto a las métricas no tuvimos diferencias y revisando que los vectores sean iguales, el resultado fue casi uno por algunos decimales de diferencia. Por lo tanto, los resultados con ofuscación y sin fueron iguales."
   ]
  },
  {
   "cell_type": "markdown",
   "metadata": {},
   "source": [
    "Ahora vamos a probar la propiedad: $$ w_P = P^{-1}w $$"
   ]
  },
  {
   "cell_type": "code",
   "execution_count": 50,
   "metadata": {},
   "outputs": [
    {
     "name": "stdout",
     "output_type": "stream",
     "text": [
      "[-0.05546354  0.03981922  0.09076775 -0.11547574]\n",
      "[-0.0219602   0.01342263  0.03289828 -0.03527058]\n",
      "0.9950911125724328\n"
     ]
    }
   ],
   "source": [
    "w_p = Pinv @ lr.weights[1:]\n",
    "w = lr_X_P.weights[1:]\n",
    "comparar = w_p @ w / (np.linalg.norm(w_p) * np.linalg.norm(w))\n",
    "\n",
    "print(w_p)\n",
    "print(w)\n",
    "print(comparar)"
   ]
  },
  {
   "cell_type": "markdown",
   "metadata": {},
   "source": [
    "Por lo anterior, podemos decir que la ecuación se cumplio."
   ]
  },
  {
   "cell_type": "markdown",
   "metadata": {},
   "source": [
    "# Conclusiones"
   ]
  },
  {
   "attachments": {},
   "cell_type": "markdown",
   "metadata": {},
   "source": [
    "Para la conclusión vamos a ir en orden a como esta el proyecto.\n",
    "- Preprocesamiento y exploración de datos: \n",
    "    - Agregamos algunas librerías y sobre todo importamos algunas funciones o metodos para aplicarlos en el proyecto por ejemplo la metrica r2_score, mean_square_mean, etc.\n",
    "    - Revisando la base de datos vimos que está no tenia valores nulos, cambiamos el tipo de formato de flotante a entero con respecto a la columna \"age\". Tambén observamos que tenía filas duplicadas, que representaban el 3% de la base por lo que, procedimos a elimanrlas.\n",
    "\n",
    "- Tarea 1. Clientes similares:\n",
    "    - Utilizamos el algoritmo KNN cambiando el tipo de métrica; euclideana y manhattan. Y también como respondia el algortimo con respecto a los datos con y sin escalar. Nuestra conclusión fue que tuvimos mejores resultados escalando los datos con respecto a al distancia entre los puntos. \n",
    "    \n",
    "\n",
    "- Tarea 2. ¿Es probable que el cliente reciba una prestación del seguro?\n",
    "    - En esta parte, cambiamos el enfoque del problema a clasificar si el cliente había hecho algún beneficio del seguro o no, usando el algoritmo de KNN. También se creo un modelo dummy para tener una prueba de congruencia. Nuestro resultado fueron los siguientes: Con respecto a la métrica f1 fue mejor usar los datos escalados ya que el rango fue de (0.86, 0.93) usando las vecindades de 1 a 10. En el caso de los datos sin escalar el rango de f1 fue de (0, 0.67) usando las vecindades de 1 a 10. Esto confirma que es mejor usar los datos escalados para entrenar el modelo. Y teniendo en cuenta el modelo dummy el mejor resultado fue usando la probabilidad igual a 1 su valor de f1: 0.21.\n",
    "\n",
    "\n",
    "- Tarea 3. Regresión (con regresión lineal)\n",
    "    - Creamos una clase llamada MyLinearRegression lo que hacie era hacer una regresión lineal utilizando el producto de matrices para obtener el vector $w$ (vector de los pesos de regresión) junto con $w_{0}$ (el valor de sesgo de predicción). Tomamos como métrica el RMSE y obtuvimos que: para los datos escalados y no escalados fueron iguales.\n",
    "\n",
    "\n",
    "- Tarea 4. Ofuscar datos\n",
    "    -Aprendimos el modo de ofuscar los datos vimos que teniamos ciertas diferencias entre los datos originales y la hacer el proceso de ofuscar y recuperar los datos, esto se debió al tema de los cálculos computacionales.\n",
    "    \n",
    "    \n",
    "- Prueba de regresión lineal con ofuscación de datos\n",
    "    - En esta parte, hicimos la regresión lineal con los datos originales y ofuscados, nuestra conclusiones fueron que; con respecto a las métricas no tuvimos diferencias y revisando que los vectores sean iguales, el resultado fue casi uno por algunos decimales de diferencia. Por lo tanto, los resultados con ofuscación y sin fueron iguales."
   ]
  },
  {
   "cell_type": "markdown",
   "metadata": {},
   "source": [
    "# Lista de control"
   ]
  },
  {
   "cell_type": "markdown",
   "metadata": {},
   "source": [
    "Escribe 'x' para verificar. Luego presiona Shift+Enter."
   ]
  },
  {
   "cell_type": "markdown",
   "metadata": {},
   "source": [
    "- [x]  Jupyter Notebook está abierto\n",
    "- [ ]  El código no tiene errores- [ ]  Las celdas están ordenadas de acuerdo con la lógica y el orden de ejecución\n",
    "- [ ]  Se ha realizado la tarea 1\n",
    "    - [ ]  Está presente el procedimiento que puede devolver k clientes similares para un cliente determinado\n",
    "    - [ ]  Se probó el procedimiento para las cuatro combinaciones propuestas    - [ ]  Se respondieron las preguntas sobre la escala/distancia- [ ]  Se ha realizado la tarea 2\n",
    "    - [ ]  Se construyó y probó el modelo de clasificación aleatoria para todos los niveles de probabilidad    - [ ]  Se construyó y probó el modelo de clasificación kNN tanto para los datos originales como para los escalados. Se calculó la métrica F1.- [ ]  Se ha realizado la tarea 3\n",
    "    - [ ]  Se implementó la solución de regresión lineal mediante operaciones matriciales    - [ ]  Se calculó la RECM para la solución implementada- [ ]  Se ha realizado la tarea 4\n",
    "    - [ ]  Se ofuscaron los datos mediante una matriz aleatoria e invertible P    - [ ]  Se recuperaron los datos ofuscados y se han mostrado algunos ejemplos    - [ ]  Se proporcionó la prueba analítica de que la transformación no afecta a la RECM    - [ ]  Se proporcionó la prueba computacional de que la transformación no afecta a la RECM- [ ]  Se han sacado conclusiones"
   ]
  },
  {
   "cell_type": "markdown",
   "metadata": {},
   "source": [
    "# Apéndices\n",
    "\n",
    "## Apéndice A: Escribir fórmulas en los cuadernos de Jupyter"
   ]
  },
  {
   "cell_type": "markdown",
   "metadata": {},
   "source": [
    "Puedes escribir fórmulas en tu Jupyter Notebook utilizando un lenguaje de marcado proporcionado por un sistema de publicación de alta calidad llamado $\\LaTeX$ (se pronuncia como \"Lah-tech\"). Las fórmulas se verán como las de los libros de texto.\n",
    "\n",
    "Para incorporar una fórmula a un texto, pon el signo de dólar (\\\\$) antes y después del texto de la fórmula, por ejemplo: $\\frac{1}{2} \\times \\frac{3}{2} = \\frac{3}{4}$ or $y = x^2, x \\ge 1$.\n",
    "\n",
    "Si una fórmula debe estar en el mismo párrafo, pon el doble signo de dólar (\\\\$\\\\$) antes y después del texto de la fórmula, por ejemplo:\n",
    "$$\n",
    "\\bar{x} = \\frac{1}{n}\\sum_{i=1}^{n} x_i.\n",
    "$$\n",
    "\n",
    "El lenguaje de marcado de [LaTeX](https://es.wikipedia.org/wiki/LaTeX) es muy popular entre las personas que utilizan fórmulas en sus artículos, libros y textos. Puede resultar complicado, pero sus fundamentos son sencillos. Consulta esta [ficha de ayuda](http://tug.ctan.org/info/undergradmath/undergradmath.pdf) (materiales en inglés) de dos páginas para aprender a componer las fórmulas más comunes."
   ]
  },
  {
   "cell_type": "markdown",
   "metadata": {},
   "source": [
    "## Apéndice B: Propiedades de las matrices"
   ]
  },
  {
   "cell_type": "markdown",
   "metadata": {},
   "source": [
    "Las matrices tienen muchas propiedades en cuanto al álgebra lineal. Aquí se enumeran algunas de ellas que pueden ayudarte a la hora de realizar la prueba analítica de este proyecto."
   ]
  },
  {
   "cell_type": "markdown",
   "metadata": {},
   "source": [
    "<table>\n",
    "<tr>\n",
    "<td>Distributividad</td><td>$A(B+C)=AB+AC$</td>\n",
    "</tr>\n",
    "<tr>\n",
    "<td>No conmutatividad</td><td>$AB \\neq BA$</td>\n",
    "</tr>\n",
    "<tr>\n",
    "<td>Propiedad asociativa de la multiplicación</td><td>$(AB)C = A(BC)$</td>\n",
    "</tr>\n",
    "<tr>\n",
    "<td>Propiedad de identidad multiplicativa</td><td>$IA = AI = A$</td>\n",
    "</tr>\n",
    "<tr>\n",
    "<td></td><td>$A^{-1}A = AA^{-1} = I$\n",
    "</td>\n",
    "</tr>    \n",
    "<tr>\n",
    "<td></td><td>$(AB)^{-1} = B^{-1}A^{-1}$</td>\n",
    "</tr>    \n",
    "<tr>\n",
    "<td>Reversibilidad de la transposición de un producto de matrices,</td><td>$(AB)^T = B^TA^T$</td>\n",
    "</tr>    \n",
    "</table>"
   ]
  },
  {
   "cell_type": "code",
   "execution_count": null,
   "metadata": {},
   "outputs": [],
   "source": []
  }
 ],
 "metadata": {
  "ExecuteTimeLog": [
   {
    "duration": 2374,
    "start_time": "2024-09-01T19:04:59.099Z"
   },
   {
    "duration": 2657,
    "start_time": "2024-09-01T19:05:01.476Z"
   },
   {
    "duration": 15,
    "start_time": "2024-09-01T19:05:04.135Z"
   },
   {
    "duration": 5,
    "start_time": "2024-09-01T19:05:04.153Z"
   },
   {
    "duration": 11,
    "start_time": "2024-09-01T19:05:04.159Z"
   },
   {
    "duration": 8,
    "start_time": "2024-09-01T19:05:04.172Z"
   },
   {
    "duration": 3,
    "start_time": "2024-09-01T19:05:04.181Z"
   },
   {
    "duration": 2,
    "start_time": "2024-09-01T19:05:04.186Z"
   },
   {
    "duration": 3,
    "start_time": "2024-09-01T19:05:04.189Z"
   },
   {
    "duration": 2544,
    "start_time": "2024-09-01T19:05:04.195Z"
   },
   {
    "duration": 3,
    "start_time": "2024-09-01T19:05:06.741Z"
   },
   {
    "duration": 6,
    "start_time": "2024-09-01T19:05:06.745Z"
   },
   {
    "duration": 0,
    "start_time": "2024-09-01T19:05:06.753Z"
   },
   {
    "duration": 0,
    "start_time": "2024-09-01T19:05:06.754Z"
   },
   {
    "duration": 0,
    "start_time": "2024-09-01T19:05:06.755Z"
   },
   {
    "duration": 0,
    "start_time": "2024-09-01T19:05:06.756Z"
   },
   {
    "duration": 0,
    "start_time": "2024-09-01T19:05:06.757Z"
   },
   {
    "duration": 0,
    "start_time": "2024-09-01T19:05:06.759Z"
   },
   {
    "duration": 0,
    "start_time": "2024-09-01T19:05:06.760Z"
   },
   {
    "duration": 0,
    "start_time": "2024-09-01T19:05:06.761Z"
   },
   {
    "duration": 0,
    "start_time": "2024-09-01T19:05:06.762Z"
   },
   {
    "duration": 0,
    "start_time": "2024-09-01T19:05:06.868Z"
   },
   {
    "duration": 0,
    "start_time": "2024-09-01T19:05:06.869Z"
   },
   {
    "duration": 0,
    "start_time": "2024-09-01T19:05:06.870Z"
   },
   {
    "duration": 0,
    "start_time": "2024-09-01T19:05:06.872Z"
   },
   {
    "duration": 2160,
    "start_time": "2024-09-01T19:05:34.291Z"
   },
   {
    "duration": 1055,
    "start_time": "2024-09-01T19:05:36.454Z"
   },
   {
    "duration": 8,
    "start_time": "2024-09-01T19:05:37.511Z"
   },
   {
    "duration": 3,
    "start_time": "2024-09-01T19:05:37.522Z"
   },
   {
    "duration": 24,
    "start_time": "2024-09-01T19:05:37.526Z"
   },
   {
    "duration": 9,
    "start_time": "2024-09-01T19:05:37.552Z"
   },
   {
    "duration": 3,
    "start_time": "2024-09-01T19:05:37.563Z"
   },
   {
    "duration": 2,
    "start_time": "2024-09-01T19:05:37.568Z"
   },
   {
    "duration": 3,
    "start_time": "2024-09-01T19:05:37.572Z"
   },
   {
    "duration": 2641,
    "start_time": "2024-09-01T19:05:37.579Z"
   },
   {
    "duration": 4,
    "start_time": "2024-09-01T19:05:40.222Z"
   },
   {
    "duration": 6,
    "start_time": "2024-09-01T19:05:40.227Z"
   },
   {
    "duration": 0,
    "start_time": "2024-09-01T19:05:40.235Z"
   },
   {
    "duration": 0,
    "start_time": "2024-09-01T19:05:40.243Z"
   },
   {
    "duration": 0,
    "start_time": "2024-09-01T19:05:40.245Z"
   },
   {
    "duration": 0,
    "start_time": "2024-09-01T19:05:40.246Z"
   },
   {
    "duration": 0,
    "start_time": "2024-09-01T19:05:40.248Z"
   },
   {
    "duration": 0,
    "start_time": "2024-09-01T19:05:40.249Z"
   },
   {
    "duration": 0,
    "start_time": "2024-09-01T19:05:40.250Z"
   },
   {
    "duration": 0,
    "start_time": "2024-09-01T19:05:40.252Z"
   },
   {
    "duration": 0,
    "start_time": "2024-09-01T19:05:40.253Z"
   },
   {
    "duration": 0,
    "start_time": "2024-09-01T19:05:40.254Z"
   },
   {
    "duration": 0,
    "start_time": "2024-09-01T19:05:40.256Z"
   },
   {
    "duration": 0,
    "start_time": "2024-09-01T19:05:40.257Z"
   },
   {
    "duration": 0,
    "start_time": "2024-09-01T19:05:40.259Z"
   },
   {
    "duration": 237,
    "start_time": "2024-09-01T19:17:01.064Z"
   },
   {
    "duration": 16,
    "start_time": "2024-09-01T19:17:09.307Z"
   },
   {
    "duration": 13,
    "start_time": "2024-09-01T19:17:16.031Z"
   },
   {
    "duration": 3,
    "start_time": "2024-09-01T19:20:41.199Z"
   },
   {
    "duration": 10,
    "start_time": "2024-09-01T19:20:48.715Z"
   },
   {
    "duration": 9,
    "start_time": "2024-09-01T19:21:03.981Z"
   },
   {
    "duration": 3,
    "start_time": "2024-09-01T19:21:06.800Z"
   },
   {
    "duration": 2248,
    "start_time": "2024-09-01T19:21:16.017Z"
   },
   {
    "duration": 1058,
    "start_time": "2024-09-01T19:21:18.269Z"
   },
   {
    "duration": 11,
    "start_time": "2024-09-01T19:21:19.329Z"
   },
   {
    "duration": 3,
    "start_time": "2024-09-01T19:21:19.343Z"
   },
   {
    "duration": 11,
    "start_time": "2024-09-01T19:21:19.348Z"
   },
   {
    "duration": 8,
    "start_time": "2024-09-01T19:21:19.361Z"
   },
   {
    "duration": 4,
    "start_time": "2024-09-01T19:21:19.371Z"
   },
   {
    "duration": 8,
    "start_time": "2024-09-01T19:21:19.376Z"
   },
   {
    "duration": 2,
    "start_time": "2024-09-01T19:21:19.386Z"
   },
   {
    "duration": 2679,
    "start_time": "2024-09-01T19:21:19.392Z"
   },
   {
    "duration": 3,
    "start_time": "2024-09-01T19:21:22.073Z"
   },
   {
    "duration": 4,
    "start_time": "2024-09-01T19:21:22.078Z"
   },
   {
    "duration": 0,
    "start_time": "2024-09-01T19:21:22.083Z"
   },
   {
    "duration": 0,
    "start_time": "2024-09-01T19:21:22.085Z"
   },
   {
    "duration": 0,
    "start_time": "2024-09-01T19:21:22.087Z"
   },
   {
    "duration": 0,
    "start_time": "2024-09-01T19:21:22.088Z"
   },
   {
    "duration": 0,
    "start_time": "2024-09-01T19:21:22.089Z"
   },
   {
    "duration": 0,
    "start_time": "2024-09-01T19:21:22.091Z"
   },
   {
    "duration": 0,
    "start_time": "2024-09-01T19:21:22.092Z"
   },
   {
    "duration": 0,
    "start_time": "2024-09-01T19:21:22.093Z"
   },
   {
    "duration": 0,
    "start_time": "2024-09-01T19:21:22.095Z"
   },
   {
    "duration": 0,
    "start_time": "2024-09-01T19:21:22.096Z"
   },
   {
    "duration": 0,
    "start_time": "2024-09-01T19:21:22.097Z"
   },
   {
    "duration": 0,
    "start_time": "2024-09-01T19:21:22.099Z"
   },
   {
    "duration": 0,
    "start_time": "2024-09-01T19:21:22.100Z"
   },
   {
    "duration": 18,
    "start_time": "2024-09-01T19:30:42.421Z"
   },
   {
    "duration": 3,
    "start_time": "2024-09-01T19:33:21.899Z"
   },
   {
    "duration": 4,
    "start_time": "2024-09-01T19:33:57.551Z"
   },
   {
    "duration": 802,
    "start_time": "2024-09-01T19:39:58.918Z"
   },
   {
    "duration": 10,
    "start_time": "2024-09-01T19:43:04.596Z"
   },
   {
    "duration": 2129,
    "start_time": "2024-09-01T19:56:12.369Z"
   },
   {
    "duration": 1071,
    "start_time": "2024-09-01T19:56:14.500Z"
   },
   {
    "duration": 9,
    "start_time": "2024-09-01T19:56:15.573Z"
   },
   {
    "duration": 6,
    "start_time": "2024-09-01T19:56:15.584Z"
   },
   {
    "duration": 12,
    "start_time": "2024-09-01T19:56:15.592Z"
   },
   {
    "duration": 12,
    "start_time": "2024-09-01T19:56:15.607Z"
   },
   {
    "duration": 31,
    "start_time": "2024-09-01T19:56:15.620Z"
   },
   {
    "duration": 4,
    "start_time": "2024-09-01T19:56:15.653Z"
   },
   {
    "duration": 10,
    "start_time": "2024-09-01T19:56:15.658Z"
   },
   {
    "duration": 17,
    "start_time": "2024-09-01T19:56:15.671Z"
   },
   {
    "duration": 2742,
    "start_time": "2024-09-01T19:56:15.689Z"
   },
   {
    "duration": 3,
    "start_time": "2024-09-01T19:56:18.434Z"
   },
   {
    "duration": 6,
    "start_time": "2024-09-01T19:56:18.441Z"
   },
   {
    "duration": 0,
    "start_time": "2024-09-01T19:56:18.448Z"
   },
   {
    "duration": 0,
    "start_time": "2024-09-01T19:56:18.449Z"
   },
   {
    "duration": 0,
    "start_time": "2024-09-01T19:56:18.451Z"
   },
   {
    "duration": 0,
    "start_time": "2024-09-01T19:56:18.452Z"
   },
   {
    "duration": 0,
    "start_time": "2024-09-01T19:56:18.453Z"
   },
   {
    "duration": 0,
    "start_time": "2024-09-01T19:56:18.454Z"
   },
   {
    "duration": 0,
    "start_time": "2024-09-01T19:56:18.455Z"
   },
   {
    "duration": 0,
    "start_time": "2024-09-01T19:56:18.457Z"
   },
   {
    "duration": 0,
    "start_time": "2024-09-01T19:56:18.458Z"
   },
   {
    "duration": 0,
    "start_time": "2024-09-01T19:56:18.462Z"
   },
   {
    "duration": 0,
    "start_time": "2024-09-01T19:56:18.464Z"
   },
   {
    "duration": 0,
    "start_time": "2024-09-01T19:56:18.465Z"
   },
   {
    "duration": 0,
    "start_time": "2024-09-01T19:56:18.466Z"
   },
   {
    "duration": 5,
    "start_time": "2024-09-01T21:44:10.128Z"
   },
   {
    "duration": 3,
    "start_time": "2024-09-01T21:46:25.893Z"
   },
   {
    "duration": 2118,
    "start_time": "2024-09-01T22:00:16.184Z"
   },
   {
    "duration": 1000,
    "start_time": "2024-09-01T22:00:18.304Z"
   },
   {
    "duration": 9,
    "start_time": "2024-09-01T22:00:19.307Z"
   },
   {
    "duration": 3,
    "start_time": "2024-09-01T22:00:19.318Z"
   },
   {
    "duration": 19,
    "start_time": "2024-09-01T22:00:19.324Z"
   },
   {
    "duration": 9,
    "start_time": "2024-09-01T22:00:19.345Z"
   },
   {
    "duration": 9,
    "start_time": "2024-09-01T22:00:19.355Z"
   },
   {
    "duration": 3,
    "start_time": "2024-09-01T22:00:19.366Z"
   },
   {
    "duration": 8,
    "start_time": "2024-09-01T22:00:19.371Z"
   },
   {
    "duration": 17,
    "start_time": "2024-09-01T22:00:19.383Z"
   },
   {
    "duration": 42,
    "start_time": "2024-09-01T22:00:19.401Z"
   },
   {
    "duration": 2631,
    "start_time": "2024-09-01T22:00:19.444Z"
   },
   {
    "duration": 2,
    "start_time": "2024-09-01T22:00:22.078Z"
   },
   {
    "duration": 4,
    "start_time": "2024-09-01T22:00:22.082Z"
   },
   {
    "duration": 8,
    "start_time": "2024-09-01T22:00:22.088Z"
   },
   {
    "duration": 8,
    "start_time": "2024-09-01T22:00:22.098Z"
   },
   {
    "duration": 3,
    "start_time": "2024-09-01T22:00:22.108Z"
   },
   {
    "duration": 0,
    "start_time": "2024-09-01T22:00:22.113Z"
   },
   {
    "duration": 0,
    "start_time": "2024-09-01T22:00:22.115Z"
   },
   {
    "duration": 0,
    "start_time": "2024-09-01T22:00:22.116Z"
   },
   {
    "duration": 0,
    "start_time": "2024-09-01T22:00:22.118Z"
   },
   {
    "duration": 0,
    "start_time": "2024-09-01T22:00:22.119Z"
   },
   {
    "duration": 0,
    "start_time": "2024-09-01T22:00:22.142Z"
   },
   {
    "duration": 0,
    "start_time": "2024-09-01T22:00:22.144Z"
   },
   {
    "duration": 0,
    "start_time": "2024-09-01T22:00:22.145Z"
   },
   {
    "duration": 0,
    "start_time": "2024-09-01T22:00:22.146Z"
   },
   {
    "duration": 0,
    "start_time": "2024-09-01T22:00:22.147Z"
   },
   {
    "duration": 5,
    "start_time": "2024-09-01T22:09:09.090Z"
   },
   {
    "duration": 5,
    "start_time": "2024-09-01T22:10:26.259Z"
   },
   {
    "duration": 5,
    "start_time": "2024-09-01T22:11:23.316Z"
   },
   {
    "duration": 5,
    "start_time": "2024-09-01T22:12:04.315Z"
   },
   {
    "duration": 4,
    "start_time": "2024-09-01T22:12:14.197Z"
   },
   {
    "duration": 6,
    "start_time": "2024-09-01T22:12:19.109Z"
   },
   {
    "duration": 229,
    "start_time": "2024-09-01T22:18:31.781Z"
   },
   {
    "duration": 21,
    "start_time": "2024-09-01T22:18:40.631Z"
   },
   {
    "duration": 13,
    "start_time": "2024-09-01T22:18:46.412Z"
   },
   {
    "duration": 13,
    "start_time": "2024-09-01T22:19:19.899Z"
   },
   {
    "duration": 13,
    "start_time": "2024-09-01T22:19:28.769Z"
   },
   {
    "duration": 12,
    "start_time": "2024-09-01T22:19:35.520Z"
   },
   {
    "duration": 22,
    "start_time": "2024-09-01T22:20:38.311Z"
   },
   {
    "duration": 2146,
    "start_time": "2024-09-01T22:21:09.606Z"
   },
   {
    "duration": 1008,
    "start_time": "2024-09-01T22:21:11.755Z"
   },
   {
    "duration": 8,
    "start_time": "2024-09-01T22:21:12.765Z"
   },
   {
    "duration": 3,
    "start_time": "2024-09-01T22:21:12.775Z"
   },
   {
    "duration": 10,
    "start_time": "2024-09-01T22:21:12.779Z"
   },
   {
    "duration": 8,
    "start_time": "2024-09-01T22:21:12.791Z"
   },
   {
    "duration": 8,
    "start_time": "2024-09-01T22:21:12.801Z"
   },
   {
    "duration": 31,
    "start_time": "2024-09-01T22:21:12.811Z"
   },
   {
    "duration": 9,
    "start_time": "2024-09-01T22:21:12.843Z"
   },
   {
    "duration": 17,
    "start_time": "2024-09-01T22:21:12.855Z"
   },
   {
    "duration": 4,
    "start_time": "2024-09-01T22:21:12.874Z"
   },
   {
    "duration": 2683,
    "start_time": "2024-09-01T22:21:12.880Z"
   },
   {
    "duration": 2,
    "start_time": "2024-09-01T22:21:15.566Z"
   },
   {
    "duration": 5,
    "start_time": "2024-09-01T22:21:15.570Z"
   },
   {
    "duration": 10,
    "start_time": "2024-09-01T22:21:15.576Z"
   },
   {
    "duration": 8,
    "start_time": "2024-09-01T22:21:15.589Z"
   },
   {
    "duration": 151,
    "start_time": "2024-09-01T22:21:15.599Z"
   },
   {
    "duration": 0,
    "start_time": "2024-09-01T22:21:15.752Z"
   },
   {
    "duration": 0,
    "start_time": "2024-09-01T22:21:15.753Z"
   },
   {
    "duration": 0,
    "start_time": "2024-09-01T22:21:15.754Z"
   },
   {
    "duration": 0,
    "start_time": "2024-09-01T22:21:15.755Z"
   },
   {
    "duration": 0,
    "start_time": "2024-09-01T22:21:15.756Z"
   },
   {
    "duration": 0,
    "start_time": "2024-09-01T22:21:15.757Z"
   },
   {
    "duration": 0,
    "start_time": "2024-09-01T22:21:15.758Z"
   },
   {
    "duration": 0,
    "start_time": "2024-09-01T22:21:15.760Z"
   },
   {
    "duration": 1,
    "start_time": "2024-09-01T22:21:15.760Z"
   },
   {
    "duration": 0,
    "start_time": "2024-09-01T22:21:15.761Z"
   },
   {
    "duration": 0,
    "start_time": "2024-09-01T22:21:15.762Z"
   },
   {
    "duration": 2146,
    "start_time": "2024-09-01T22:22:05.051Z"
   },
   {
    "duration": 990,
    "start_time": "2024-09-01T22:22:07.199Z"
   },
   {
    "duration": 8,
    "start_time": "2024-09-01T22:22:08.192Z"
   },
   {
    "duration": 3,
    "start_time": "2024-09-01T22:22:08.202Z"
   },
   {
    "duration": 10,
    "start_time": "2024-09-01T22:22:08.207Z"
   },
   {
    "duration": 28,
    "start_time": "2024-09-01T22:22:08.219Z"
   },
   {
    "duration": 9,
    "start_time": "2024-09-01T22:22:08.248Z"
   },
   {
    "duration": 3,
    "start_time": "2024-09-01T22:22:08.259Z"
   },
   {
    "duration": 8,
    "start_time": "2024-09-01T22:22:08.264Z"
   },
   {
    "duration": 16,
    "start_time": "2024-09-01T22:22:08.275Z"
   },
   {
    "duration": 6,
    "start_time": "2024-09-01T22:22:08.293Z"
   },
   {
    "duration": 2670,
    "start_time": "2024-09-01T22:22:08.301Z"
   },
   {
    "duration": 4,
    "start_time": "2024-09-01T22:22:10.973Z"
   },
   {
    "duration": 3,
    "start_time": "2024-09-01T22:22:10.979Z"
   },
   {
    "duration": 8,
    "start_time": "2024-09-01T22:22:10.984Z"
   },
   {
    "duration": 9,
    "start_time": "2024-09-01T22:22:10.993Z"
   },
   {
    "duration": 243,
    "start_time": "2024-09-01T22:22:11.003Z"
   },
   {
    "duration": 0,
    "start_time": "2024-09-01T22:22:11.248Z"
   },
   {
    "duration": 0,
    "start_time": "2024-09-01T22:22:11.249Z"
   },
   {
    "duration": 0,
    "start_time": "2024-09-01T22:22:11.250Z"
   },
   {
    "duration": 0,
    "start_time": "2024-09-01T22:22:11.252Z"
   },
   {
    "duration": 0,
    "start_time": "2024-09-01T22:22:11.254Z"
   },
   {
    "duration": 0,
    "start_time": "2024-09-01T22:22:11.255Z"
   },
   {
    "duration": 0,
    "start_time": "2024-09-01T22:22:11.257Z"
   },
   {
    "duration": 0,
    "start_time": "2024-09-01T22:22:11.258Z"
   },
   {
    "duration": 0,
    "start_time": "2024-09-01T22:22:11.260Z"
   },
   {
    "duration": 0,
    "start_time": "2024-09-01T22:22:11.261Z"
   },
   {
    "duration": 0,
    "start_time": "2024-09-01T22:22:11.263Z"
   },
   {
    "duration": 2160,
    "start_time": "2024-09-01T22:26:38.039Z"
   },
   {
    "duration": 997,
    "start_time": "2024-09-01T22:26:40.201Z"
   },
   {
    "duration": 7,
    "start_time": "2024-09-01T22:26:41.200Z"
   },
   {
    "duration": 3,
    "start_time": "2024-09-01T22:26:41.209Z"
   },
   {
    "duration": 11,
    "start_time": "2024-09-01T22:26:41.214Z"
   },
   {
    "duration": 9,
    "start_time": "2024-09-01T22:26:41.243Z"
   },
   {
    "duration": 9,
    "start_time": "2024-09-01T22:26:41.254Z"
   },
   {
    "duration": 3,
    "start_time": "2024-09-01T22:26:41.264Z"
   },
   {
    "duration": 8,
    "start_time": "2024-09-01T22:26:41.269Z"
   },
   {
    "duration": 16,
    "start_time": "2024-09-01T22:26:41.280Z"
   },
   {
    "duration": 5,
    "start_time": "2024-09-01T22:26:41.297Z"
   },
   {
    "duration": 2616,
    "start_time": "2024-09-01T22:26:41.303Z"
   },
   {
    "duration": 3,
    "start_time": "2024-09-01T22:26:43.921Z"
   },
   {
    "duration": 4,
    "start_time": "2024-09-01T22:26:43.926Z"
   },
   {
    "duration": 13,
    "start_time": "2024-09-01T22:26:43.931Z"
   },
   {
    "duration": 8,
    "start_time": "2024-09-01T22:26:43.947Z"
   },
   {
    "duration": 247,
    "start_time": "2024-09-01T22:26:43.956Z"
   },
   {
    "duration": 0,
    "start_time": "2024-09-01T22:26:44.206Z"
   },
   {
    "duration": 0,
    "start_time": "2024-09-01T22:26:44.207Z"
   },
   {
    "duration": 0,
    "start_time": "2024-09-01T22:26:44.209Z"
   },
   {
    "duration": 0,
    "start_time": "2024-09-01T22:26:44.210Z"
   },
   {
    "duration": 0,
    "start_time": "2024-09-01T22:26:44.212Z"
   },
   {
    "duration": 0,
    "start_time": "2024-09-01T22:26:44.213Z"
   },
   {
    "duration": 0,
    "start_time": "2024-09-01T22:26:44.215Z"
   },
   {
    "duration": 0,
    "start_time": "2024-09-01T22:26:44.216Z"
   },
   {
    "duration": 0,
    "start_time": "2024-09-01T22:26:44.217Z"
   },
   {
    "duration": 0,
    "start_time": "2024-09-01T22:26:44.219Z"
   },
   {
    "duration": 0,
    "start_time": "2024-09-01T22:26:44.220Z"
   },
   {
    "duration": 2123,
    "start_time": "2024-09-01T22:38:42.779Z"
   },
   {
    "duration": 1021,
    "start_time": "2024-09-01T22:38:44.905Z"
   },
   {
    "duration": 9,
    "start_time": "2024-09-01T22:38:45.927Z"
   },
   {
    "duration": 6,
    "start_time": "2024-09-01T22:38:45.937Z"
   },
   {
    "duration": 11,
    "start_time": "2024-09-01T22:38:45.945Z"
   },
   {
    "duration": 8,
    "start_time": "2024-09-01T22:38:45.957Z"
   },
   {
    "duration": 8,
    "start_time": "2024-09-01T22:38:45.967Z"
   },
   {
    "duration": 3,
    "start_time": "2024-09-01T22:38:45.976Z"
   },
   {
    "duration": 7,
    "start_time": "2024-09-01T22:38:45.981Z"
   },
   {
    "duration": 51,
    "start_time": "2024-09-01T22:38:45.993Z"
   },
   {
    "duration": 5,
    "start_time": "2024-09-01T22:38:46.046Z"
   },
   {
    "duration": 2607,
    "start_time": "2024-09-01T22:38:46.052Z"
   },
   {
    "duration": 3,
    "start_time": "2024-09-01T22:38:48.661Z"
   },
   {
    "duration": 5,
    "start_time": "2024-09-01T22:38:48.665Z"
   },
   {
    "duration": 8,
    "start_time": "2024-09-01T22:38:48.671Z"
   },
   {
    "duration": 9,
    "start_time": "2024-09-01T22:38:48.680Z"
   },
   {
    "duration": 254,
    "start_time": "2024-09-01T22:38:48.691Z"
   },
   {
    "duration": 0,
    "start_time": "2024-09-01T22:38:48.947Z"
   },
   {
    "duration": 0,
    "start_time": "2024-09-01T22:38:48.948Z"
   },
   {
    "duration": 0,
    "start_time": "2024-09-01T22:38:48.950Z"
   },
   {
    "duration": 0,
    "start_time": "2024-09-01T22:38:48.951Z"
   },
   {
    "duration": 1,
    "start_time": "2024-09-01T22:38:48.952Z"
   },
   {
    "duration": 0,
    "start_time": "2024-09-01T22:38:48.953Z"
   },
   {
    "duration": 0,
    "start_time": "2024-09-01T22:38:48.955Z"
   },
   {
    "duration": 0,
    "start_time": "2024-09-01T22:38:48.956Z"
   },
   {
    "duration": 0,
    "start_time": "2024-09-01T22:38:48.957Z"
   },
   {
    "duration": 0,
    "start_time": "2024-09-01T22:38:48.958Z"
   },
   {
    "duration": 0,
    "start_time": "2024-09-01T22:38:48.960Z"
   },
   {
    "duration": 3,
    "start_time": "2024-09-01T22:40:29.014Z"
   },
   {
    "duration": 2186,
    "start_time": "2024-09-01T22:40:34.660Z"
   },
   {
    "duration": 1018,
    "start_time": "2024-09-01T22:40:36.849Z"
   },
   {
    "duration": 8,
    "start_time": "2024-09-01T22:40:37.868Z"
   },
   {
    "duration": 4,
    "start_time": "2024-09-01T22:40:37.878Z"
   },
   {
    "duration": 11,
    "start_time": "2024-09-01T22:40:37.884Z"
   },
   {
    "duration": 8,
    "start_time": "2024-09-01T22:40:37.897Z"
   },
   {
    "duration": 9,
    "start_time": "2024-09-01T22:40:37.907Z"
   },
   {
    "duration": 28,
    "start_time": "2024-09-01T22:40:37.917Z"
   },
   {
    "duration": 9,
    "start_time": "2024-09-01T22:40:37.946Z"
   },
   {
    "duration": 16,
    "start_time": "2024-09-01T22:40:37.958Z"
   },
   {
    "duration": 5,
    "start_time": "2024-09-01T22:40:37.975Z"
   },
   {
    "duration": 2754,
    "start_time": "2024-09-01T22:40:37.981Z"
   },
   {
    "duration": 3,
    "start_time": "2024-09-01T22:40:40.737Z"
   },
   {
    "duration": 5,
    "start_time": "2024-09-01T22:40:40.742Z"
   },
   {
    "duration": 10,
    "start_time": "2024-09-01T22:40:40.749Z"
   },
   {
    "duration": 8,
    "start_time": "2024-09-01T22:40:40.761Z"
   },
   {
    "duration": 353,
    "start_time": "2024-09-01T22:40:40.771Z"
   },
   {
    "duration": 0,
    "start_time": "2024-09-01T22:40:41.126Z"
   },
   {
    "duration": 0,
    "start_time": "2024-09-01T22:40:41.128Z"
   },
   {
    "duration": 0,
    "start_time": "2024-09-01T22:40:41.129Z"
   },
   {
    "duration": 0,
    "start_time": "2024-09-01T22:40:41.143Z"
   },
   {
    "duration": 0,
    "start_time": "2024-09-01T22:40:41.145Z"
   },
   {
    "duration": 0,
    "start_time": "2024-09-01T22:40:41.146Z"
   },
   {
    "duration": 0,
    "start_time": "2024-09-01T22:40:41.148Z"
   },
   {
    "duration": 0,
    "start_time": "2024-09-01T22:40:41.149Z"
   },
   {
    "duration": 0,
    "start_time": "2024-09-01T22:40:41.151Z"
   },
   {
    "duration": 0,
    "start_time": "2024-09-01T22:40:41.152Z"
   },
   {
    "duration": 0,
    "start_time": "2024-09-01T22:40:41.153Z"
   },
   {
    "duration": 5,
    "start_time": "2024-09-01T22:42:19.552Z"
   },
   {
    "duration": 10,
    "start_time": "2024-09-01T22:42:21.898Z"
   },
   {
    "duration": 10,
    "start_time": "2024-09-01T22:42:23.888Z"
   },
   {
    "duration": 38,
    "start_time": "2024-09-01T22:42:25.744Z"
   },
   {
    "duration": 4,
    "start_time": "2024-09-01T22:43:03.596Z"
   },
   {
    "duration": 37,
    "start_time": "2024-09-01T22:43:07.158Z"
   },
   {
    "duration": 45,
    "start_time": "2024-09-01T22:47:14.355Z"
   },
   {
    "duration": 3,
    "start_time": "2024-09-01T22:52:48.788Z"
   },
   {
    "duration": 22,
    "start_time": "2024-09-01T22:52:51.707Z"
   },
   {
    "duration": 34,
    "start_time": "2024-09-01T22:52:56.551Z"
   },
   {
    "duration": 13,
    "start_time": "2024-09-01T22:53:03.823Z"
   },
   {
    "duration": 144,
    "start_time": "2024-09-01T22:53:12.380Z"
   },
   {
    "duration": 6,
    "start_time": "2024-09-01T22:53:27.397Z"
   },
   {
    "duration": 12,
    "start_time": "2024-09-01T22:53:30.183Z"
   },
   {
    "duration": 13,
    "start_time": "2024-09-01T22:54:07.806Z"
   },
   {
    "duration": 57,
    "start_time": "2024-09-01T22:54:17.209Z"
   },
   {
    "duration": 13,
    "start_time": "2024-09-01T22:54:23.768Z"
   },
   {
    "duration": 12,
    "start_time": "2024-09-01T22:56:43.086Z"
   },
   {
    "duration": 20,
    "start_time": "2024-09-01T22:59:07.664Z"
   },
   {
    "duration": 14,
    "start_time": "2024-09-01T22:59:18.464Z"
   },
   {
    "duration": 3,
    "start_time": "2024-09-01T23:02:19.516Z"
   },
   {
    "duration": 2605,
    "start_time": "2024-09-01T23:02:25.363Z"
   },
   {
    "duration": 1157,
    "start_time": "2024-09-01T23:02:27.970Z"
   },
   {
    "duration": 9,
    "start_time": "2024-09-01T23:02:29.129Z"
   },
   {
    "duration": 3,
    "start_time": "2024-09-01T23:02:29.140Z"
   },
   {
    "duration": 20,
    "start_time": "2024-09-01T23:02:29.146Z"
   },
   {
    "duration": 13,
    "start_time": "2024-09-01T23:02:29.169Z"
   },
   {
    "duration": 10,
    "start_time": "2024-09-01T23:02:29.184Z"
   },
   {
    "duration": 3,
    "start_time": "2024-09-01T23:02:29.195Z"
   },
   {
    "duration": 8,
    "start_time": "2024-09-01T23:02:29.200Z"
   },
   {
    "duration": 60,
    "start_time": "2024-09-01T23:02:29.209Z"
   },
   {
    "duration": 8,
    "start_time": "2024-09-01T23:02:29.272Z"
   },
   {
    "duration": 3052,
    "start_time": "2024-09-01T23:02:29.283Z"
   },
   {
    "duration": 2,
    "start_time": "2024-09-01T23:02:32.337Z"
   },
   {
    "duration": 6,
    "start_time": "2024-09-01T23:02:32.344Z"
   },
   {
    "duration": 12,
    "start_time": "2024-09-01T23:02:32.352Z"
   },
   {
    "duration": 13,
    "start_time": "2024-09-01T23:02:32.366Z"
   },
   {
    "duration": 14,
    "start_time": "2024-09-01T23:02:32.381Z"
   },
   {
    "duration": 13,
    "start_time": "2024-09-01T23:02:32.397Z"
   },
   {
    "duration": 33,
    "start_time": "2024-09-01T23:02:32.411Z"
   },
   {
    "duration": 0,
    "start_time": "2024-09-01T23:02:32.447Z"
   },
   {
    "duration": 0,
    "start_time": "2024-09-01T23:02:32.449Z"
   },
   {
    "duration": 0,
    "start_time": "2024-09-01T23:02:32.450Z"
   },
   {
    "duration": 0,
    "start_time": "2024-09-01T23:02:32.451Z"
   },
   {
    "duration": 0,
    "start_time": "2024-09-01T23:02:32.453Z"
   },
   {
    "duration": 0,
    "start_time": "2024-09-01T23:02:32.454Z"
   },
   {
    "duration": 0,
    "start_time": "2024-09-01T23:02:32.455Z"
   },
   {
    "duration": 0,
    "start_time": "2024-09-01T23:02:32.457Z"
   },
   {
    "duration": 0,
    "start_time": "2024-09-01T23:02:32.458Z"
   },
   {
    "duration": 0,
    "start_time": "2024-09-01T23:02:32.459Z"
   },
   {
    "duration": 22,
    "start_time": "2024-09-01T23:04:16.973Z"
   },
   {
    "duration": 2489,
    "start_time": "2024-09-01T23:05:35.349Z"
   },
   {
    "duration": 1138,
    "start_time": "2024-09-01T23:05:37.840Z"
   },
   {
    "duration": 8,
    "start_time": "2024-09-01T23:05:38.980Z"
   },
   {
    "duration": 3,
    "start_time": "2024-09-01T23:05:38.991Z"
   },
   {
    "duration": 10,
    "start_time": "2024-09-01T23:05:38.996Z"
   },
   {
    "duration": 8,
    "start_time": "2024-09-01T23:05:39.008Z"
   },
   {
    "duration": 30,
    "start_time": "2024-09-01T23:05:39.018Z"
   },
   {
    "duration": 11,
    "start_time": "2024-09-01T23:05:39.051Z"
   },
   {
    "duration": 13,
    "start_time": "2024-09-01T23:05:39.064Z"
   },
   {
    "duration": 17,
    "start_time": "2024-09-01T23:05:39.081Z"
   },
   {
    "duration": 5,
    "start_time": "2024-09-01T23:05:39.099Z"
   },
   {
    "duration": 3073,
    "start_time": "2024-09-01T23:05:39.106Z"
   },
   {
    "duration": 3,
    "start_time": "2024-09-01T23:05:42.181Z"
   },
   {
    "duration": 4,
    "start_time": "2024-09-01T23:05:42.186Z"
   },
   {
    "duration": 8,
    "start_time": "2024-09-01T23:05:42.191Z"
   },
   {
    "duration": 7,
    "start_time": "2024-09-01T23:05:42.201Z"
   },
   {
    "duration": 22,
    "start_time": "2024-09-01T23:05:42.210Z"
   },
   {
    "duration": 9,
    "start_time": "2024-09-01T23:05:42.234Z"
   },
   {
    "duration": 0,
    "start_time": "2024-09-01T23:05:42.246Z"
   },
   {
    "duration": 0,
    "start_time": "2024-09-01T23:05:42.247Z"
   },
   {
    "duration": 0,
    "start_time": "2024-09-01T23:05:42.248Z"
   },
   {
    "duration": 0,
    "start_time": "2024-09-01T23:05:42.249Z"
   },
   {
    "duration": 0,
    "start_time": "2024-09-01T23:05:42.250Z"
   },
   {
    "duration": 0,
    "start_time": "2024-09-01T23:05:42.252Z"
   },
   {
    "duration": 0,
    "start_time": "2024-09-01T23:05:42.253Z"
   },
   {
    "duration": 0,
    "start_time": "2024-09-01T23:05:42.254Z"
   },
   {
    "duration": 0,
    "start_time": "2024-09-01T23:05:42.255Z"
   },
   {
    "duration": 0,
    "start_time": "2024-09-01T23:05:42.257Z"
   },
   {
    "duration": 30,
    "start_time": "2024-09-01T23:13:22.689Z"
   },
   {
    "duration": 37,
    "start_time": "2024-09-01T23:13:34.168Z"
   },
   {
    "duration": 45,
    "start_time": "2024-09-01T23:18:59.504Z"
   },
   {
    "duration": 39,
    "start_time": "2024-09-01T23:19:30.060Z"
   },
   {
    "duration": 2296,
    "start_time": "2024-09-02T23:15:51.418Z"
   },
   {
    "duration": 2583,
    "start_time": "2024-09-02T23:15:53.717Z"
   },
   {
    "duration": 13,
    "start_time": "2024-09-02T23:15:56.302Z"
   },
   {
    "duration": 2,
    "start_time": "2024-09-02T23:15:56.317Z"
   },
   {
    "duration": 10,
    "start_time": "2024-09-02T23:15:56.323Z"
   },
   {
    "duration": 9,
    "start_time": "2024-09-02T23:15:56.334Z"
   },
   {
    "duration": 8,
    "start_time": "2024-09-02T23:15:56.345Z"
   },
   {
    "duration": 3,
    "start_time": "2024-09-02T23:15:56.354Z"
   },
   {
    "duration": 8,
    "start_time": "2024-09-02T23:15:56.359Z"
   },
   {
    "duration": 16,
    "start_time": "2024-09-02T23:15:56.370Z"
   },
   {
    "duration": 40,
    "start_time": "2024-09-02T23:15:56.387Z"
   },
   {
    "duration": 2553,
    "start_time": "2024-09-02T23:15:56.428Z"
   },
   {
    "duration": 2,
    "start_time": "2024-09-02T23:15:58.983Z"
   },
   {
    "duration": 4,
    "start_time": "2024-09-02T23:15:58.988Z"
   },
   {
    "duration": 8,
    "start_time": "2024-09-02T23:15:58.994Z"
   },
   {
    "duration": 8,
    "start_time": "2024-09-02T23:15:59.003Z"
   },
   {
    "duration": 21,
    "start_time": "2024-09-02T23:15:59.024Z"
   },
   {
    "duration": 29,
    "start_time": "2024-09-02T23:15:59.047Z"
   },
   {
    "duration": 57,
    "start_time": "2024-09-02T23:15:59.077Z"
   },
   {
    "duration": 6,
    "start_time": "2024-09-02T23:15:59.135Z"
   },
   {
    "duration": 0,
    "start_time": "2024-09-02T23:15:59.142Z"
   },
   {
    "duration": 0,
    "start_time": "2024-09-02T23:15:59.144Z"
   },
   {
    "duration": 0,
    "start_time": "2024-09-02T23:15:59.145Z"
   },
   {
    "duration": 0,
    "start_time": "2024-09-02T23:15:59.146Z"
   },
   {
    "duration": 0,
    "start_time": "2024-09-02T23:15:59.148Z"
   },
   {
    "duration": 0,
    "start_time": "2024-09-02T23:15:59.149Z"
   },
   {
    "duration": 0,
    "start_time": "2024-09-02T23:15:59.151Z"
   },
   {
    "duration": 0,
    "start_time": "2024-09-02T23:15:59.152Z"
   },
   {
    "duration": 0,
    "start_time": "2024-09-02T23:15:59.154Z"
   },
   {
    "duration": 0,
    "start_time": "2024-09-02T23:15:59.155Z"
   },
   {
    "duration": 1321,
    "start_time": "2024-09-03T00:08:21.318Z"
   },
   {
    "duration": 12,
    "start_time": "2024-09-03T00:10:22.640Z"
   },
   {
    "duration": 7,
    "start_time": "2024-09-03T00:17:52.458Z"
   },
   {
    "duration": 7,
    "start_time": "2024-09-03T00:18:09.102Z"
   },
   {
    "duration": 10,
    "start_time": "2024-09-03T00:19:18.641Z"
   },
   {
    "duration": 8,
    "start_time": "2024-09-03T00:20:46.307Z"
   },
   {
    "duration": 3,
    "start_time": "2024-09-03T00:21:11.940Z"
   },
   {
    "duration": 7,
    "start_time": "2024-09-03T00:21:20.760Z"
   },
   {
    "duration": 8,
    "start_time": "2024-09-03T00:21:52.713Z"
   },
   {
    "duration": 5,
    "start_time": "2024-09-03T00:22:07.841Z"
   },
   {
    "duration": 8,
    "start_time": "2024-09-03T00:22:14.553Z"
   },
   {
    "duration": 5,
    "start_time": "2024-09-03T00:23:23.180Z"
   },
   {
    "duration": 4,
    "start_time": "2024-09-03T00:23:35.204Z"
   },
   {
    "duration": 5,
    "start_time": "2024-09-03T00:23:48.813Z"
   },
   {
    "duration": 4,
    "start_time": "2024-09-03T00:26:22.727Z"
   },
   {
    "duration": 5,
    "start_time": "2024-09-03T00:26:57.753Z"
   },
   {
    "duration": 3,
    "start_time": "2024-09-03T00:27:09.855Z"
   },
   {
    "duration": 4,
    "start_time": "2024-09-03T00:27:19.755Z"
   },
   {
    "duration": 13,
    "start_time": "2024-09-03T00:28:26.130Z"
   },
   {
    "duration": 4,
    "start_time": "2024-09-03T00:28:41.404Z"
   },
   {
    "duration": 3,
    "start_time": "2024-09-03T00:29:09.982Z"
   },
   {
    "duration": 2080,
    "start_time": "2024-09-03T00:29:15.612Z"
   },
   {
    "duration": 926,
    "start_time": "2024-09-03T00:29:17.695Z"
   },
   {
    "duration": 8,
    "start_time": "2024-09-03T00:29:18.622Z"
   },
   {
    "duration": 3,
    "start_time": "2024-09-03T00:29:18.632Z"
   },
   {
    "duration": 11,
    "start_time": "2024-09-03T00:29:18.637Z"
   },
   {
    "duration": 8,
    "start_time": "2024-09-03T00:29:18.649Z"
   },
   {
    "duration": 8,
    "start_time": "2024-09-03T00:29:18.659Z"
   },
   {
    "duration": 3,
    "start_time": "2024-09-03T00:29:18.668Z"
   },
   {
    "duration": 8,
    "start_time": "2024-09-03T00:29:18.673Z"
   },
   {
    "duration": 52,
    "start_time": "2024-09-03T00:29:18.683Z"
   },
   {
    "duration": 5,
    "start_time": "2024-09-03T00:29:18.736Z"
   },
   {
    "duration": 2550,
    "start_time": "2024-09-03T00:29:18.743Z"
   },
   {
    "duration": 4,
    "start_time": "2024-09-03T00:29:21.294Z"
   },
   {
    "duration": 4,
    "start_time": "2024-09-03T00:29:21.300Z"
   },
   {
    "duration": 8,
    "start_time": "2024-09-03T00:29:21.306Z"
   },
   {
    "duration": 8,
    "start_time": "2024-09-03T00:29:21.316Z"
   },
   {
    "duration": 21,
    "start_time": "2024-09-03T00:29:21.326Z"
   },
   {
    "duration": 28,
    "start_time": "2024-09-03T00:29:21.349Z"
   },
   {
    "duration": 57,
    "start_time": "2024-09-03T00:29:21.378Z"
   },
   {
    "duration": 5,
    "start_time": "2024-09-03T00:29:21.438Z"
   },
   {
    "duration": 5,
    "start_time": "2024-09-03T00:29:21.445Z"
   },
   {
    "duration": 4,
    "start_time": "2024-09-03T00:29:21.454Z"
   },
   {
    "duration": 3,
    "start_time": "2024-09-03T00:29:21.461Z"
   },
   {
    "duration": 4,
    "start_time": "2024-09-03T00:29:21.466Z"
   },
   {
    "duration": 0,
    "start_time": "2024-09-03T00:29:21.471Z"
   },
   {
    "duration": 0,
    "start_time": "2024-09-03T00:29:21.472Z"
   },
   {
    "duration": 0,
    "start_time": "2024-09-03T00:29:21.474Z"
   },
   {
    "duration": 0,
    "start_time": "2024-09-03T00:29:21.475Z"
   },
   {
    "duration": 0,
    "start_time": "2024-09-03T00:29:21.477Z"
   },
   {
    "duration": 0,
    "start_time": "2024-09-03T00:29:21.478Z"
   },
   {
    "duration": 4,
    "start_time": "2024-09-03T00:51:11.014Z"
   },
   {
    "duration": 2066,
    "start_time": "2024-09-03T00:52:58.243Z"
   },
   {
    "duration": 961,
    "start_time": "2024-09-03T00:53:00.312Z"
   },
   {
    "duration": 8,
    "start_time": "2024-09-03T00:53:01.274Z"
   },
   {
    "duration": 3,
    "start_time": "2024-09-03T00:53:01.284Z"
   },
   {
    "duration": 11,
    "start_time": "2024-09-03T00:53:01.288Z"
   },
   {
    "duration": 25,
    "start_time": "2024-09-03T00:53:01.300Z"
   },
   {
    "duration": 8,
    "start_time": "2024-09-03T00:53:01.327Z"
   },
   {
    "duration": 3,
    "start_time": "2024-09-03T00:53:01.336Z"
   },
   {
    "duration": 7,
    "start_time": "2024-09-03T00:53:01.341Z"
   },
   {
    "duration": 16,
    "start_time": "2024-09-03T00:53:01.351Z"
   },
   {
    "duration": 4,
    "start_time": "2024-09-03T00:53:01.368Z"
   },
   {
    "duration": 2587,
    "start_time": "2024-09-03T00:53:01.374Z"
   },
   {
    "duration": 2,
    "start_time": "2024-09-03T00:53:03.963Z"
   },
   {
    "duration": 5,
    "start_time": "2024-09-03T00:53:03.967Z"
   },
   {
    "duration": 9,
    "start_time": "2024-09-03T00:53:03.974Z"
   },
   {
    "duration": 7,
    "start_time": "2024-09-03T00:53:03.984Z"
   },
   {
    "duration": 20,
    "start_time": "2024-09-03T00:53:03.993Z"
   },
   {
    "duration": 37,
    "start_time": "2024-09-03T00:53:04.015Z"
   },
   {
    "duration": 37,
    "start_time": "2024-09-03T00:53:04.053Z"
   },
   {
    "duration": 4,
    "start_time": "2024-09-03T00:53:04.092Z"
   },
   {
    "duration": 29,
    "start_time": "2024-09-03T00:53:04.097Z"
   },
   {
    "duration": 3,
    "start_time": "2024-09-03T00:53:04.128Z"
   },
   {
    "duration": 4,
    "start_time": "2024-09-03T00:53:04.133Z"
   },
   {
    "duration": 248,
    "start_time": "2024-09-03T00:53:04.138Z"
   },
   {
    "duration": 0,
    "start_time": "2024-09-03T00:53:04.388Z"
   },
   {
    "duration": 0,
    "start_time": "2024-09-03T00:53:04.389Z"
   },
   {
    "duration": 0,
    "start_time": "2024-09-03T00:53:04.390Z"
   },
   {
    "duration": 0,
    "start_time": "2024-09-03T00:53:04.391Z"
   },
   {
    "duration": 0,
    "start_time": "2024-09-03T00:53:04.393Z"
   },
   {
    "duration": 0,
    "start_time": "2024-09-03T00:53:04.394Z"
   },
   {
    "duration": 25,
    "start_time": "2024-09-03T00:53:29.021Z"
   },
   {
    "duration": 2060,
    "start_time": "2024-09-03T00:54:42.618Z"
   },
   {
    "duration": 951,
    "start_time": "2024-09-03T00:54:44.681Z"
   },
   {
    "duration": 7,
    "start_time": "2024-09-03T00:54:45.633Z"
   },
   {
    "duration": 3,
    "start_time": "2024-09-03T00:54:45.642Z"
   },
   {
    "duration": 10,
    "start_time": "2024-09-03T00:54:45.646Z"
   },
   {
    "duration": 8,
    "start_time": "2024-09-03T00:54:45.658Z"
   },
   {
    "duration": 7,
    "start_time": "2024-09-03T00:54:45.668Z"
   },
   {
    "duration": 3,
    "start_time": "2024-09-03T00:54:45.676Z"
   },
   {
    "duration": 8,
    "start_time": "2024-09-03T00:54:45.681Z"
   },
   {
    "duration": 15,
    "start_time": "2024-09-03T00:54:45.723Z"
   },
   {
    "duration": 4,
    "start_time": "2024-09-03T00:54:45.740Z"
   },
   {
    "duration": 2907,
    "start_time": "2024-09-03T00:54:45.746Z"
   },
   {
    "duration": 3,
    "start_time": "2024-09-03T00:54:48.656Z"
   },
   {
    "duration": 8,
    "start_time": "2024-09-03T00:54:48.662Z"
   },
   {
    "duration": 13,
    "start_time": "2024-09-03T00:54:48.672Z"
   },
   {
    "duration": 11,
    "start_time": "2024-09-03T00:54:48.687Z"
   },
   {
    "duration": 27,
    "start_time": "2024-09-03T00:54:48.700Z"
   },
   {
    "duration": 30,
    "start_time": "2024-09-03T00:54:48.728Z"
   },
   {
    "duration": 65,
    "start_time": "2024-09-03T00:54:48.760Z"
   },
   {
    "duration": 4,
    "start_time": "2024-09-03T00:54:48.828Z"
   },
   {
    "duration": 5,
    "start_time": "2024-09-03T00:54:48.840Z"
   },
   {
    "duration": 3,
    "start_time": "2024-09-03T00:54:48.848Z"
   },
   {
    "duration": 3,
    "start_time": "2024-09-03T00:54:48.853Z"
   },
   {
    "duration": 286,
    "start_time": "2024-09-03T00:54:48.858Z"
   },
   {
    "duration": 0,
    "start_time": "2024-09-03T00:54:49.146Z"
   },
   {
    "duration": 0,
    "start_time": "2024-09-03T00:54:49.148Z"
   },
   {
    "duration": 0,
    "start_time": "2024-09-03T00:54:49.149Z"
   },
   {
    "duration": 0,
    "start_time": "2024-09-03T00:54:49.151Z"
   },
   {
    "duration": 0,
    "start_time": "2024-09-03T00:54:49.152Z"
   },
   {
    "duration": 0,
    "start_time": "2024-09-03T00:54:49.153Z"
   },
   {
    "duration": 2059,
    "start_time": "2024-09-03T00:56:44.840Z"
   },
   {
    "duration": 935,
    "start_time": "2024-09-03T00:56:46.901Z"
   },
   {
    "duration": 7,
    "start_time": "2024-09-03T00:56:47.838Z"
   },
   {
    "duration": 3,
    "start_time": "2024-09-03T00:56:47.847Z"
   },
   {
    "duration": 10,
    "start_time": "2024-09-03T00:56:47.852Z"
   },
   {
    "duration": 9,
    "start_time": "2024-09-03T00:56:47.864Z"
   },
   {
    "duration": 8,
    "start_time": "2024-09-03T00:56:47.874Z"
   },
   {
    "duration": 4,
    "start_time": "2024-09-03T00:56:47.884Z"
   },
   {
    "duration": 41,
    "start_time": "2024-09-03T00:56:47.890Z"
   },
   {
    "duration": 16,
    "start_time": "2024-09-03T00:56:47.936Z"
   },
   {
    "duration": 5,
    "start_time": "2024-09-03T00:56:47.953Z"
   },
   {
    "duration": 2598,
    "start_time": "2024-09-03T00:56:47.959Z"
   },
   {
    "duration": 3,
    "start_time": "2024-09-03T00:56:50.558Z"
   },
   {
    "duration": 4,
    "start_time": "2024-09-03T00:56:50.562Z"
   },
   {
    "duration": 8,
    "start_time": "2024-09-03T00:56:50.568Z"
   },
   {
    "duration": 8,
    "start_time": "2024-09-03T00:56:50.577Z"
   },
   {
    "duration": 20,
    "start_time": "2024-09-03T00:56:50.586Z"
   },
   {
    "duration": 30,
    "start_time": "2024-09-03T00:56:50.607Z"
   },
   {
    "duration": 35,
    "start_time": "2024-09-03T00:56:50.638Z"
   },
   {
    "duration": 4,
    "start_time": "2024-09-03T00:56:50.675Z"
   },
   {
    "duration": 4,
    "start_time": "2024-09-03T00:56:50.681Z"
   },
   {
    "duration": 3,
    "start_time": "2024-09-03T00:56:50.686Z"
   },
   {
    "duration": 36,
    "start_time": "2024-09-03T00:56:50.690Z"
   },
   {
    "duration": 243,
    "start_time": "2024-09-03T00:56:50.727Z"
   },
   {
    "duration": 0,
    "start_time": "2024-09-03T00:56:50.971Z"
   },
   {
    "duration": 0,
    "start_time": "2024-09-03T00:56:50.973Z"
   },
   {
    "duration": 0,
    "start_time": "2024-09-03T00:56:50.974Z"
   },
   {
    "duration": 0,
    "start_time": "2024-09-03T00:56:50.975Z"
   },
   {
    "duration": 0,
    "start_time": "2024-09-03T00:56:50.976Z"
   },
   {
    "duration": 0,
    "start_time": "2024-09-03T00:56:50.978Z"
   },
   {
    "duration": 2,
    "start_time": "2024-09-03T01:17:21.442Z"
   },
   {
    "duration": 15,
    "start_time": "2024-09-03T01:17:36.157Z"
   },
   {
    "duration": 3,
    "start_time": "2024-09-03T01:17:48.059Z"
   },
   {
    "duration": 110,
    "start_time": "2024-09-03T01:17:48.818Z"
   },
   {
    "duration": 2,
    "start_time": "2024-09-03T01:18:04.580Z"
   },
   {
    "duration": 35,
    "start_time": "2024-09-03T01:18:05.500Z"
   },
   {
    "duration": 2,
    "start_time": "2024-09-03T01:18:25.247Z"
   },
   {
    "duration": 6,
    "start_time": "2024-09-03T01:18:26.122Z"
   },
   {
    "duration": 4,
    "start_time": "2024-09-03T01:18:36.436Z"
   },
   {
    "duration": 4,
    "start_time": "2024-09-03T01:18:47.437Z"
   },
   {
    "duration": 3,
    "start_time": "2024-09-03T01:19:13.685Z"
   },
   {
    "duration": 2069,
    "start_time": "2024-09-03T01:23:05.571Z"
   },
   {
    "duration": 1005,
    "start_time": "2024-09-03T01:23:07.643Z"
   },
   {
    "duration": 8,
    "start_time": "2024-09-03T01:23:08.649Z"
   },
   {
    "duration": 3,
    "start_time": "2024-09-03T01:23:08.659Z"
   },
   {
    "duration": 10,
    "start_time": "2024-09-03T01:23:08.664Z"
   },
   {
    "duration": 9,
    "start_time": "2024-09-03T01:23:08.675Z"
   },
   {
    "duration": 8,
    "start_time": "2024-09-03T01:23:08.686Z"
   },
   {
    "duration": 29,
    "start_time": "2024-09-03T01:23:08.696Z"
   },
   {
    "duration": 8,
    "start_time": "2024-09-03T01:23:08.727Z"
   },
   {
    "duration": 15,
    "start_time": "2024-09-03T01:23:08.738Z"
   },
   {
    "duration": 5,
    "start_time": "2024-09-03T01:23:08.755Z"
   },
   {
    "duration": 2567,
    "start_time": "2024-09-03T01:23:08.761Z"
   },
   {
    "duration": 3,
    "start_time": "2024-09-03T01:23:11.330Z"
   },
   {
    "duration": 5,
    "start_time": "2024-09-03T01:23:11.334Z"
   },
   {
    "duration": 8,
    "start_time": "2024-09-03T01:23:11.340Z"
   },
   {
    "duration": 8,
    "start_time": "2024-09-03T01:23:11.350Z"
   },
   {
    "duration": 20,
    "start_time": "2024-09-03T01:23:11.360Z"
   },
   {
    "duration": 52,
    "start_time": "2024-09-03T01:23:11.382Z"
   },
   {
    "duration": 35,
    "start_time": "2024-09-03T01:23:11.437Z"
   },
   {
    "duration": 4,
    "start_time": "2024-09-03T01:23:11.473Z"
   },
   {
    "duration": 3,
    "start_time": "2024-09-03T01:23:11.479Z"
   },
   {
    "duration": 3,
    "start_time": "2024-09-03T01:23:11.484Z"
   },
   {
    "duration": 3,
    "start_time": "2024-09-03T01:23:11.489Z"
   },
   {
    "duration": 72,
    "start_time": "2024-09-03T01:23:11.494Z"
   },
   {
    "duration": 4,
    "start_time": "2024-09-03T01:23:11.568Z"
   },
   {
    "duration": 0,
    "start_time": "2024-09-03T01:23:11.573Z"
   },
   {
    "duration": 0,
    "start_time": "2024-09-03T01:23:11.576Z"
   },
   {
    "duration": 0,
    "start_time": "2024-09-03T01:23:11.577Z"
   },
   {
    "duration": 0,
    "start_time": "2024-09-03T01:23:11.579Z"
   },
   {
    "duration": 0,
    "start_time": "2024-09-03T01:23:11.580Z"
   },
   {
    "duration": 391,
    "start_time": "2024-09-03T02:18:21.046Z"
   },
   {
    "duration": 2080,
    "start_time": "2024-09-03T02:18:48.763Z"
   },
   {
    "duration": 1012,
    "start_time": "2024-09-03T02:18:50.845Z"
   },
   {
    "duration": 7,
    "start_time": "2024-09-03T02:18:51.860Z"
   },
   {
    "duration": 2,
    "start_time": "2024-09-03T02:18:51.869Z"
   },
   {
    "duration": 13,
    "start_time": "2024-09-03T02:18:51.874Z"
   },
   {
    "duration": 10,
    "start_time": "2024-09-03T02:18:51.889Z"
   },
   {
    "duration": 27,
    "start_time": "2024-09-03T02:18:51.901Z"
   },
   {
    "duration": 3,
    "start_time": "2024-09-03T02:18:51.930Z"
   },
   {
    "duration": 8,
    "start_time": "2024-09-03T02:18:51.934Z"
   },
   {
    "duration": 15,
    "start_time": "2024-09-03T02:18:51.946Z"
   },
   {
    "duration": 5,
    "start_time": "2024-09-03T02:18:51.962Z"
   },
   {
    "duration": 2616,
    "start_time": "2024-09-03T02:18:51.968Z"
   },
   {
    "duration": 2,
    "start_time": "2024-09-03T02:18:54.586Z"
   },
   {
    "duration": 4,
    "start_time": "2024-09-03T02:18:54.590Z"
   },
   {
    "duration": 8,
    "start_time": "2024-09-03T02:18:54.596Z"
   },
   {
    "duration": 8,
    "start_time": "2024-09-03T02:18:54.605Z"
   },
   {
    "duration": 21,
    "start_time": "2024-09-03T02:18:54.614Z"
   },
   {
    "duration": 28,
    "start_time": "2024-09-03T02:18:54.637Z"
   },
   {
    "duration": 36,
    "start_time": "2024-09-03T02:18:54.666Z"
   },
   {
    "duration": 4,
    "start_time": "2024-09-03T02:18:54.724Z"
   },
   {
    "duration": 4,
    "start_time": "2024-09-03T02:18:54.729Z"
   },
   {
    "duration": 3,
    "start_time": "2024-09-03T02:18:54.735Z"
   },
   {
    "duration": 2,
    "start_time": "2024-09-03T02:18:54.740Z"
   },
   {
    "duration": 399,
    "start_time": "2024-09-03T02:18:54.744Z"
   },
   {
    "duration": 0,
    "start_time": "2024-09-03T02:18:55.146Z"
   },
   {
    "duration": 0,
    "start_time": "2024-09-03T02:18:55.148Z"
   },
   {
    "duration": 0,
    "start_time": "2024-09-03T02:18:55.149Z"
   },
   {
    "duration": 0,
    "start_time": "2024-09-03T02:18:55.150Z"
   },
   {
    "duration": 0,
    "start_time": "2024-09-03T02:18:55.151Z"
   },
   {
    "duration": 0,
    "start_time": "2024-09-03T02:18:55.153Z"
   },
   {
    "duration": 44,
    "start_time": "2024-09-03T02:19:10.735Z"
   },
   {
    "duration": 148,
    "start_time": "2024-09-03T02:19:19.125Z"
   },
   {
    "duration": 44,
    "start_time": "2024-09-03T02:19:29.536Z"
   },
   {
    "duration": 2416,
    "start_time": "2024-09-04T01:27:36.681Z"
   },
   {
    "duration": 2662,
    "start_time": "2024-09-04T01:27:39.101Z"
   },
   {
    "duration": 13,
    "start_time": "2024-09-04T01:27:41.765Z"
   },
   {
    "duration": 3,
    "start_time": "2024-09-04T01:27:41.781Z"
   },
   {
    "duration": 11,
    "start_time": "2024-09-04T01:27:41.785Z"
   },
   {
    "duration": 8,
    "start_time": "2024-09-04T01:27:41.798Z"
   },
   {
    "duration": 8,
    "start_time": "2024-09-04T01:27:41.808Z"
   },
   {
    "duration": 3,
    "start_time": "2024-09-04T01:27:41.818Z"
   },
   {
    "duration": 8,
    "start_time": "2024-09-04T01:27:41.822Z"
   },
   {
    "duration": 54,
    "start_time": "2024-09-04T01:27:41.833Z"
   },
   {
    "duration": 6,
    "start_time": "2024-09-04T01:27:41.888Z"
   },
   {
    "duration": 2676,
    "start_time": "2024-09-04T01:27:41.895Z"
   },
   {
    "duration": 2,
    "start_time": "2024-09-04T01:27:44.574Z"
   },
   {
    "duration": 3,
    "start_time": "2024-09-04T01:27:44.578Z"
   },
   {
    "duration": 8,
    "start_time": "2024-09-04T01:27:44.583Z"
   },
   {
    "duration": 8,
    "start_time": "2024-09-04T01:27:44.592Z"
   },
   {
    "duration": 21,
    "start_time": "2024-09-04T01:27:44.601Z"
   },
   {
    "duration": 29,
    "start_time": "2024-09-04T01:27:44.623Z"
   },
   {
    "duration": 67,
    "start_time": "2024-09-04T01:27:44.654Z"
   },
   {
    "duration": 4,
    "start_time": "2024-09-04T01:27:44.722Z"
   },
   {
    "duration": 4,
    "start_time": "2024-09-04T01:27:44.729Z"
   },
   {
    "duration": 4,
    "start_time": "2024-09-04T01:27:44.734Z"
   },
   {
    "duration": 2,
    "start_time": "2024-09-04T01:27:44.741Z"
   },
   {
    "duration": 74,
    "start_time": "2024-09-04T01:27:44.745Z"
   },
   {
    "duration": 44,
    "start_time": "2024-09-04T01:27:44.821Z"
   },
   {
    "duration": 4,
    "start_time": "2024-09-04T01:27:44.867Z"
   },
   {
    "duration": 0,
    "start_time": "2024-09-04T01:27:44.874Z"
   },
   {
    "duration": 0,
    "start_time": "2024-09-04T01:27:44.887Z"
   },
   {
    "duration": 0,
    "start_time": "2024-09-04T01:27:44.889Z"
   },
   {
    "duration": 0,
    "start_time": "2024-09-04T01:27:44.890Z"
   },
   {
    "duration": 0,
    "start_time": "2024-09-04T01:27:44.891Z"
   },
   {
    "duration": 2074,
    "start_time": "2024-09-04T03:59:20.618Z"
   },
   {
    "duration": 1011,
    "start_time": "2024-09-04T03:59:22.694Z"
   },
   {
    "duration": 8,
    "start_time": "2024-09-04T03:59:23.707Z"
   },
   {
    "duration": 3,
    "start_time": "2024-09-04T03:59:23.716Z"
   },
   {
    "duration": 11,
    "start_time": "2024-09-04T03:59:23.722Z"
   },
   {
    "duration": 8,
    "start_time": "2024-09-04T03:59:23.734Z"
   },
   {
    "duration": 9,
    "start_time": "2024-09-04T03:59:23.744Z"
   },
   {
    "duration": 34,
    "start_time": "2024-09-04T03:59:23.754Z"
   },
   {
    "duration": 3,
    "start_time": "2024-09-04T03:59:23.791Z"
   },
   {
    "duration": 8,
    "start_time": "2024-09-04T03:59:23.797Z"
   },
   {
    "duration": 16,
    "start_time": "2024-09-04T03:59:23.806Z"
   },
   {
    "duration": 5,
    "start_time": "2024-09-04T03:59:23.824Z"
   },
   {
    "duration": 2528,
    "start_time": "2024-09-04T03:59:23.831Z"
   },
   {
    "duration": 2,
    "start_time": "2024-09-04T03:59:26.363Z"
   },
   {
    "duration": 4,
    "start_time": "2024-09-04T03:59:26.366Z"
   },
   {
    "duration": 8,
    "start_time": "2024-09-04T03:59:26.372Z"
   },
   {
    "duration": 8,
    "start_time": "2024-09-04T03:59:26.387Z"
   },
   {
    "duration": 340,
    "start_time": "2024-09-04T03:59:26.397Z"
   },
   {
    "duration": 0,
    "start_time": "2024-09-04T03:59:26.739Z"
   },
   {
    "duration": 0,
    "start_time": "2024-09-04T03:59:26.740Z"
   },
   {
    "duration": 0,
    "start_time": "2024-09-04T03:59:26.742Z"
   },
   {
    "duration": 0,
    "start_time": "2024-09-04T03:59:26.743Z"
   },
   {
    "duration": 0,
    "start_time": "2024-09-04T03:59:26.744Z"
   },
   {
    "duration": 0,
    "start_time": "2024-09-04T03:59:26.745Z"
   },
   {
    "duration": 0,
    "start_time": "2024-09-04T03:59:26.745Z"
   },
   {
    "duration": 0,
    "start_time": "2024-09-04T03:59:26.747Z"
   },
   {
    "duration": 0,
    "start_time": "2024-09-04T03:59:26.748Z"
   },
   {
    "duration": 0,
    "start_time": "2024-09-04T03:59:26.749Z"
   },
   {
    "duration": 0,
    "start_time": "2024-09-04T03:59:26.750Z"
   },
   {
    "duration": 0,
    "start_time": "2024-09-04T03:59:26.752Z"
   },
   {
    "duration": 0,
    "start_time": "2024-09-04T03:59:26.753Z"
   },
   {
    "duration": 0,
    "start_time": "2024-09-04T03:59:26.754Z"
   },
   {
    "duration": 9,
    "start_time": "2024-09-04T03:59:54.365Z"
   },
   {
    "duration": 15,
    "start_time": "2024-09-04T04:00:07.875Z"
   },
   {
    "duration": 9,
    "start_time": "2024-09-04T04:00:14.540Z"
   },
   {
    "duration": 2083,
    "start_time": "2024-09-04T04:01:27.467Z"
   },
   {
    "duration": 926,
    "start_time": "2024-09-04T04:01:29.553Z"
   },
   {
    "duration": 10,
    "start_time": "2024-09-04T04:01:30.481Z"
   },
   {
    "duration": 3,
    "start_time": "2024-09-04T04:01:30.492Z"
   },
   {
    "duration": 10,
    "start_time": "2024-09-04T04:01:30.499Z"
   },
   {
    "duration": 9,
    "start_time": "2024-09-04T04:01:30.511Z"
   },
   {
    "duration": 8,
    "start_time": "2024-09-04T04:01:30.521Z"
   },
   {
    "duration": 9,
    "start_time": "2024-09-04T04:01:30.530Z"
   },
   {
    "duration": 2,
    "start_time": "2024-09-04T04:01:30.541Z"
   },
   {
    "duration": 47,
    "start_time": "2024-09-04T04:01:30.545Z"
   },
   {
    "duration": 15,
    "start_time": "2024-09-04T04:01:30.594Z"
   },
   {
    "duration": 5,
    "start_time": "2024-09-04T04:01:30.610Z"
   },
   {
    "duration": 2567,
    "start_time": "2024-09-04T04:01:30.617Z"
   },
   {
    "duration": 3,
    "start_time": "2024-09-04T04:01:33.188Z"
   },
   {
    "duration": 5,
    "start_time": "2024-09-04T04:01:33.194Z"
   },
   {
    "duration": 10,
    "start_time": "2024-09-04T04:01:33.201Z"
   },
   {
    "duration": 12,
    "start_time": "2024-09-04T04:01:33.212Z"
   },
   {
    "duration": 350,
    "start_time": "2024-09-04T04:01:33.226Z"
   },
   {
    "duration": 0,
    "start_time": "2024-09-04T04:01:33.578Z"
   },
   {
    "duration": 0,
    "start_time": "2024-09-04T04:01:33.579Z"
   },
   {
    "duration": 0,
    "start_time": "2024-09-04T04:01:33.586Z"
   },
   {
    "duration": 0,
    "start_time": "2024-09-04T04:01:33.587Z"
   },
   {
    "duration": 0,
    "start_time": "2024-09-04T04:01:33.588Z"
   },
   {
    "duration": 0,
    "start_time": "2024-09-04T04:01:33.589Z"
   },
   {
    "duration": 0,
    "start_time": "2024-09-04T04:01:33.592Z"
   },
   {
    "duration": 0,
    "start_time": "2024-09-04T04:01:33.593Z"
   },
   {
    "duration": 0,
    "start_time": "2024-09-04T04:01:33.594Z"
   },
   {
    "duration": 0,
    "start_time": "2024-09-04T04:01:33.596Z"
   },
   {
    "duration": 0,
    "start_time": "2024-09-04T04:01:33.597Z"
   },
   {
    "duration": 0,
    "start_time": "2024-09-04T04:01:33.598Z"
   },
   {
    "duration": 0,
    "start_time": "2024-09-04T04:01:33.600Z"
   },
   {
    "duration": 0,
    "start_time": "2024-09-04T04:01:33.601Z"
   },
   {
    "duration": 2112,
    "start_time": "2024-09-04T04:04:13.237Z"
   },
   {
    "duration": 926,
    "start_time": "2024-09-04T04:04:15.351Z"
   },
   {
    "duration": 6,
    "start_time": "2024-09-04T04:04:16.279Z"
   },
   {
    "duration": 3,
    "start_time": "2024-09-04T04:04:16.287Z"
   },
   {
    "duration": 9,
    "start_time": "2024-09-04T04:04:16.294Z"
   },
   {
    "duration": 8,
    "start_time": "2024-09-04T04:04:16.305Z"
   },
   {
    "duration": 8,
    "start_time": "2024-09-04T04:04:16.314Z"
   },
   {
    "duration": 9,
    "start_time": "2024-09-04T04:04:16.323Z"
   },
   {
    "duration": 2,
    "start_time": "2024-09-04T04:04:16.334Z"
   },
   {
    "duration": 7,
    "start_time": "2024-09-04T04:04:16.338Z"
   },
   {
    "duration": 54,
    "start_time": "2024-09-04T04:04:16.347Z"
   },
   {
    "duration": 4,
    "start_time": "2024-09-04T04:04:16.403Z"
   },
   {
    "duration": 2634,
    "start_time": "2024-09-04T04:04:16.409Z"
   },
   {
    "duration": 3,
    "start_time": "2024-09-04T04:04:19.047Z"
   },
   {
    "duration": 4,
    "start_time": "2024-09-04T04:04:19.052Z"
   },
   {
    "duration": 9,
    "start_time": "2024-09-04T04:04:19.057Z"
   },
   {
    "duration": 7,
    "start_time": "2024-09-04T04:04:19.068Z"
   },
   {
    "duration": 33,
    "start_time": "2024-09-04T04:04:19.077Z"
   },
   {
    "duration": 34,
    "start_time": "2024-09-04T04:04:19.112Z"
   },
   {
    "duration": 57,
    "start_time": "2024-09-04T04:04:19.147Z"
   },
   {
    "duration": 5,
    "start_time": "2024-09-04T04:04:19.206Z"
   },
   {
    "duration": 4,
    "start_time": "2024-09-04T04:04:19.212Z"
   },
   {
    "duration": 3,
    "start_time": "2024-09-04T04:04:19.217Z"
   },
   {
    "duration": 5,
    "start_time": "2024-09-04T04:04:19.222Z"
   },
   {
    "duration": 414,
    "start_time": "2024-09-04T04:04:19.228Z"
   },
   {
    "duration": 0,
    "start_time": "2024-09-04T04:04:19.644Z"
   },
   {
    "duration": 0,
    "start_time": "2024-09-04T04:04:19.646Z"
   },
   {
    "duration": 0,
    "start_time": "2024-09-04T04:04:19.646Z"
   },
   {
    "duration": 0,
    "start_time": "2024-09-04T04:04:19.648Z"
   },
   {
    "duration": 0,
    "start_time": "2024-09-04T04:04:19.649Z"
   },
   {
    "duration": 0,
    "start_time": "2024-09-04T04:04:19.651Z"
   },
   {
    "duration": 0,
    "start_time": "2024-09-04T04:04:19.653Z"
   },
   {
    "duration": 2068,
    "start_time": "2024-09-04T04:07:27.370Z"
   },
   {
    "duration": 941,
    "start_time": "2024-09-04T04:07:29.441Z"
   },
   {
    "duration": 8,
    "start_time": "2024-09-04T04:07:30.383Z"
   },
   {
    "duration": 3,
    "start_time": "2024-09-04T04:07:30.393Z"
   },
   {
    "duration": 11,
    "start_time": "2024-09-04T04:07:30.398Z"
   },
   {
    "duration": 9,
    "start_time": "2024-09-04T04:07:30.411Z"
   },
   {
    "duration": 8,
    "start_time": "2024-09-04T04:07:30.422Z"
   },
   {
    "duration": 259,
    "start_time": "2024-09-04T04:07:30.432Z"
   },
   {
    "duration": 0,
    "start_time": "2024-09-04T04:07:30.693Z"
   },
   {
    "duration": 0,
    "start_time": "2024-09-04T04:07:30.694Z"
   },
   {
    "duration": 0,
    "start_time": "2024-09-04T04:07:30.695Z"
   },
   {
    "duration": 0,
    "start_time": "2024-09-04T04:07:30.698Z"
   },
   {
    "duration": 0,
    "start_time": "2024-09-04T04:07:30.699Z"
   },
   {
    "duration": 0,
    "start_time": "2024-09-04T04:07:30.700Z"
   },
   {
    "duration": 0,
    "start_time": "2024-09-04T04:07:30.701Z"
   },
   {
    "duration": 0,
    "start_time": "2024-09-04T04:07:30.702Z"
   },
   {
    "duration": 0,
    "start_time": "2024-09-04T04:07:30.703Z"
   },
   {
    "duration": 0,
    "start_time": "2024-09-04T04:07:30.704Z"
   },
   {
    "duration": 0,
    "start_time": "2024-09-04T04:07:30.705Z"
   },
   {
    "duration": 0,
    "start_time": "2024-09-04T04:07:30.706Z"
   },
   {
    "duration": 0,
    "start_time": "2024-09-04T04:07:30.707Z"
   },
   {
    "duration": 0,
    "start_time": "2024-09-04T04:07:30.708Z"
   },
   {
    "duration": 0,
    "start_time": "2024-09-04T04:07:30.709Z"
   },
   {
    "duration": 0,
    "start_time": "2024-09-04T04:07:30.710Z"
   },
   {
    "duration": 0,
    "start_time": "2024-09-04T04:07:30.711Z"
   },
   {
    "duration": 0,
    "start_time": "2024-09-04T04:07:30.712Z"
   },
   {
    "duration": 0,
    "start_time": "2024-09-04T04:07:30.713Z"
   },
   {
    "duration": 0,
    "start_time": "2024-09-04T04:07:30.714Z"
   },
   {
    "duration": 0,
    "start_time": "2024-09-04T04:07:30.715Z"
   },
   {
    "duration": 0,
    "start_time": "2024-09-04T04:07:30.716Z"
   },
   {
    "duration": 0,
    "start_time": "2024-09-04T04:07:30.718Z"
   },
   {
    "duration": 0,
    "start_time": "2024-09-04T04:07:30.719Z"
   },
   {
    "duration": 11,
    "start_time": "2024-09-04T04:09:33.848Z"
   },
   {
    "duration": 2132,
    "start_time": "2024-09-04T04:09:43.044Z"
   },
   {
    "duration": 964,
    "start_time": "2024-09-04T04:09:45.179Z"
   },
   {
    "duration": 7,
    "start_time": "2024-09-04T04:09:46.145Z"
   },
   {
    "duration": 3,
    "start_time": "2024-09-04T04:09:46.154Z"
   },
   {
    "duration": 10,
    "start_time": "2024-09-04T04:09:46.159Z"
   },
   {
    "duration": 9,
    "start_time": "2024-09-04T04:09:46.186Z"
   },
   {
    "duration": 10,
    "start_time": "2024-09-04T04:09:46.196Z"
   },
   {
    "duration": 9,
    "start_time": "2024-09-04T04:09:46.207Z"
   },
   {
    "duration": 3,
    "start_time": "2024-09-04T04:09:46.217Z"
   },
   {
    "duration": 8,
    "start_time": "2024-09-04T04:09:46.224Z"
   },
   {
    "duration": 15,
    "start_time": "2024-09-04T04:09:46.234Z"
   },
   {
    "duration": 37,
    "start_time": "2024-09-04T04:09:46.251Z"
   },
   {
    "duration": 2553,
    "start_time": "2024-09-04T04:09:46.291Z"
   },
   {
    "duration": 3,
    "start_time": "2024-09-04T04:09:48.846Z"
   },
   {
    "duration": 4,
    "start_time": "2024-09-04T04:09:48.851Z"
   },
   {
    "duration": 8,
    "start_time": "2024-09-04T04:09:48.857Z"
   },
   {
    "duration": 7,
    "start_time": "2024-09-04T04:09:48.867Z"
   },
   {
    "duration": 21,
    "start_time": "2024-09-04T04:09:48.887Z"
   },
   {
    "duration": 28,
    "start_time": "2024-09-04T04:09:48.909Z"
   },
   {
    "duration": 56,
    "start_time": "2024-09-04T04:09:48.939Z"
   },
   {
    "duration": 4,
    "start_time": "2024-09-04T04:09:48.996Z"
   },
   {
    "duration": 5,
    "start_time": "2024-09-04T04:09:49.002Z"
   },
   {
    "duration": 3,
    "start_time": "2024-09-04T04:09:49.008Z"
   },
   {
    "duration": 4,
    "start_time": "2024-09-04T04:09:49.012Z"
   },
   {
    "duration": 402,
    "start_time": "2024-09-04T04:09:49.018Z"
   },
   {
    "duration": 0,
    "start_time": "2024-09-04T04:09:49.422Z"
   },
   {
    "duration": 0,
    "start_time": "2024-09-04T04:09:49.423Z"
   },
   {
    "duration": 0,
    "start_time": "2024-09-04T04:09:49.425Z"
   },
   {
    "duration": 0,
    "start_time": "2024-09-04T04:09:49.426Z"
   },
   {
    "duration": 0,
    "start_time": "2024-09-04T04:09:49.427Z"
   },
   {
    "duration": 0,
    "start_time": "2024-09-04T04:09:49.428Z"
   },
   {
    "duration": 0,
    "start_time": "2024-09-04T04:09:49.429Z"
   },
   {
    "duration": 68,
    "start_time": "2024-09-04T04:11:51.909Z"
   },
   {
    "duration": 18,
    "start_time": "2024-09-04T04:16:06.759Z"
   },
   {
    "duration": 19,
    "start_time": "2024-09-04T04:16:42.649Z"
   },
   {
    "duration": 6,
    "start_time": "2024-09-04T04:16:47.879Z"
   },
   {
    "duration": 12,
    "start_time": "2024-09-04T04:17:36.687Z"
   },
   {
    "duration": 25,
    "start_time": "2024-09-04T04:18:35.893Z"
   },
   {
    "duration": 15,
    "start_time": "2024-09-04T04:18:50.317Z"
   },
   {
    "duration": 6,
    "start_time": "2024-09-04T04:19:10.338Z"
   },
   {
    "duration": 6,
    "start_time": "2024-09-04T04:27:19.237Z"
   },
   {
    "duration": 14,
    "start_time": "2024-09-04T04:28:26.563Z"
   },
   {
    "duration": 2347,
    "start_time": "2024-09-04T04:29:23.383Z"
   },
   {
    "duration": 1060,
    "start_time": "2024-09-04T04:29:25.733Z"
   },
   {
    "duration": 9,
    "start_time": "2024-09-04T04:29:26.795Z"
   },
   {
    "duration": 3,
    "start_time": "2024-09-04T04:29:26.806Z"
   },
   {
    "duration": 9,
    "start_time": "2024-09-04T04:29:26.811Z"
   },
   {
    "duration": 11,
    "start_time": "2024-09-04T04:29:26.822Z"
   },
   {
    "duration": 9,
    "start_time": "2024-09-04T04:29:26.835Z"
   },
   {
    "duration": 40,
    "start_time": "2024-09-04T04:29:26.846Z"
   },
   {
    "duration": 3,
    "start_time": "2024-09-04T04:29:26.889Z"
   },
   {
    "duration": 8,
    "start_time": "2024-09-04T04:29:26.897Z"
   },
   {
    "duration": 23,
    "start_time": "2024-09-04T04:29:26.907Z"
   },
   {
    "duration": 5,
    "start_time": "2024-09-04T04:29:26.932Z"
   },
   {
    "duration": 2704,
    "start_time": "2024-09-04T04:29:26.939Z"
   },
   {
    "duration": 2,
    "start_time": "2024-09-04T04:29:29.646Z"
   },
   {
    "duration": 4,
    "start_time": "2024-09-04T04:29:29.650Z"
   },
   {
    "duration": 9,
    "start_time": "2024-09-04T04:29:29.655Z"
   },
   {
    "duration": 8,
    "start_time": "2024-09-04T04:29:29.665Z"
   },
   {
    "duration": 20,
    "start_time": "2024-09-04T04:29:29.674Z"
   },
   {
    "duration": 29,
    "start_time": "2024-09-04T04:29:29.696Z"
   },
   {
    "duration": 37,
    "start_time": "2024-09-04T04:29:29.726Z"
   },
   {
    "duration": 24,
    "start_time": "2024-09-04T04:29:29.765Z"
   },
   {
    "duration": 4,
    "start_time": "2024-09-04T04:29:29.791Z"
   },
   {
    "duration": 3,
    "start_time": "2024-09-04T04:29:29.797Z"
   },
   {
    "duration": 4,
    "start_time": "2024-09-04T04:29:29.801Z"
   },
   {
    "duration": 44,
    "start_time": "2024-09-04T04:29:29.806Z"
   },
   {
    "duration": 5,
    "start_time": "2024-09-04T04:29:29.851Z"
   },
   {
    "duration": 255,
    "start_time": "2024-09-04T04:29:29.858Z"
   },
   {
    "duration": 0,
    "start_time": "2024-09-04T04:29:30.115Z"
   },
   {
    "duration": 0,
    "start_time": "2024-09-04T04:29:30.117Z"
   },
   {
    "duration": 0,
    "start_time": "2024-09-04T04:29:30.120Z"
   },
   {
    "duration": 0,
    "start_time": "2024-09-04T04:29:30.121Z"
   },
   {
    "duration": 0,
    "start_time": "2024-09-04T04:29:30.122Z"
   },
   {
    "duration": 0,
    "start_time": "2024-09-04T04:29:30.123Z"
   },
   {
    "duration": 15,
    "start_time": "2024-09-04T04:29:47.288Z"
   },
   {
    "duration": 4,
    "start_time": "2024-09-04T04:58:32.247Z"
   },
   {
    "duration": 6,
    "start_time": "2024-09-04T04:58:49.444Z"
   },
   {
    "duration": 2502,
    "start_time": "2024-09-04T04:59:48.800Z"
   },
   {
    "duration": 1226,
    "start_time": "2024-09-04T04:59:51.304Z"
   },
   {
    "duration": 10,
    "start_time": "2024-09-04T04:59:52.532Z"
   },
   {
    "duration": 6,
    "start_time": "2024-09-04T04:59:52.545Z"
   },
   {
    "duration": 13,
    "start_time": "2024-09-04T04:59:52.553Z"
   },
   {
    "duration": 26,
    "start_time": "2024-09-04T04:59:52.568Z"
   },
   {
    "duration": 12,
    "start_time": "2024-09-04T04:59:52.596Z"
   },
   {
    "duration": 11,
    "start_time": "2024-09-04T04:59:52.612Z"
   },
   {
    "duration": 3,
    "start_time": "2024-09-04T04:59:52.626Z"
   },
   {
    "duration": 10,
    "start_time": "2024-09-04T04:59:52.636Z"
   },
   {
    "duration": 51,
    "start_time": "2024-09-04T04:59:52.648Z"
   },
   {
    "duration": 5,
    "start_time": "2024-09-04T04:59:52.703Z"
   },
   {
    "duration": 3240,
    "start_time": "2024-09-04T04:59:52.709Z"
   },
   {
    "duration": 3,
    "start_time": "2024-09-04T04:59:55.951Z"
   },
   {
    "duration": 6,
    "start_time": "2024-09-04T04:59:55.959Z"
   },
   {
    "duration": 9,
    "start_time": "2024-09-04T04:59:55.967Z"
   },
   {
    "duration": 11,
    "start_time": "2024-09-04T04:59:55.978Z"
   },
   {
    "duration": 26,
    "start_time": "2024-09-04T04:59:55.991Z"
   },
   {
    "duration": 36,
    "start_time": "2024-09-04T04:59:56.020Z"
   },
   {
    "duration": 73,
    "start_time": "2024-09-04T04:59:56.057Z"
   },
   {
    "duration": 6,
    "start_time": "2024-09-04T04:59:56.134Z"
   },
   {
    "duration": 4,
    "start_time": "2024-09-04T04:59:56.142Z"
   },
   {
    "duration": 4,
    "start_time": "2024-09-04T04:59:56.148Z"
   },
   {
    "duration": 3,
    "start_time": "2024-09-04T04:59:56.154Z"
   },
   {
    "duration": 50,
    "start_time": "2024-09-04T04:59:56.186Z"
   },
   {
    "duration": 7,
    "start_time": "2024-09-04T04:59:56.239Z"
   },
   {
    "duration": 4,
    "start_time": "2024-09-04T04:59:56.248Z"
   },
   {
    "duration": 7,
    "start_time": "2024-09-04T04:59:56.257Z"
   },
   {
    "duration": 22,
    "start_time": "2024-09-04T04:59:56.266Z"
   },
   {
    "duration": 459,
    "start_time": "2024-09-04T04:59:56.290Z"
   },
   {
    "duration": 0,
    "start_time": "2024-09-04T04:59:56.751Z"
   },
   {
    "duration": 0,
    "start_time": "2024-09-04T04:59:56.752Z"
   },
   {
    "duration": 0,
    "start_time": "2024-09-04T04:59:56.753Z"
   },
   {
    "duration": 7,
    "start_time": "2024-09-04T05:02:04.899Z"
   },
   {
    "duration": 9,
    "start_time": "2024-09-04T05:02:13.246Z"
   },
   {
    "duration": 11,
    "start_time": "2024-09-04T05:03:20.254Z"
   },
   {
    "duration": 2272,
    "start_time": "2024-09-04T05:11:55.600Z"
   },
   {
    "duration": 1078,
    "start_time": "2024-09-04T05:11:57.876Z"
   },
   {
    "duration": 8,
    "start_time": "2024-09-04T05:11:58.957Z"
   },
   {
    "duration": 4,
    "start_time": "2024-09-04T05:11:58.967Z"
   },
   {
    "duration": 21,
    "start_time": "2024-09-04T05:11:58.975Z"
   },
   {
    "duration": 10,
    "start_time": "2024-09-04T05:11:58.998Z"
   },
   {
    "duration": 9,
    "start_time": "2024-09-04T05:11:59.011Z"
   },
   {
    "duration": 10,
    "start_time": "2024-09-04T05:11:59.022Z"
   },
   {
    "duration": 3,
    "start_time": "2024-09-04T05:11:59.034Z"
   },
   {
    "duration": 9,
    "start_time": "2024-09-04T05:11:59.039Z"
   },
   {
    "duration": 50,
    "start_time": "2024-09-04T05:11:59.050Z"
   },
   {
    "duration": 7,
    "start_time": "2024-09-04T05:11:59.102Z"
   },
   {
    "duration": 2752,
    "start_time": "2024-09-04T05:11:59.111Z"
   },
   {
    "duration": 2,
    "start_time": "2024-09-04T05:12:01.867Z"
   },
   {
    "duration": 5,
    "start_time": "2024-09-04T05:12:01.871Z"
   },
   {
    "duration": 12,
    "start_time": "2024-09-04T05:12:01.877Z"
   },
   {
    "duration": 9,
    "start_time": "2024-09-04T05:12:01.891Z"
   },
   {
    "duration": 27,
    "start_time": "2024-09-04T05:12:01.902Z"
   },
   {
    "duration": 57,
    "start_time": "2024-09-04T05:12:01.931Z"
   },
   {
    "duration": 40,
    "start_time": "2024-09-04T05:12:01.989Z"
   },
   {
    "duration": 6,
    "start_time": "2024-09-04T05:12:02.031Z"
   },
   {
    "duration": 5,
    "start_time": "2024-09-04T05:12:02.039Z"
   },
   {
    "duration": 3,
    "start_time": "2024-09-04T05:12:02.046Z"
   },
   {
    "duration": 3,
    "start_time": "2024-09-04T05:12:02.051Z"
   },
   {
    "duration": 46,
    "start_time": "2024-09-04T05:12:02.087Z"
   },
   {
    "duration": 6,
    "start_time": "2024-09-04T05:12:02.135Z"
   },
   {
    "duration": 49,
    "start_time": "2024-09-04T05:12:02.142Z"
   },
   {
    "duration": 4,
    "start_time": "2024-09-04T05:12:02.193Z"
   },
   {
    "duration": 4,
    "start_time": "2024-09-04T05:12:02.199Z"
   },
   {
    "duration": 398,
    "start_time": "2024-09-04T05:12:02.204Z"
   },
   {
    "duration": 0,
    "start_time": "2024-09-04T05:12:02.604Z"
   },
   {
    "duration": 0,
    "start_time": "2024-09-04T05:12:02.605Z"
   },
   {
    "duration": 0,
    "start_time": "2024-09-04T05:12:02.607Z"
   },
   {
    "duration": 45,
    "start_time": "2024-09-04T05:16:02.088Z"
   },
   {
    "duration": 45,
    "start_time": "2024-09-04T05:17:52.307Z"
   },
   {
    "duration": 5,
    "start_time": "2024-09-04T05:22:19.574Z"
   },
   {
    "duration": 34,
    "start_time": "2024-09-04T05:24:31.346Z"
   },
   {
    "duration": 6,
    "start_time": "2024-09-04T05:24:49.326Z"
   },
   {
    "duration": 64,
    "start_time": "2024-09-04T05:25:05.191Z"
   },
   {
    "duration": 34,
    "start_time": "2024-09-04T05:25:16.026Z"
   },
   {
    "duration": 395,
    "start_time": "2024-09-04T05:27:19.445Z"
   },
   {
    "duration": 284,
    "start_time": "2024-09-04T05:27:29.035Z"
   },
   {
    "duration": 308,
    "start_time": "2024-09-04T05:27:45.525Z"
   },
   {
    "duration": 284,
    "start_time": "2024-09-04T05:28:55.750Z"
   },
   {
    "duration": 294,
    "start_time": "2024-09-04T05:30:08.468Z"
   },
   {
    "duration": 5,
    "start_time": "2024-09-04T05:30:58.165Z"
   },
   {
    "duration": 2204,
    "start_time": "2024-09-04T05:31:04.879Z"
   },
   {
    "duration": 1099,
    "start_time": "2024-09-04T05:31:07.087Z"
   },
   {
    "duration": 8,
    "start_time": "2024-09-04T05:31:08.188Z"
   },
   {
    "duration": 3,
    "start_time": "2024-09-04T05:31:08.198Z"
   },
   {
    "duration": 12,
    "start_time": "2024-09-04T05:31:08.205Z"
   },
   {
    "duration": 9,
    "start_time": "2024-09-04T05:31:08.219Z"
   },
   {
    "duration": 9,
    "start_time": "2024-09-04T05:31:08.231Z"
   },
   {
    "duration": 14,
    "start_time": "2024-09-04T05:31:08.242Z"
   },
   {
    "duration": 5,
    "start_time": "2024-09-04T05:31:08.288Z"
   },
   {
    "duration": 10,
    "start_time": "2024-09-04T05:31:08.295Z"
   },
   {
    "duration": 17,
    "start_time": "2024-09-04T05:31:08.307Z"
   },
   {
    "duration": 5,
    "start_time": "2024-09-04T05:31:08.326Z"
   },
   {
    "duration": 3037,
    "start_time": "2024-09-04T05:35:02.358Z"
   },
   {
    "duration": 1374,
    "start_time": "2024-09-04T05:35:05.398Z"
   },
   {
    "duration": 13,
    "start_time": "2024-09-04T05:35:06.774Z"
   },
   {
    "duration": 4,
    "start_time": "2024-09-04T05:35:06.791Z"
   },
   {
    "duration": 12,
    "start_time": "2024-09-04T05:35:06.799Z"
   },
   {
    "duration": 9,
    "start_time": "2024-09-04T05:35:06.814Z"
   },
   {
    "duration": 8,
    "start_time": "2024-09-04T05:35:06.825Z"
   },
   {
    "duration": 9,
    "start_time": "2024-09-04T05:35:06.835Z"
   },
   {
    "duration": 3,
    "start_time": "2024-09-04T05:35:06.845Z"
   },
   {
    "duration": 43,
    "start_time": "2024-09-04T05:35:06.850Z"
   },
   {
    "duration": 19,
    "start_time": "2024-09-04T05:35:06.895Z"
   },
   {
    "duration": 4,
    "start_time": "2024-09-04T05:35:06.916Z"
   },
   {
    "duration": 3775,
    "start_time": "2024-09-04T05:35:06.922Z"
   },
   {
    "duration": 3,
    "start_time": "2024-09-04T05:35:10.701Z"
   },
   {
    "duration": 5,
    "start_time": "2024-09-04T05:35:10.708Z"
   },
   {
    "duration": 11,
    "start_time": "2024-09-04T05:35:10.715Z"
   },
   {
    "duration": 9,
    "start_time": "2024-09-04T05:35:10.728Z"
   },
   {
    "duration": 30,
    "start_time": "2024-09-04T05:35:10.740Z"
   },
   {
    "duration": 42,
    "start_time": "2024-09-04T05:35:10.787Z"
   },
   {
    "duration": 71,
    "start_time": "2024-09-04T05:35:10.831Z"
   },
   {
    "duration": 5,
    "start_time": "2024-09-04T05:35:10.904Z"
   },
   {
    "duration": 3,
    "start_time": "2024-09-04T05:35:10.911Z"
   },
   {
    "duration": 3,
    "start_time": "2024-09-04T05:35:10.916Z"
   },
   {
    "duration": 2,
    "start_time": "2024-09-04T05:35:10.921Z"
   },
   {
    "duration": 91,
    "start_time": "2024-09-04T05:35:10.925Z"
   },
   {
    "duration": 9,
    "start_time": "2024-09-04T05:35:11.018Z"
   },
   {
    "duration": 4,
    "start_time": "2024-09-04T05:35:11.029Z"
   },
   {
    "duration": 446,
    "start_time": "2024-09-04T05:35:11.035Z"
   },
   {
    "duration": 5,
    "start_time": "2024-09-04T05:35:11.487Z"
   },
   {
    "duration": 3,
    "start_time": "2024-09-04T05:35:11.494Z"
   },
   {
    "duration": 511,
    "start_time": "2024-09-04T05:35:11.499Z"
   },
   {
    "duration": 0,
    "start_time": "2024-09-04T05:35:12.012Z"
   },
   {
    "duration": 0,
    "start_time": "2024-09-04T05:35:12.013Z"
   },
   {
    "duration": 0,
    "start_time": "2024-09-04T05:35:12.014Z"
   },
   {
    "duration": 2242,
    "start_time": "2024-09-04T05:39:19.660Z"
   },
   {
    "duration": 1141,
    "start_time": "2024-09-04T05:39:21.905Z"
   },
   {
    "duration": 10,
    "start_time": "2024-09-04T05:39:23.050Z"
   },
   {
    "duration": 3,
    "start_time": "2024-09-04T05:39:23.063Z"
   },
   {
    "duration": 29,
    "start_time": "2024-09-04T05:39:23.068Z"
   },
   {
    "duration": 12,
    "start_time": "2024-09-04T05:39:23.100Z"
   },
   {
    "duration": 11,
    "start_time": "2024-09-04T05:39:23.114Z"
   },
   {
    "duration": 19,
    "start_time": "2024-09-04T05:39:23.126Z"
   },
   {
    "duration": 10,
    "start_time": "2024-09-04T05:39:23.149Z"
   },
   {
    "duration": 21,
    "start_time": "2024-09-04T05:39:23.163Z"
   },
   {
    "duration": 26,
    "start_time": "2024-09-04T05:39:23.195Z"
   },
   {
    "duration": 11,
    "start_time": "2024-09-04T05:39:23.223Z"
   },
   {
    "duration": 3020,
    "start_time": "2024-09-04T05:39:23.236Z"
   },
   {
    "duration": 3,
    "start_time": "2024-09-04T05:39:26.257Z"
   },
   {
    "duration": 5,
    "start_time": "2024-09-04T05:39:26.262Z"
   },
   {
    "duration": 11,
    "start_time": "2024-09-04T05:39:26.269Z"
   },
   {
    "duration": 10,
    "start_time": "2024-09-04T05:39:26.286Z"
   },
   {
    "duration": 31,
    "start_time": "2024-09-04T05:39:26.298Z"
   },
   {
    "duration": 63,
    "start_time": "2024-09-04T05:39:26.332Z"
   },
   {
    "duration": 67,
    "start_time": "2024-09-04T05:39:26.397Z"
   },
   {
    "duration": 5,
    "start_time": "2024-09-04T05:39:26.467Z"
   },
   {
    "duration": 13,
    "start_time": "2024-09-04T05:39:26.474Z"
   },
   {
    "duration": 4,
    "start_time": "2024-09-04T05:39:26.489Z"
   },
   {
    "duration": 3,
    "start_time": "2024-09-04T05:39:26.495Z"
   },
   {
    "duration": 67,
    "start_time": "2024-09-04T05:39:26.500Z"
   },
   {
    "duration": 12,
    "start_time": "2024-09-04T05:39:26.588Z"
   },
   {
    "duration": 342,
    "start_time": "2024-09-04T05:39:26.602Z"
   },
   {
    "duration": 4,
    "start_time": "2024-09-04T05:39:26.948Z"
   },
   {
    "duration": 3,
    "start_time": "2024-09-04T05:39:26.954Z"
   },
   {
    "duration": 371,
    "start_time": "2024-09-04T05:39:26.959Z"
   },
   {
    "duration": 0,
    "start_time": "2024-09-04T05:39:27.332Z"
   },
   {
    "duration": 0,
    "start_time": "2024-09-04T05:39:27.334Z"
   },
   {
    "duration": 0,
    "start_time": "2024-09-04T05:39:27.335Z"
   },
   {
    "duration": 11,
    "start_time": "2024-09-04T05:46:01.662Z"
   },
   {
    "duration": 11,
    "start_time": "2024-09-04T05:46:13.431Z"
   },
   {
    "duration": 10,
    "start_time": "2024-09-04T05:52:40.226Z"
   },
   {
    "duration": 21,
    "start_time": "2024-09-04T05:53:13.628Z"
   },
   {
    "duration": 18,
    "start_time": "2024-09-04T05:53:23.957Z"
   },
   {
    "duration": 14,
    "start_time": "2024-09-04T05:53:36.121Z"
   },
   {
    "duration": 23,
    "start_time": "2024-09-04T05:54:22.192Z"
   },
   {
    "duration": 386,
    "start_time": "2024-09-04T05:57:01.496Z"
   },
   {
    "duration": 2304,
    "start_time": "2024-09-04T20:24:37.794Z"
   },
   {
    "duration": 2677,
    "start_time": "2024-09-04T20:24:40.100Z"
   },
   {
    "duration": 13,
    "start_time": "2024-09-04T20:24:42.778Z"
   },
   {
    "duration": 3,
    "start_time": "2024-09-04T20:24:42.793Z"
   },
   {
    "duration": 11,
    "start_time": "2024-09-04T20:24:42.798Z"
   },
   {
    "duration": 9,
    "start_time": "2024-09-04T20:24:42.811Z"
   },
   {
    "duration": 12,
    "start_time": "2024-09-04T20:24:42.822Z"
   },
   {
    "duration": 41,
    "start_time": "2024-09-04T20:24:42.838Z"
   },
   {
    "duration": 4,
    "start_time": "2024-09-04T20:24:42.880Z"
   },
   {
    "duration": 8,
    "start_time": "2024-09-04T20:24:42.885Z"
   },
   {
    "duration": 16,
    "start_time": "2024-09-04T20:24:42.895Z"
   },
   {
    "duration": 5,
    "start_time": "2024-09-04T20:24:42.912Z"
   },
   {
    "duration": 2517,
    "start_time": "2024-09-04T20:24:42.918Z"
   },
   {
    "duration": 2,
    "start_time": "2024-09-04T20:24:45.438Z"
   },
   {
    "duration": 4,
    "start_time": "2024-09-04T20:24:45.442Z"
   },
   {
    "duration": 9,
    "start_time": "2024-09-04T20:24:45.448Z"
   },
   {
    "duration": 12,
    "start_time": "2024-09-04T20:24:45.458Z"
   },
   {
    "duration": 21,
    "start_time": "2024-09-04T20:24:45.471Z"
   },
   {
    "duration": 28,
    "start_time": "2024-09-04T20:24:45.494Z"
   },
   {
    "duration": 62,
    "start_time": "2024-09-04T20:24:45.524Z"
   },
   {
    "duration": 4,
    "start_time": "2024-09-04T20:24:45.588Z"
   },
   {
    "duration": 4,
    "start_time": "2024-09-04T20:24:45.594Z"
   },
   {
    "duration": 3,
    "start_time": "2024-09-04T20:24:45.600Z"
   },
   {
    "duration": 4,
    "start_time": "2024-09-04T20:24:45.604Z"
   },
   {
    "duration": 69,
    "start_time": "2024-09-04T20:24:45.609Z"
   },
   {
    "duration": 9,
    "start_time": "2024-09-04T20:24:45.679Z"
   },
   {
    "duration": 12,
    "start_time": "2024-09-04T20:24:45.689Z"
   },
   {
    "duration": 409,
    "start_time": "2024-09-04T20:24:45.703Z"
   },
   {
    "duration": 4,
    "start_time": "2024-09-04T20:24:46.113Z"
   },
   {
    "duration": 4,
    "start_time": "2024-09-04T20:24:46.119Z"
   },
   {
    "duration": 467,
    "start_time": "2024-09-04T20:24:46.124Z"
   },
   {
    "duration": 0,
    "start_time": "2024-09-04T20:24:46.593Z"
   },
   {
    "duration": 0,
    "start_time": "2024-09-04T20:24:46.594Z"
   },
   {
    "duration": 0,
    "start_time": "2024-09-04T20:24:46.596Z"
   },
   {
    "duration": 2144,
    "start_time": "2024-09-04T20:25:00.276Z"
   },
   {
    "duration": 965,
    "start_time": "2024-09-04T20:25:02.422Z"
   },
   {
    "duration": 7,
    "start_time": "2024-09-04T20:25:03.389Z"
   },
   {
    "duration": 3,
    "start_time": "2024-09-04T20:25:03.397Z"
   },
   {
    "duration": 10,
    "start_time": "2024-09-04T20:25:03.404Z"
   },
   {
    "duration": 8,
    "start_time": "2024-09-04T20:25:03.416Z"
   },
   {
    "duration": 7,
    "start_time": "2024-09-04T20:25:03.426Z"
   },
   {
    "duration": 36,
    "start_time": "2024-09-04T20:25:03.436Z"
   },
   {
    "duration": 3,
    "start_time": "2024-09-04T20:25:03.474Z"
   },
   {
    "duration": 8,
    "start_time": "2024-09-04T20:25:03.479Z"
   },
   {
    "duration": 15,
    "start_time": "2024-09-04T20:25:03.489Z"
   },
   {
    "duration": 4,
    "start_time": "2024-09-04T20:25:03.506Z"
   },
   {
    "duration": 2611,
    "start_time": "2024-09-04T20:25:03.511Z"
   },
   {
    "duration": 4,
    "start_time": "2024-09-04T20:25:06.127Z"
   },
   {
    "duration": 4,
    "start_time": "2024-09-04T20:25:06.134Z"
   },
   {
    "duration": 9,
    "start_time": "2024-09-04T20:25:06.140Z"
   },
   {
    "duration": 9,
    "start_time": "2024-09-04T20:25:06.151Z"
   },
   {
    "duration": 27,
    "start_time": "2024-09-04T20:25:06.162Z"
   },
   {
    "duration": 29,
    "start_time": "2024-09-04T20:25:06.190Z"
   },
   {
    "duration": 52,
    "start_time": "2024-09-04T20:25:06.221Z"
   },
   {
    "duration": 4,
    "start_time": "2024-09-04T20:25:06.275Z"
   },
   {
    "duration": 3,
    "start_time": "2024-09-04T20:25:06.281Z"
   },
   {
    "duration": 3,
    "start_time": "2024-09-04T20:25:06.286Z"
   },
   {
    "duration": 3,
    "start_time": "2024-09-04T20:25:06.291Z"
   },
   {
    "duration": 75,
    "start_time": "2024-09-04T20:25:06.295Z"
   },
   {
    "duration": 9,
    "start_time": "2024-09-04T20:25:06.372Z"
   },
   {
    "duration": 342,
    "start_time": "2024-09-04T20:25:06.382Z"
   },
   {
    "duration": 15,
    "start_time": "2024-09-04T20:25:06.726Z"
   },
   {
    "duration": 534,
    "start_time": "2024-09-04T20:25:06.743Z"
   },
   {
    "duration": 4,
    "start_time": "2024-09-04T20:25:07.279Z"
   },
   {
    "duration": 3,
    "start_time": "2024-09-04T20:25:07.284Z"
   },
   {
    "duration": 385,
    "start_time": "2024-09-04T20:25:07.289Z"
   },
   {
    "duration": 0,
    "start_time": "2024-09-04T20:25:07.675Z"
   },
   {
    "duration": 0,
    "start_time": "2024-09-04T20:25:07.677Z"
   },
   {
    "duration": 0,
    "start_time": "2024-09-04T20:25:07.678Z"
   },
   {
    "duration": 2148,
    "start_time": "2024-09-04T20:43:44.703Z"
   },
   {
    "duration": 980,
    "start_time": "2024-09-04T20:43:46.854Z"
   },
   {
    "duration": 8,
    "start_time": "2024-09-04T20:43:47.836Z"
   },
   {
    "duration": 4,
    "start_time": "2024-09-04T20:43:47.846Z"
   },
   {
    "duration": 18,
    "start_time": "2024-09-04T20:43:47.853Z"
   },
   {
    "duration": 8,
    "start_time": "2024-09-04T20:43:47.873Z"
   },
   {
    "duration": 8,
    "start_time": "2024-09-04T20:43:47.883Z"
   },
   {
    "duration": 9,
    "start_time": "2024-09-04T20:43:47.893Z"
   },
   {
    "duration": 3,
    "start_time": "2024-09-04T20:43:47.903Z"
   },
   {
    "duration": 7,
    "start_time": "2024-09-04T20:43:47.908Z"
   },
   {
    "duration": 54,
    "start_time": "2024-09-04T20:43:47.917Z"
   },
   {
    "duration": 4,
    "start_time": "2024-09-04T20:43:47.973Z"
   },
   {
    "duration": 2535,
    "start_time": "2024-09-04T20:43:47.979Z"
   },
   {
    "duration": 4,
    "start_time": "2024-09-04T20:43:50.518Z"
   },
   {
    "duration": 4,
    "start_time": "2024-09-04T20:43:50.523Z"
   },
   {
    "duration": 8,
    "start_time": "2024-09-04T20:43:50.528Z"
   },
   {
    "duration": 8,
    "start_time": "2024-09-04T20:43:50.538Z"
   },
   {
    "duration": 31,
    "start_time": "2024-09-04T20:43:50.548Z"
   },
   {
    "duration": 28,
    "start_time": "2024-09-04T20:43:50.580Z"
   },
   {
    "duration": 35,
    "start_time": "2024-09-04T20:43:50.609Z"
   },
   {
    "duration": 26,
    "start_time": "2024-09-04T20:43:50.646Z"
   },
   {
    "duration": 4,
    "start_time": "2024-09-04T20:43:50.673Z"
   },
   {
    "duration": 3,
    "start_time": "2024-09-04T20:43:50.678Z"
   },
   {
    "duration": 4,
    "start_time": "2024-09-04T20:43:50.682Z"
   },
   {
    "duration": 44,
    "start_time": "2024-09-04T20:43:50.687Z"
   },
   {
    "duration": 9,
    "start_time": "2024-09-04T20:43:50.733Z"
   },
   {
    "duration": 336,
    "start_time": "2024-09-04T20:43:50.743Z"
   },
   {
    "duration": 14,
    "start_time": "2024-09-04T20:43:51.081Z"
   },
   {
    "duration": 375,
    "start_time": "2024-09-04T20:43:51.096Z"
   },
   {
    "duration": 4,
    "start_time": "2024-09-04T20:43:51.474Z"
   },
   {
    "duration": 3,
    "start_time": "2024-09-04T20:43:51.480Z"
   },
   {
    "duration": 10,
    "start_time": "2024-09-04T20:43:51.484Z"
   },
   {
    "duration": 2,
    "start_time": "2024-09-04T20:43:51.496Z"
   },
   {
    "duration": 2,
    "start_time": "2024-09-04T20:43:51.500Z"
   },
   {
    "duration": 70,
    "start_time": "2024-09-04T20:43:51.504Z"
   },
   {
    "duration": 5,
    "start_time": "2024-09-04T21:06:52.207Z"
   },
   {
    "duration": 382,
    "start_time": "2024-09-04T21:08:49.902Z"
   },
   {
    "duration": 69,
    "start_time": "2024-09-04T21:09:12.103Z"
   },
   {
    "duration": 10,
    "start_time": "2024-09-04T21:09:26.413Z"
   },
   {
    "duration": 2130,
    "start_time": "2024-09-04T23:09:45.000Z"
   },
   {
    "duration": 959,
    "start_time": "2024-09-04T23:09:47.132Z"
   },
   {
    "duration": 7,
    "start_time": "2024-09-04T23:09:48.092Z"
   },
   {
    "duration": 3,
    "start_time": "2024-09-04T23:09:48.102Z"
   },
   {
    "duration": 10,
    "start_time": "2024-09-04T23:09:48.107Z"
   },
   {
    "duration": 9,
    "start_time": "2024-09-04T23:09:48.118Z"
   },
   {
    "duration": 8,
    "start_time": "2024-09-04T23:09:48.128Z"
   },
   {
    "duration": 37,
    "start_time": "2024-09-04T23:09:48.137Z"
   },
   {
    "duration": 3,
    "start_time": "2024-09-04T23:09:48.176Z"
   },
   {
    "duration": 7,
    "start_time": "2024-09-04T23:09:48.183Z"
   },
   {
    "duration": 16,
    "start_time": "2024-09-04T23:09:48.192Z"
   },
   {
    "duration": 4,
    "start_time": "2024-09-04T23:09:48.210Z"
   },
   {
    "duration": 2587,
    "start_time": "2024-09-04T23:09:48.216Z"
   },
   {
    "duration": 2,
    "start_time": "2024-09-04T23:09:50.805Z"
   },
   {
    "duration": 3,
    "start_time": "2024-09-04T23:09:50.810Z"
   },
   {
    "duration": 8,
    "start_time": "2024-09-04T23:09:50.815Z"
   },
   {
    "duration": 9,
    "start_time": "2024-09-04T23:09:50.824Z"
   },
   {
    "duration": 20,
    "start_time": "2024-09-04T23:09:50.834Z"
   },
   {
    "duration": 40,
    "start_time": "2024-09-04T23:09:50.856Z"
   },
   {
    "duration": 43,
    "start_time": "2024-09-04T23:09:50.898Z"
   },
   {
    "duration": 5,
    "start_time": "2024-09-04T23:09:50.943Z"
   },
   {
    "duration": 4,
    "start_time": "2024-09-04T23:09:50.971Z"
   },
   {
    "duration": 3,
    "start_time": "2024-09-04T23:09:50.976Z"
   },
   {
    "duration": 3,
    "start_time": "2024-09-04T23:09:50.981Z"
   },
   {
    "duration": 43,
    "start_time": "2024-09-04T23:09:50.985Z"
   },
   {
    "duration": 10,
    "start_time": "2024-09-04T23:09:51.030Z"
   },
   {
    "duration": 302,
    "start_time": "2024-09-04T23:09:51.069Z"
   },
   {
    "duration": 17,
    "start_time": "2024-09-04T23:09:51.375Z"
   },
   {
    "duration": 398,
    "start_time": "2024-09-04T23:09:51.394Z"
   },
   {
    "duration": 4,
    "start_time": "2024-09-04T23:09:51.794Z"
   },
   {
    "duration": 3,
    "start_time": "2024-09-04T23:09:51.799Z"
   },
   {
    "duration": 13,
    "start_time": "2024-09-04T23:09:51.804Z"
   },
   {
    "duration": 57,
    "start_time": "2024-09-04T23:09:51.820Z"
   },
   {
    "duration": 3,
    "start_time": "2024-09-04T23:09:51.879Z"
   },
   {
    "duration": 3,
    "start_time": "2024-09-04T23:09:51.883Z"
   },
   {
    "duration": 2,
    "start_time": "2024-09-04T23:09:51.888Z"
   },
   {
    "duration": 3,
    "start_time": "2024-09-04T23:16:45.122Z"
   },
   {
    "duration": 3,
    "start_time": "2024-09-04T23:34:51.000Z"
   },
   {
    "duration": 228,
    "start_time": "2024-09-04T23:35:59.837Z"
   },
   {
    "duration": 15,
    "start_time": "2024-09-04T23:36:04.812Z"
   },
   {
    "duration": 16,
    "start_time": "2024-09-04T23:36:11.412Z"
   },
   {
    "duration": 3,
    "start_time": "2024-09-04T23:36:34.414Z"
   },
   {
    "duration": 31,
    "start_time": "2024-09-04T23:45:33.514Z"
   },
   {
    "duration": 3,
    "start_time": "2024-09-04T23:45:53.543Z"
   },
   {
    "duration": 3,
    "start_time": "2024-09-04T23:47:26.522Z"
   },
   {
    "duration": 4,
    "start_time": "2024-09-04T23:48:17.591Z"
   },
   {
    "duration": 4,
    "start_time": "2024-09-05T00:07:23.867Z"
   },
   {
    "duration": 4,
    "start_time": "2024-09-05T00:07:49.678Z"
   },
   {
    "duration": 4,
    "start_time": "2024-09-05T00:08:18.601Z"
   },
   {
    "duration": 3,
    "start_time": "2024-09-05T00:10:39.585Z"
   },
   {
    "duration": 3,
    "start_time": "2024-09-05T00:10:47.617Z"
   },
   {
    "duration": 3,
    "start_time": "2024-09-05T00:10:57.905Z"
   },
   {
    "duration": 3,
    "start_time": "2024-09-05T00:12:47.065Z"
   },
   {
    "duration": 4,
    "start_time": "2024-09-05T00:14:09.743Z"
   },
   {
    "duration": 4,
    "start_time": "2024-09-05T00:14:44.301Z"
   },
   {
    "duration": 5,
    "start_time": "2024-09-05T00:16:26.769Z"
   },
   {
    "duration": 4,
    "start_time": "2024-09-05T00:29:34.239Z"
   },
   {
    "duration": 4,
    "start_time": "2024-09-05T00:31:23.804Z"
   },
   {
    "duration": 3,
    "start_time": "2024-09-05T00:31:45.940Z"
   },
   {
    "duration": 3,
    "start_time": "2024-09-05T00:59:05.701Z"
   },
   {
    "duration": 3,
    "start_time": "2024-09-05T01:02:48.745Z"
   },
   {
    "duration": 4,
    "start_time": "2024-09-05T01:04:30.923Z"
   },
   {
    "duration": 4,
    "start_time": "2024-09-05T01:06:52.405Z"
   },
   {
    "duration": 6,
    "start_time": "2024-09-05T01:09:42.650Z"
   },
   {
    "duration": 176,
    "start_time": "2024-09-06T01:32:40.157Z"
   },
   {
    "duration": 2391,
    "start_time": "2024-09-06T01:32:55.593Z"
   },
   {
    "duration": 2654,
    "start_time": "2024-09-06T01:32:57.987Z"
   },
   {
    "duration": 14,
    "start_time": "2024-09-06T01:33:00.643Z"
   },
   {
    "duration": 3,
    "start_time": "2024-09-06T01:33:00.659Z"
   },
   {
    "duration": 13,
    "start_time": "2024-09-06T01:33:00.664Z"
   },
   {
    "duration": 9,
    "start_time": "2024-09-06T01:33:00.679Z"
   },
   {
    "duration": 8,
    "start_time": "2024-09-06T01:33:00.690Z"
   },
   {
    "duration": 9,
    "start_time": "2024-09-06T01:33:00.699Z"
   },
   {
    "duration": 3,
    "start_time": "2024-09-06T01:33:00.710Z"
   },
   {
    "duration": 8,
    "start_time": "2024-09-06T01:33:00.717Z"
   },
   {
    "duration": 53,
    "start_time": "2024-09-06T01:33:00.727Z"
   },
   {
    "duration": 5,
    "start_time": "2024-09-06T01:33:00.782Z"
   },
   {
    "duration": 2646,
    "start_time": "2024-09-06T01:33:00.788Z"
   },
   {
    "duration": 3,
    "start_time": "2024-09-06T01:33:03.436Z"
   },
   {
    "duration": 4,
    "start_time": "2024-09-06T01:33:03.441Z"
   },
   {
    "duration": 9,
    "start_time": "2024-09-06T01:33:03.446Z"
   },
   {
    "duration": 8,
    "start_time": "2024-09-06T01:33:03.456Z"
   },
   {
    "duration": 106,
    "start_time": "2024-09-06T01:33:03.465Z"
   },
   {
    "duration": 47,
    "start_time": "2024-09-06T01:33:03.572Z"
   },
   {
    "duration": 52,
    "start_time": "2024-09-06T01:33:03.622Z"
   },
   {
    "duration": 4,
    "start_time": "2024-09-06T01:33:03.675Z"
   },
   {
    "duration": 4,
    "start_time": "2024-09-06T01:33:03.681Z"
   },
   {
    "duration": 3,
    "start_time": "2024-09-06T01:33:03.687Z"
   },
   {
    "duration": 3,
    "start_time": "2024-09-06T01:33:03.692Z"
   },
   {
    "duration": 80,
    "start_time": "2024-09-06T01:33:03.697Z"
   },
   {
    "duration": 9,
    "start_time": "2024-09-06T01:33:03.779Z"
   },
   {
    "duration": 291,
    "start_time": "2024-09-06T01:33:03.790Z"
   },
   {
    "duration": 13,
    "start_time": "2024-09-06T01:33:04.085Z"
   },
   {
    "duration": 377,
    "start_time": "2024-09-06T01:33:04.100Z"
   },
   {
    "duration": 4,
    "start_time": "2024-09-06T01:33:04.479Z"
   },
   {
    "duration": 3,
    "start_time": "2024-09-06T01:33:04.484Z"
   },
   {
    "duration": 9,
    "start_time": "2024-09-06T01:33:04.489Z"
   },
   {
    "duration": 7,
    "start_time": "2024-09-06T01:33:04.499Z"
   },
   {
    "duration": 64,
    "start_time": "2024-09-06T01:33:04.507Z"
   },
   {
    "duration": 4,
    "start_time": "2024-09-06T01:33:04.573Z"
   },
   {
    "duration": 9,
    "start_time": "2024-09-06T01:33:04.579Z"
   },
   {
    "duration": 4,
    "start_time": "2024-09-06T01:33:04.589Z"
   },
   {
    "duration": 3,
    "start_time": "2024-09-06T01:33:04.671Z"
   },
   {
    "duration": 7,
    "start_time": "2024-09-06T01:33:04.676Z"
   },
   {
    "duration": 3,
    "start_time": "2024-09-06T01:33:04.685Z"
   },
   {
    "duration": 4,
    "start_time": "2024-09-06T01:33:04.689Z"
   },
   {
    "duration": 0,
    "start_time": "2024-09-06T01:33:04.694Z"
   },
   {
    "duration": 0,
    "start_time": "2024-09-06T01:33:04.695Z"
   },
   {
    "duration": 4,
    "start_time": "2024-09-06T01:33:37.857Z"
   },
   {
    "duration": 2163,
    "start_time": "2024-09-06T01:33:44.535Z"
   },
   {
    "duration": 1026,
    "start_time": "2024-09-06T01:33:46.700Z"
   },
   {
    "duration": 7,
    "start_time": "2024-09-06T01:33:47.728Z"
   },
   {
    "duration": 3,
    "start_time": "2024-09-06T01:33:47.737Z"
   },
   {
    "duration": 11,
    "start_time": "2024-09-06T01:33:47.742Z"
   },
   {
    "duration": 9,
    "start_time": "2024-09-06T01:33:47.770Z"
   },
   {
    "duration": 8,
    "start_time": "2024-09-06T01:33:47.781Z"
   },
   {
    "duration": 8,
    "start_time": "2024-09-06T01:33:47.791Z"
   },
   {
    "duration": 2,
    "start_time": "2024-09-06T01:33:47.801Z"
   },
   {
    "duration": 7,
    "start_time": "2024-09-06T01:33:47.807Z"
   },
   {
    "duration": 15,
    "start_time": "2024-09-06T01:33:47.816Z"
   },
   {
    "duration": 41,
    "start_time": "2024-09-06T01:33:47.832Z"
   },
   {
    "duration": 2747,
    "start_time": "2024-09-06T01:33:47.875Z"
   },
   {
    "duration": 3,
    "start_time": "2024-09-06T01:33:50.624Z"
   },
   {
    "duration": 4,
    "start_time": "2024-09-06T01:33:50.628Z"
   },
   {
    "duration": 8,
    "start_time": "2024-09-06T01:33:50.634Z"
   },
   {
    "duration": 9,
    "start_time": "2024-09-06T01:33:50.643Z"
   },
   {
    "duration": 34,
    "start_time": "2024-09-06T01:33:50.653Z"
   },
   {
    "duration": 31,
    "start_time": "2024-09-06T01:33:50.689Z"
   },
   {
    "duration": 67,
    "start_time": "2024-09-06T01:33:50.721Z"
   },
   {
    "duration": 5,
    "start_time": "2024-09-06T01:33:50.790Z"
   },
   {
    "duration": 4,
    "start_time": "2024-09-06T01:33:50.797Z"
   },
   {
    "duration": 4,
    "start_time": "2024-09-06T01:33:50.802Z"
   },
   {
    "duration": 3,
    "start_time": "2024-09-06T01:33:50.808Z"
   },
   {
    "duration": 83,
    "start_time": "2024-09-06T01:33:50.813Z"
   },
   {
    "duration": 11,
    "start_time": "2024-09-06T01:33:50.898Z"
   },
   {
    "duration": 313,
    "start_time": "2024-09-06T01:33:50.911Z"
   },
   {
    "duration": 17,
    "start_time": "2024-09-06T01:33:51.230Z"
   },
   {
    "duration": 567,
    "start_time": "2024-09-06T01:33:51.249Z"
   },
   {
    "duration": 4,
    "start_time": "2024-09-06T01:33:51.818Z"
   },
   {
    "duration": 4,
    "start_time": "2024-09-06T01:33:51.825Z"
   },
   {
    "duration": 51,
    "start_time": "2024-09-06T01:33:51.831Z"
   },
   {
    "duration": 13,
    "start_time": "2024-09-06T01:33:51.884Z"
   },
   {
    "duration": 5,
    "start_time": "2024-09-06T01:33:51.899Z"
   },
   {
    "duration": 64,
    "start_time": "2024-09-06T01:33:51.906Z"
   },
   {
    "duration": 3,
    "start_time": "2024-09-06T01:33:51.973Z"
   },
   {
    "duration": 4,
    "start_time": "2024-09-06T01:33:51.978Z"
   },
   {
    "duration": 3,
    "start_time": "2024-09-06T01:33:51.984Z"
   },
   {
    "duration": 6,
    "start_time": "2024-09-06T01:33:51.989Z"
   },
   {
    "duration": 75,
    "start_time": "2024-09-06T01:33:51.997Z"
   },
   {
    "duration": 14,
    "start_time": "2024-09-06T01:33:52.074Z"
   },
   {
    "duration": 7,
    "start_time": "2024-09-06T01:33:52.090Z"
   },
   {
    "duration": 3,
    "start_time": "2024-09-06T01:33:52.098Z"
   },
   {
    "duration": 4,
    "start_time": "2024-09-06T01:34:02.078Z"
   },
   {
    "duration": 234,
    "start_time": "2024-09-06T01:38:58.212Z"
   },
   {
    "duration": 3,
    "start_time": "2024-09-06T01:39:10.682Z"
   },
   {
    "duration": 3,
    "start_time": "2024-09-06T01:41:02.452Z"
   },
   {
    "duration": 4,
    "start_time": "2024-09-06T01:42:04.969Z"
   },
   {
    "duration": 4,
    "start_time": "2024-09-06T01:42:11.529Z"
   },
   {
    "duration": 13,
    "start_time": "2024-09-06T01:42:44.436Z"
   },
   {
    "duration": 4,
    "start_time": "2024-09-06T01:42:49.259Z"
   },
   {
    "duration": 2426,
    "start_time": "2024-09-06T03:12:08.969Z"
   },
   {
    "duration": 1120,
    "start_time": "2024-09-06T03:12:11.398Z"
   },
   {
    "duration": 8,
    "start_time": "2024-09-06T03:12:12.519Z"
   },
   {
    "duration": 3,
    "start_time": "2024-09-06T03:12:12.530Z"
   },
   {
    "duration": 11,
    "start_time": "2024-09-06T03:12:12.534Z"
   },
   {
    "duration": 33,
    "start_time": "2024-09-06T03:12:12.548Z"
   },
   {
    "duration": 10,
    "start_time": "2024-09-06T03:12:12.594Z"
   },
   {
    "duration": 9,
    "start_time": "2024-09-06T03:12:12.606Z"
   },
   {
    "duration": 3,
    "start_time": "2024-09-06T03:12:12.617Z"
   },
   {
    "duration": 7,
    "start_time": "2024-09-06T03:12:12.623Z"
   },
   {
    "duration": 16,
    "start_time": "2024-09-06T03:12:12.632Z"
   },
   {
    "duration": 31,
    "start_time": "2024-09-06T03:12:12.649Z"
   },
   {
    "duration": 2918,
    "start_time": "2024-09-06T03:12:12.682Z"
   },
   {
    "duration": 3,
    "start_time": "2024-09-06T03:12:15.603Z"
   },
   {
    "duration": 5,
    "start_time": "2024-09-06T03:12:15.607Z"
   },
   {
    "duration": 8,
    "start_time": "2024-09-06T03:12:15.614Z"
   },
   {
    "duration": 7,
    "start_time": "2024-09-06T03:12:15.624Z"
   },
   {
    "duration": 21,
    "start_time": "2024-09-06T03:12:15.633Z"
   },
   {
    "duration": 60,
    "start_time": "2024-09-06T03:12:15.656Z"
   },
   {
    "duration": 37,
    "start_time": "2024-09-06T03:12:15.718Z"
   },
   {
    "duration": 4,
    "start_time": "2024-09-06T03:12:15.757Z"
   },
   {
    "duration": 26,
    "start_time": "2024-09-06T03:12:15.763Z"
   },
   {
    "duration": 3,
    "start_time": "2024-09-06T03:12:15.794Z"
   },
   {
    "duration": 7,
    "start_time": "2024-09-06T03:12:15.799Z"
   },
   {
    "duration": 43,
    "start_time": "2024-09-06T03:12:15.807Z"
   },
   {
    "duration": 9,
    "start_time": "2024-09-06T03:12:15.852Z"
   },
   {
    "duration": 374,
    "start_time": "2024-09-06T03:12:15.862Z"
   },
   {
    "duration": 14,
    "start_time": "2024-09-06T03:12:16.240Z"
   },
   {
    "duration": 498,
    "start_time": "2024-09-06T03:12:16.255Z"
   },
   {
    "duration": 4,
    "start_time": "2024-09-06T03:12:16.755Z"
   },
   {
    "duration": 6,
    "start_time": "2024-09-06T03:12:16.777Z"
   },
   {
    "duration": 18,
    "start_time": "2024-09-06T03:12:16.790Z"
   },
   {
    "duration": 8,
    "start_time": "2024-09-06T03:12:16.810Z"
   },
   {
    "duration": 52,
    "start_time": "2024-09-06T03:12:16.820Z"
   },
   {
    "duration": 7,
    "start_time": "2024-09-06T03:12:16.875Z"
   },
   {
    "duration": 5,
    "start_time": "2024-09-06T03:12:16.884Z"
   },
   {
    "duration": 3,
    "start_time": "2024-09-06T03:12:16.891Z"
   },
   {
    "duration": 4,
    "start_time": "2024-09-06T03:12:16.901Z"
   },
   {
    "duration": 13,
    "start_time": "2024-09-06T03:12:16.906Z"
   },
   {
    "duration": 8,
    "start_time": "2024-09-06T03:12:16.973Z"
   },
   {
    "duration": 7,
    "start_time": "2024-09-06T03:12:16.984Z"
   },
   {
    "duration": 13,
    "start_time": "2024-09-06T03:12:16.993Z"
   },
   {
    "duration": 6,
    "start_time": "2024-09-06T03:12:17.008Z"
   },
   {
    "duration": 67,
    "start_time": "2024-09-06T03:12:17.016Z"
   },
   {
    "duration": 2372,
    "start_time": "2024-09-06T03:13:47.585Z"
   },
   {
    "duration": 1087,
    "start_time": "2024-09-06T03:13:49.959Z"
   },
   {
    "duration": 9,
    "start_time": "2024-09-06T03:13:51.047Z"
   },
   {
    "duration": 2,
    "start_time": "2024-09-06T03:13:51.058Z"
   },
   {
    "duration": 21,
    "start_time": "2024-09-06T03:13:51.064Z"
   },
   {
    "duration": 10,
    "start_time": "2024-09-06T03:13:51.087Z"
   },
   {
    "duration": 10,
    "start_time": "2024-09-06T03:13:51.098Z"
   },
   {
    "duration": 11,
    "start_time": "2024-09-06T03:13:51.110Z"
   },
   {
    "duration": 3,
    "start_time": "2024-09-06T03:13:51.123Z"
   },
   {
    "duration": 8,
    "start_time": "2024-09-06T03:13:51.127Z"
   },
   {
    "duration": 31,
    "start_time": "2024-09-06T03:13:51.177Z"
   },
   {
    "duration": 5,
    "start_time": "2024-09-06T03:13:51.210Z"
   },
   {
    "duration": 2922,
    "start_time": "2024-09-06T03:13:51.216Z"
   },
   {
    "duration": 3,
    "start_time": "2024-09-06T03:13:54.143Z"
   },
   {
    "duration": 5,
    "start_time": "2024-09-06T03:13:54.147Z"
   },
   {
    "duration": 8,
    "start_time": "2024-09-06T03:13:54.153Z"
   },
   {
    "duration": 18,
    "start_time": "2024-09-06T03:13:54.163Z"
   },
   {
    "duration": 33,
    "start_time": "2024-09-06T03:13:54.183Z"
   },
   {
    "duration": 29,
    "start_time": "2024-09-06T03:13:54.218Z"
   },
   {
    "duration": 63,
    "start_time": "2024-09-06T03:13:54.249Z"
   },
   {
    "duration": 5,
    "start_time": "2024-09-06T03:13:54.314Z"
   },
   {
    "duration": 4,
    "start_time": "2024-09-06T03:13:54.321Z"
   },
   {
    "duration": 3,
    "start_time": "2024-09-06T03:13:54.327Z"
   },
   {
    "duration": 4,
    "start_time": "2024-09-06T03:13:54.331Z"
   },
   {
    "duration": 93,
    "start_time": "2024-09-06T03:13:54.336Z"
   },
   {
    "duration": 9,
    "start_time": "2024-09-06T03:13:54.431Z"
   },
   {
    "duration": 368,
    "start_time": "2024-09-06T03:13:54.442Z"
   },
   {
    "duration": 13,
    "start_time": "2024-09-06T03:13:54.812Z"
   },
   {
    "duration": 462,
    "start_time": "2024-09-06T03:13:54.827Z"
   },
   {
    "duration": 4,
    "start_time": "2024-09-06T03:13:55.296Z"
   },
   {
    "duration": 3,
    "start_time": "2024-09-06T03:13:55.302Z"
   },
   {
    "duration": 7,
    "start_time": "2024-09-06T03:13:55.307Z"
   },
   {
    "duration": 61,
    "start_time": "2024-09-06T03:13:55.316Z"
   },
   {
    "duration": 14,
    "start_time": "2024-09-06T03:13:55.379Z"
   },
   {
    "duration": 66,
    "start_time": "2024-09-06T03:13:55.409Z"
   },
   {
    "duration": 8,
    "start_time": "2024-09-06T03:13:55.478Z"
   },
   {
    "duration": 5,
    "start_time": "2024-09-06T03:13:55.488Z"
   },
   {
    "duration": 7,
    "start_time": "2024-09-06T03:13:55.496Z"
   },
   {
    "duration": 4,
    "start_time": "2024-09-06T03:13:55.505Z"
   },
   {
    "duration": 4,
    "start_time": "2024-09-06T03:13:55.511Z"
   },
   {
    "duration": 9,
    "start_time": "2024-09-06T03:13:55.572Z"
   },
   {
    "duration": 8,
    "start_time": "2024-09-06T03:13:55.585Z"
   },
   {
    "duration": 4,
    "start_time": "2024-09-06T03:13:55.595Z"
   },
   {
    "duration": 6,
    "start_time": "2024-09-06T03:13:55.601Z"
   },
   {
    "duration": 397,
    "start_time": "2024-09-06T03:13:55.610Z"
   },
   {
    "duration": 5,
    "start_time": "2024-09-06T03:16:52.615Z"
   },
   {
    "duration": 2411,
    "start_time": "2024-09-06T03:26:56.701Z"
   },
   {
    "duration": 1383,
    "start_time": "2024-09-06T03:26:59.114Z"
   },
   {
    "duration": 0,
    "start_time": "2024-09-06T03:27:00.501Z"
   },
   {
    "duration": 0,
    "start_time": "2024-09-06T03:27:00.503Z"
   },
   {
    "duration": 0,
    "start_time": "2024-09-06T03:27:00.504Z"
   },
   {
    "duration": 0,
    "start_time": "2024-09-06T03:27:00.506Z"
   },
   {
    "duration": 0,
    "start_time": "2024-09-06T03:27:00.508Z"
   },
   {
    "duration": 0,
    "start_time": "2024-09-06T03:27:00.509Z"
   },
   {
    "duration": 0,
    "start_time": "2024-09-06T03:27:00.510Z"
   },
   {
    "duration": 0,
    "start_time": "2024-09-06T03:27:00.511Z"
   },
   {
    "duration": 0,
    "start_time": "2024-09-06T03:27:00.513Z"
   },
   {
    "duration": 0,
    "start_time": "2024-09-06T03:27:00.513Z"
   },
   {
    "duration": 0,
    "start_time": "2024-09-06T03:27:00.514Z"
   },
   {
    "duration": 0,
    "start_time": "2024-09-06T03:27:00.515Z"
   },
   {
    "duration": 0,
    "start_time": "2024-09-06T03:27:00.517Z"
   },
   {
    "duration": 0,
    "start_time": "2024-09-06T03:27:00.517Z"
   },
   {
    "duration": 0,
    "start_time": "2024-09-06T03:27:00.518Z"
   },
   {
    "duration": 0,
    "start_time": "2024-09-06T03:27:00.519Z"
   },
   {
    "duration": 0,
    "start_time": "2024-09-06T03:27:00.521Z"
   },
   {
    "duration": 0,
    "start_time": "2024-09-06T03:27:00.522Z"
   },
   {
    "duration": 0,
    "start_time": "2024-09-06T03:27:00.523Z"
   },
   {
    "duration": 0,
    "start_time": "2024-09-06T03:27:00.524Z"
   },
   {
    "duration": 0,
    "start_time": "2024-09-06T03:27:00.526Z"
   },
   {
    "duration": 0,
    "start_time": "2024-09-06T03:27:00.531Z"
   },
   {
    "duration": 0,
    "start_time": "2024-09-06T03:27:00.532Z"
   },
   {
    "duration": 0,
    "start_time": "2024-09-06T03:27:00.533Z"
   },
   {
    "duration": 0,
    "start_time": "2024-09-06T03:27:00.534Z"
   },
   {
    "duration": 0,
    "start_time": "2024-09-06T03:27:00.571Z"
   },
   {
    "duration": 0,
    "start_time": "2024-09-06T03:27:00.573Z"
   },
   {
    "duration": 0,
    "start_time": "2024-09-06T03:27:00.576Z"
   },
   {
    "duration": 0,
    "start_time": "2024-09-06T03:27:00.578Z"
   },
   {
    "duration": 0,
    "start_time": "2024-09-06T03:27:00.579Z"
   },
   {
    "duration": 0,
    "start_time": "2024-09-06T03:27:00.581Z"
   },
   {
    "duration": 0,
    "start_time": "2024-09-06T03:27:00.582Z"
   },
   {
    "duration": 0,
    "start_time": "2024-09-06T03:27:00.583Z"
   },
   {
    "duration": 0,
    "start_time": "2024-09-06T03:27:00.585Z"
   },
   {
    "duration": 0,
    "start_time": "2024-09-06T03:27:00.586Z"
   },
   {
    "duration": 0,
    "start_time": "2024-09-06T03:27:00.587Z"
   },
   {
    "duration": 0,
    "start_time": "2024-09-06T03:27:00.589Z"
   },
   {
    "duration": 0,
    "start_time": "2024-09-06T03:27:00.592Z"
   },
   {
    "duration": 0,
    "start_time": "2024-09-06T03:27:00.593Z"
   },
   {
    "duration": 0,
    "start_time": "2024-09-06T03:27:00.594Z"
   },
   {
    "duration": 0,
    "start_time": "2024-09-06T03:27:00.595Z"
   },
   {
    "duration": 0,
    "start_time": "2024-09-06T03:27:00.597Z"
   },
   {
    "duration": 0,
    "start_time": "2024-09-06T03:27:00.598Z"
   },
   {
    "duration": 2399,
    "start_time": "2024-09-06T03:27:53.264Z"
   },
   {
    "duration": 1175,
    "start_time": "2024-09-06T03:27:55.666Z"
   },
   {
    "duration": 8,
    "start_time": "2024-09-06T03:27:56.842Z"
   },
   {
    "duration": 5,
    "start_time": "2024-09-06T03:27:56.853Z"
   },
   {
    "duration": 24,
    "start_time": "2024-09-06T03:27:56.860Z"
   },
   {
    "duration": 15,
    "start_time": "2024-09-06T03:27:56.898Z"
   },
   {
    "duration": 10,
    "start_time": "2024-09-06T03:27:56.915Z"
   },
   {
    "duration": 9,
    "start_time": "2024-09-06T03:27:56.927Z"
   },
   {
    "duration": 3,
    "start_time": "2024-09-06T03:27:56.938Z"
   },
   {
    "duration": 9,
    "start_time": "2024-09-06T03:27:56.945Z"
   },
   {
    "duration": 33,
    "start_time": "2024-09-06T03:27:56.956Z"
   },
   {
    "duration": 14,
    "start_time": "2024-09-06T03:27:56.993Z"
   },
   {
    "duration": 2913,
    "start_time": "2024-09-06T03:27:57.010Z"
   },
   {
    "duration": 3,
    "start_time": "2024-09-06T03:27:59.925Z"
   },
   {
    "duration": 5,
    "start_time": "2024-09-06T03:27:59.929Z"
   },
   {
    "duration": 8,
    "start_time": "2024-09-06T03:27:59.935Z"
   },
   {
    "duration": 8,
    "start_time": "2024-09-06T03:27:59.945Z"
   },
   {
    "duration": 50,
    "start_time": "2024-09-06T03:27:59.954Z"
   },
   {
    "duration": 30,
    "start_time": "2024-09-06T03:28:00.006Z"
   },
   {
    "duration": 48,
    "start_time": "2024-09-06T03:28:00.038Z"
   },
   {
    "duration": 10,
    "start_time": "2024-09-06T03:28:00.089Z"
   },
   {
    "duration": 4,
    "start_time": "2024-09-06T03:28:00.101Z"
   },
   {
    "duration": 3,
    "start_time": "2024-09-06T03:28:00.107Z"
   },
   {
    "duration": 3,
    "start_time": "2024-09-06T03:28:00.111Z"
   },
   {
    "duration": 73,
    "start_time": "2024-09-06T03:28:00.116Z"
   },
   {
    "duration": 11,
    "start_time": "2024-09-06T03:28:00.191Z"
   },
   {
    "duration": 341,
    "start_time": "2024-09-06T03:28:00.204Z"
   },
   {
    "duration": 31,
    "start_time": "2024-09-06T03:28:00.549Z"
   },
   {
    "duration": 437,
    "start_time": "2024-09-06T03:28:00.581Z"
   },
   {
    "duration": 4,
    "start_time": "2024-09-06T03:28:01.020Z"
   },
   {
    "duration": 4,
    "start_time": "2024-09-06T03:28:01.025Z"
   },
   {
    "duration": 46,
    "start_time": "2024-09-06T03:28:01.031Z"
   },
   {
    "duration": 23,
    "start_time": "2024-09-06T03:28:01.079Z"
   },
   {
    "duration": 12,
    "start_time": "2024-09-06T03:28:01.105Z"
   },
   {
    "duration": 10,
    "start_time": "2024-09-06T03:28:01.178Z"
   },
   {
    "duration": 14,
    "start_time": "2024-09-06T03:28:01.191Z"
   },
   {
    "duration": 3,
    "start_time": "2024-09-06T03:28:01.208Z"
   },
   {
    "duration": 3,
    "start_time": "2024-09-06T03:28:01.214Z"
   },
   {
    "duration": 60,
    "start_time": "2024-09-06T03:28:01.219Z"
   },
   {
    "duration": 6,
    "start_time": "2024-09-06T03:28:01.287Z"
   },
   {
    "duration": 16,
    "start_time": "2024-09-06T03:28:01.301Z"
   },
   {
    "duration": 55,
    "start_time": "2024-09-06T03:28:01.319Z"
   },
   {
    "duration": 10,
    "start_time": "2024-09-06T03:28:01.377Z"
   },
   {
    "duration": 10,
    "start_time": "2024-09-06T03:28:01.391Z"
   },
   {
    "duration": 15,
    "start_time": "2024-09-06T03:28:01.403Z"
   },
   {
    "duration": 5,
    "start_time": "2024-09-06T03:30:55.611Z"
   },
   {
    "duration": 10,
    "start_time": "2024-09-06T03:31:30.467Z"
   },
   {
    "duration": 3,
    "start_time": "2024-09-06T03:31:44.407Z"
   },
   {
    "duration": 5,
    "start_time": "2024-09-06T03:32:51.630Z"
   },
   {
    "duration": 2628,
    "start_time": "2024-09-06T17:42:09.651Z"
   },
   {
    "duration": 3044,
    "start_time": "2024-09-06T17:42:12.282Z"
   },
   {
    "duration": 77,
    "start_time": "2024-09-06T17:42:15.328Z"
   },
   {
    "duration": 3,
    "start_time": "2024-09-06T17:42:15.407Z"
   },
   {
    "duration": 10,
    "start_time": "2024-09-06T17:42:15.414Z"
   },
   {
    "duration": 8,
    "start_time": "2024-09-06T17:42:15.426Z"
   },
   {
    "duration": 9,
    "start_time": "2024-09-06T17:42:15.435Z"
   },
   {
    "duration": 51,
    "start_time": "2024-09-06T17:42:15.445Z"
   },
   {
    "duration": 4,
    "start_time": "2024-09-06T17:42:15.498Z"
   },
   {
    "duration": 8,
    "start_time": "2024-09-06T17:42:15.503Z"
   },
   {
    "duration": 16,
    "start_time": "2024-09-06T17:42:15.512Z"
   },
   {
    "duration": 4,
    "start_time": "2024-09-06T17:42:15.530Z"
   },
   {
    "duration": 2961,
    "start_time": "2024-09-06T17:42:15.536Z"
   },
   {
    "duration": 3,
    "start_time": "2024-09-06T17:42:18.501Z"
   },
   {
    "duration": 5,
    "start_time": "2024-09-06T17:42:18.505Z"
   },
   {
    "duration": 8,
    "start_time": "2024-09-06T17:42:18.512Z"
   },
   {
    "duration": 8,
    "start_time": "2024-09-06T17:42:18.522Z"
   },
   {
    "duration": 23,
    "start_time": "2024-09-06T17:42:18.531Z"
   },
   {
    "duration": 60,
    "start_time": "2024-09-06T17:42:18.555Z"
   },
   {
    "duration": 47,
    "start_time": "2024-09-06T17:42:18.619Z"
   },
   {
    "duration": 30,
    "start_time": "2024-09-06T17:42:18.667Z"
   },
   {
    "duration": 4,
    "start_time": "2024-09-06T17:42:18.703Z"
   },
   {
    "duration": 4,
    "start_time": "2024-09-06T17:42:18.709Z"
   },
   {
    "duration": 3,
    "start_time": "2024-09-06T17:42:18.715Z"
   },
   {
    "duration": 44,
    "start_time": "2024-09-06T17:42:18.719Z"
   },
   {
    "duration": 28,
    "start_time": "2024-09-06T17:42:18.765Z"
   },
   {
    "duration": 333,
    "start_time": "2024-09-06T17:42:18.797Z"
   },
   {
    "duration": 14,
    "start_time": "2024-09-06T17:42:19.132Z"
   },
   {
    "duration": 468,
    "start_time": "2024-09-06T17:42:19.148Z"
   },
   {
    "duration": 4,
    "start_time": "2024-09-06T17:42:19.619Z"
   },
   {
    "duration": 2,
    "start_time": "2024-09-06T17:42:19.626Z"
   },
   {
    "duration": 13,
    "start_time": "2024-09-06T17:42:19.630Z"
   },
   {
    "duration": 39,
    "start_time": "2024-09-06T17:42:19.645Z"
   },
   {
    "duration": 12,
    "start_time": "2024-09-06T17:42:19.687Z"
   },
   {
    "duration": 5,
    "start_time": "2024-09-06T17:42:19.701Z"
   },
   {
    "duration": 73,
    "start_time": "2024-09-06T17:42:19.708Z"
   },
   {
    "duration": 12,
    "start_time": "2024-09-06T17:42:19.783Z"
   },
   {
    "duration": 4,
    "start_time": "2024-09-06T17:42:19.798Z"
   },
   {
    "duration": 3,
    "start_time": "2024-09-06T17:42:19.804Z"
   },
   {
    "duration": 3,
    "start_time": "2024-09-06T17:42:19.809Z"
   },
   {
    "duration": 4,
    "start_time": "2024-09-06T17:42:19.817Z"
   },
   {
    "duration": 12,
    "start_time": "2024-09-06T17:42:19.879Z"
   },
   {
    "duration": 6,
    "start_time": "2024-09-06T17:42:19.895Z"
   },
   {
    "duration": 7,
    "start_time": "2024-09-06T17:42:19.904Z"
   },
   {
    "duration": 59,
    "start_time": "2024-09-06T17:42:19.914Z"
   },
   {
    "duration": 4,
    "start_time": "2024-09-06T17:45:31.706Z"
   },
   {
    "duration": 6,
    "start_time": "2024-09-06T17:49:24.590Z"
   },
   {
    "duration": 4,
    "start_time": "2024-09-06T17:49:39.035Z"
   },
   {
    "duration": 261,
    "start_time": "2024-09-06T17:49:45.002Z"
   },
   {
    "duration": 5,
    "start_time": "2024-09-06T17:49:58.391Z"
   },
   {
    "duration": 5,
    "start_time": "2024-09-06T17:50:25.316Z"
   },
   {
    "duration": 4,
    "start_time": "2024-09-06T17:50:47.020Z"
   },
   {
    "duration": 5,
    "start_time": "2024-09-06T17:51:08.306Z"
   },
   {
    "duration": 7,
    "start_time": "2024-09-06T17:53:02.330Z"
   },
   {
    "duration": 5,
    "start_time": "2024-09-06T18:03:18.587Z"
   },
   {
    "duration": 4,
    "start_time": "2024-09-06T18:12:09.749Z"
   },
   {
    "duration": 6,
    "start_time": "2024-09-06T18:18:55.352Z"
   },
   {
    "duration": 8,
    "start_time": "2024-09-06T18:23:57.198Z"
   },
   {
    "duration": 4,
    "start_time": "2024-09-06T18:35:13.158Z"
   },
   {
    "duration": 5,
    "start_time": "2024-09-06T18:37:21.161Z"
   },
   {
    "duration": 16,
    "start_time": "2024-09-06T18:40:10.857Z"
   },
   {
    "duration": 2406,
    "start_time": "2024-09-06T20:31:46.898Z"
   },
   {
    "duration": 1157,
    "start_time": "2024-09-06T20:31:49.306Z"
   },
   {
    "duration": 20,
    "start_time": "2024-09-06T20:31:50.464Z"
   },
   {
    "duration": 5,
    "start_time": "2024-09-06T20:31:50.486Z"
   },
   {
    "duration": 12,
    "start_time": "2024-09-06T20:31:50.495Z"
   },
   {
    "duration": 8,
    "start_time": "2024-09-06T20:31:50.509Z"
   },
   {
    "duration": 8,
    "start_time": "2024-09-06T20:31:50.518Z"
   },
   {
    "duration": 8,
    "start_time": "2024-09-06T20:31:50.528Z"
   },
   {
    "duration": 3,
    "start_time": "2024-09-06T20:31:50.538Z"
   },
   {
    "duration": 42,
    "start_time": "2024-09-06T20:31:50.543Z"
   },
   {
    "duration": 18,
    "start_time": "2024-09-06T20:31:50.594Z"
   },
   {
    "duration": 5,
    "start_time": "2024-09-06T20:31:50.614Z"
   },
   {
    "duration": 2975,
    "start_time": "2024-09-06T20:31:50.620Z"
   },
   {
    "duration": 3,
    "start_time": "2024-09-06T20:31:53.600Z"
   },
   {
    "duration": 5,
    "start_time": "2024-09-06T20:31:53.604Z"
   },
   {
    "duration": 7,
    "start_time": "2024-09-06T20:31:53.611Z"
   },
   {
    "duration": 9,
    "start_time": "2024-09-06T20:31:53.620Z"
   },
   {
    "duration": 21,
    "start_time": "2024-09-06T20:31:53.631Z"
   },
   {
    "duration": 56,
    "start_time": "2024-09-06T20:31:53.654Z"
   },
   {
    "duration": 37,
    "start_time": "2024-09-06T20:31:53.712Z"
   },
   {
    "duration": 5,
    "start_time": "2024-09-06T20:31:53.750Z"
   },
   {
    "duration": 17,
    "start_time": "2024-09-06T20:31:53.756Z"
   },
   {
    "duration": 4,
    "start_time": "2024-09-06T20:31:53.775Z"
   },
   {
    "duration": 3,
    "start_time": "2024-09-06T20:31:53.781Z"
   },
   {
    "duration": 57,
    "start_time": "2024-09-06T20:31:53.786Z"
   },
   {
    "duration": 11,
    "start_time": "2024-09-06T20:31:53.844Z"
   },
   {
    "duration": 349,
    "start_time": "2024-09-06T20:31:53.878Z"
   },
   {
    "duration": 15,
    "start_time": "2024-09-06T20:31:54.229Z"
   },
   {
    "duration": 476,
    "start_time": "2024-09-06T20:31:54.247Z"
   },
   {
    "duration": 4,
    "start_time": "2024-09-06T20:31:54.725Z"
   },
   {
    "duration": 4,
    "start_time": "2024-09-06T20:31:54.730Z"
   },
   {
    "duration": 11,
    "start_time": "2024-09-06T20:31:54.735Z"
   },
   {
    "duration": 35,
    "start_time": "2024-09-06T20:31:54.747Z"
   },
   {
    "duration": 4,
    "start_time": "2024-09-06T20:31:54.784Z"
   },
   {
    "duration": 4,
    "start_time": "2024-09-06T20:31:54.790Z"
   },
   {
    "duration": 10,
    "start_time": "2024-09-06T20:31:54.795Z"
   },
   {
    "duration": 5,
    "start_time": "2024-09-06T20:31:54.807Z"
   },
   {
    "duration": 63,
    "start_time": "2024-09-06T20:31:54.814Z"
   },
   {
    "duration": 10,
    "start_time": "2024-09-06T20:31:54.879Z"
   },
   {
    "duration": 7,
    "start_time": "2024-09-06T20:31:54.891Z"
   },
   {
    "duration": 66,
    "start_time": "2024-09-06T20:31:54.914Z"
   },
   {
    "duration": 15,
    "start_time": "2024-09-06T20:31:54.983Z"
   },
   {
    "duration": 3,
    "start_time": "2024-09-06T20:31:55.003Z"
   },
   {
    "duration": 4,
    "start_time": "2024-09-06T20:31:55.008Z"
   },
   {
    "duration": 7,
    "start_time": "2024-09-06T20:31:55.014Z"
   },
   {
    "duration": 56,
    "start_time": "2024-09-06T20:31:55.023Z"
   },
   {
    "duration": 5,
    "start_time": "2024-09-06T20:31:55.081Z"
   },
   {
    "duration": 22,
    "start_time": "2024-09-06T20:31:55.088Z"
   },
   {
    "duration": 2,
    "start_time": "2024-09-06T20:31:55.114Z"
   },
   {
    "duration": 3,
    "start_time": "2024-09-06T20:31:55.118Z"
   },
   {
    "duration": 34,
    "start_time": "2024-09-06T20:31:55.176Z"
   },
   {
    "duration": 4,
    "start_time": "2024-09-06T20:31:55.212Z"
   },
   {
    "duration": 364,
    "start_time": "2024-09-06T20:31:55.218Z"
   },
   {
    "duration": 4,
    "start_time": "2024-09-06T20:37:17.002Z"
   },
   {
    "duration": 24,
    "start_time": "2024-09-06T20:37:46.181Z"
   },
   {
    "duration": 4,
    "start_time": "2024-09-06T20:37:57.009Z"
   },
   {
    "duration": 3,
    "start_time": "2024-09-06T20:43:21.219Z"
   },
   {
    "duration": 4,
    "start_time": "2024-09-06T20:46:31.195Z"
   },
   {
    "duration": 2079,
    "start_time": "2024-09-06T21:04:08.125Z"
   },
   {
    "duration": 975,
    "start_time": "2024-09-06T21:04:10.207Z"
   },
   {
    "duration": 8,
    "start_time": "2024-09-06T21:04:11.184Z"
   },
   {
    "duration": 3,
    "start_time": "2024-09-06T21:04:11.194Z"
   },
   {
    "duration": 10,
    "start_time": "2024-09-06T21:04:11.199Z"
   },
   {
    "duration": 8,
    "start_time": "2024-09-06T21:04:11.211Z"
   },
   {
    "duration": 8,
    "start_time": "2024-09-06T21:04:11.221Z"
   },
   {
    "duration": 42,
    "start_time": "2024-09-06T21:04:11.231Z"
   },
   {
    "duration": 2,
    "start_time": "2024-09-06T21:04:11.275Z"
   },
   {
    "duration": 7,
    "start_time": "2024-09-06T21:04:11.279Z"
   },
   {
    "duration": 15,
    "start_time": "2024-09-06T21:04:11.288Z"
   },
   {
    "duration": 4,
    "start_time": "2024-09-06T21:04:11.305Z"
   },
   {
    "duration": 2596,
    "start_time": "2024-09-06T21:04:11.310Z"
   },
   {
    "duration": 2,
    "start_time": "2024-09-06T21:04:13.911Z"
   },
   {
    "duration": 4,
    "start_time": "2024-09-06T21:04:13.915Z"
   },
   {
    "duration": 9,
    "start_time": "2024-09-06T21:04:13.921Z"
   },
   {
    "duration": 9,
    "start_time": "2024-09-06T21:04:13.932Z"
   },
   {
    "duration": 29,
    "start_time": "2024-09-06T21:04:13.942Z"
   },
   {
    "duration": 31,
    "start_time": "2024-09-06T21:04:13.972Z"
   },
   {
    "duration": 37,
    "start_time": "2024-09-06T21:04:14.004Z"
   },
   {
    "duration": 28,
    "start_time": "2024-09-06T21:04:14.042Z"
   },
   {
    "duration": 3,
    "start_time": "2024-09-06T21:04:14.072Z"
   },
   {
    "duration": 3,
    "start_time": "2024-09-06T21:04:14.077Z"
   },
   {
    "duration": 4,
    "start_time": "2024-09-06T21:04:14.081Z"
   },
   {
    "duration": 44,
    "start_time": "2024-09-06T21:04:14.086Z"
   },
   {
    "duration": 9,
    "start_time": "2024-09-06T21:04:14.131Z"
   },
   {
    "duration": 316,
    "start_time": "2024-09-06T21:04:14.142Z"
   },
   {
    "duration": 23,
    "start_time": "2024-09-06T21:04:14.459Z"
   },
   {
    "duration": 364,
    "start_time": "2024-09-06T21:04:14.483Z"
   },
   {
    "duration": 4,
    "start_time": "2024-09-06T21:04:14.848Z"
   },
   {
    "duration": 18,
    "start_time": "2024-09-06T21:04:14.854Z"
   },
   {
    "duration": 12,
    "start_time": "2024-09-06T21:04:14.874Z"
   },
   {
    "duration": 8,
    "start_time": "2024-09-06T21:04:14.888Z"
   },
   {
    "duration": 3,
    "start_time": "2024-09-06T21:04:14.897Z"
   },
   {
    "duration": 3,
    "start_time": "2024-09-06T21:04:14.971Z"
   },
   {
    "duration": 5,
    "start_time": "2024-09-06T21:04:14.976Z"
   },
   {
    "duration": 3,
    "start_time": "2024-09-06T21:04:14.983Z"
   },
   {
    "duration": 3,
    "start_time": "2024-09-06T21:04:14.988Z"
   },
   {
    "duration": 4,
    "start_time": "2024-09-06T21:04:14.992Z"
   },
   {
    "duration": 3,
    "start_time": "2024-09-06T21:04:15.071Z"
   },
   {
    "duration": 6,
    "start_time": "2024-09-06T21:04:15.079Z"
   },
   {
    "duration": 84,
    "start_time": "2024-09-06T21:04:15.086Z"
   },
   {
    "duration": 3,
    "start_time": "2024-09-06T21:04:15.173Z"
   },
   {
    "duration": 7,
    "start_time": "2024-09-06T21:04:15.177Z"
   },
   {
    "duration": 6,
    "start_time": "2024-09-06T21:04:15.186Z"
   },
   {
    "duration": 3,
    "start_time": "2024-09-06T21:04:15.194Z"
   },
   {
    "duration": 73,
    "start_time": "2024-09-06T21:04:15.199Z"
   },
   {
    "duration": 8,
    "start_time": "2024-09-06T21:04:15.274Z"
   },
   {
    "duration": 2,
    "start_time": "2024-09-06T21:04:15.284Z"
   },
   {
    "duration": 3,
    "start_time": "2024-09-06T21:04:15.288Z"
   },
   {
    "duration": 6,
    "start_time": "2024-09-06T21:04:15.293Z"
   },
   {
    "duration": 4,
    "start_time": "2024-09-06T21:04:15.373Z"
   },
   {
    "duration": 6,
    "start_time": "2024-09-06T21:04:15.381Z"
   },
   {
    "duration": 4,
    "start_time": "2024-09-06T21:04:15.388Z"
   },
   {
    "duration": 2101,
    "start_time": "2024-09-06T21:10:11.643Z"
   },
   {
    "duration": 919,
    "start_time": "2024-09-06T21:10:13.746Z"
   },
   {
    "duration": 7,
    "start_time": "2024-09-06T21:10:14.667Z"
   },
   {
    "duration": 3,
    "start_time": "2024-09-06T21:10:14.676Z"
   },
   {
    "duration": 10,
    "start_time": "2024-09-06T21:10:14.681Z"
   },
   {
    "duration": 8,
    "start_time": "2024-09-06T21:10:14.693Z"
   },
   {
    "duration": 8,
    "start_time": "2024-09-06T21:10:14.703Z"
   },
   {
    "duration": 10,
    "start_time": "2024-09-06T21:10:14.712Z"
   },
   {
    "duration": 3,
    "start_time": "2024-09-06T21:10:14.723Z"
   },
   {
    "duration": 45,
    "start_time": "2024-09-06T21:10:14.729Z"
   },
   {
    "duration": 19,
    "start_time": "2024-09-06T21:10:14.776Z"
   },
   {
    "duration": 5,
    "start_time": "2024-09-06T21:10:14.796Z"
   },
   {
    "duration": 2644,
    "start_time": "2024-09-06T21:10:14.803Z"
   },
   {
    "duration": 3,
    "start_time": "2024-09-06T21:10:17.449Z"
   },
   {
    "duration": 5,
    "start_time": "2024-09-06T21:10:17.454Z"
   },
   {
    "duration": 9,
    "start_time": "2024-09-06T21:10:17.461Z"
   },
   {
    "duration": 8,
    "start_time": "2024-09-06T21:10:17.473Z"
   },
   {
    "duration": 21,
    "start_time": "2024-09-06T21:10:17.484Z"
   },
   {
    "duration": 29,
    "start_time": "2024-09-06T21:10:17.507Z"
   },
   {
    "duration": 57,
    "start_time": "2024-09-06T21:10:17.537Z"
   },
   {
    "duration": 5,
    "start_time": "2024-09-06T21:10:17.595Z"
   },
   {
    "duration": 4,
    "start_time": "2024-09-06T21:10:17.601Z"
   },
   {
    "duration": 3,
    "start_time": "2024-09-06T21:10:17.607Z"
   },
   {
    "duration": 4,
    "start_time": "2024-09-06T21:10:17.612Z"
   },
   {
    "duration": 70,
    "start_time": "2024-09-06T21:10:17.617Z"
   },
   {
    "duration": 9,
    "start_time": "2024-09-06T21:10:17.689Z"
   },
   {
    "duration": 295,
    "start_time": "2024-09-06T21:10:17.700Z"
   },
   {
    "duration": 14,
    "start_time": "2024-09-06T21:10:18.000Z"
   },
   {
    "duration": 375,
    "start_time": "2024-09-06T21:10:18.015Z"
   },
   {
    "duration": 4,
    "start_time": "2024-09-06T21:10:18.392Z"
   },
   {
    "duration": 3,
    "start_time": "2024-09-06T21:10:18.398Z"
   },
   {
    "duration": 9,
    "start_time": "2024-09-06T21:10:18.403Z"
   },
   {
    "duration": 57,
    "start_time": "2024-09-06T21:10:18.413Z"
   },
   {
    "duration": 6,
    "start_time": "2024-09-06T21:10:18.472Z"
   },
   {
    "duration": 2,
    "start_time": "2024-09-06T21:10:18.480Z"
   },
   {
    "duration": 4,
    "start_time": "2024-09-06T21:10:18.484Z"
   },
   {
    "duration": 3,
    "start_time": "2024-09-06T21:10:18.489Z"
   },
   {
    "duration": 79,
    "start_time": "2024-09-06T21:10:18.493Z"
   },
   {
    "duration": 4,
    "start_time": "2024-09-06T21:10:18.574Z"
   },
   {
    "duration": 3,
    "start_time": "2024-09-06T21:10:18.580Z"
   },
   {
    "duration": 3,
    "start_time": "2024-09-06T21:10:18.585Z"
   },
   {
    "duration": 6,
    "start_time": "2024-09-06T21:10:18.590Z"
   },
   {
    "duration": 3,
    "start_time": "2024-09-06T21:10:18.670Z"
   },
   {
    "duration": 4,
    "start_time": "2024-09-06T21:10:18.675Z"
   },
   {
    "duration": 5,
    "start_time": "2024-09-06T21:10:18.682Z"
   },
   {
    "duration": 3,
    "start_time": "2024-09-06T21:10:18.690Z"
   },
   {
    "duration": 6,
    "start_time": "2024-09-06T21:10:18.771Z"
   },
   {
    "duration": 4,
    "start_time": "2024-09-06T21:10:18.778Z"
   },
   {
    "duration": 3,
    "start_time": "2024-09-06T21:10:18.784Z"
   },
   {
    "duration": 82,
    "start_time": "2024-09-06T21:10:18.789Z"
   },
   {
    "duration": 7,
    "start_time": "2024-09-06T21:18:59.978Z"
   },
   {
    "duration": 2093,
    "start_time": "2024-09-06T22:58:46.858Z"
   },
   {
    "duration": 950,
    "start_time": "2024-09-06T22:58:48.953Z"
   },
   {
    "duration": 8,
    "start_time": "2024-09-06T22:58:49.905Z"
   },
   {
    "duration": 3,
    "start_time": "2024-09-06T22:58:49.915Z"
   },
   {
    "duration": 10,
    "start_time": "2024-09-06T22:58:49.920Z"
   },
   {
    "duration": 10,
    "start_time": "2024-09-06T22:58:49.931Z"
   },
   {
    "duration": 33,
    "start_time": "2024-09-06T22:58:49.943Z"
   },
   {
    "duration": 10,
    "start_time": "2024-09-06T22:58:49.978Z"
   },
   {
    "duration": 3,
    "start_time": "2024-09-06T22:58:49.989Z"
   },
   {
    "duration": 7,
    "start_time": "2024-09-06T22:58:49.994Z"
   },
   {
    "duration": 17,
    "start_time": "2024-09-06T22:58:50.003Z"
   },
   {
    "duration": 5,
    "start_time": "2024-09-06T22:58:50.021Z"
   },
   {
    "duration": 2626,
    "start_time": "2024-09-06T22:58:50.028Z"
   },
   {
    "duration": 4,
    "start_time": "2024-09-06T22:58:52.659Z"
   },
   {
    "duration": 15,
    "start_time": "2024-09-06T22:58:52.665Z"
   },
   {
    "duration": 8,
    "start_time": "2024-09-06T22:58:52.682Z"
   },
   {
    "duration": 8,
    "start_time": "2024-09-06T22:58:52.693Z"
   },
   {
    "duration": 22,
    "start_time": "2024-09-06T22:58:52.702Z"
   },
   {
    "duration": 45,
    "start_time": "2024-09-06T22:58:52.726Z"
   },
   {
    "duration": 37,
    "start_time": "2024-09-06T22:58:52.773Z"
   },
   {
    "duration": 5,
    "start_time": "2024-09-06T22:58:52.811Z"
   },
   {
    "duration": 4,
    "start_time": "2024-09-06T22:58:52.817Z"
   },
   {
    "duration": 4,
    "start_time": "2024-09-06T22:58:52.823Z"
   },
   {
    "duration": 3,
    "start_time": "2024-09-06T22:58:52.828Z"
   },
   {
    "duration": 76,
    "start_time": "2024-09-06T22:58:52.833Z"
   },
   {
    "duration": 9,
    "start_time": "2024-09-06T22:58:52.911Z"
   },
   {
    "duration": 308,
    "start_time": "2024-09-06T22:58:52.922Z"
   },
   {
    "duration": 13,
    "start_time": "2024-09-06T22:58:53.232Z"
   },
   {
    "duration": 374,
    "start_time": "2024-09-06T22:58:53.248Z"
   },
   {
    "duration": 4,
    "start_time": "2024-09-06T22:58:53.624Z"
   },
   {
    "duration": 3,
    "start_time": "2024-09-06T22:58:53.630Z"
   },
   {
    "duration": 38,
    "start_time": "2024-09-06T22:58:53.634Z"
   },
   {
    "duration": 6,
    "start_time": "2024-09-06T22:58:53.674Z"
   },
   {
    "duration": 3,
    "start_time": "2024-09-06T22:58:53.682Z"
   },
   {
    "duration": 3,
    "start_time": "2024-09-06T22:58:53.686Z"
   },
   {
    "duration": 3,
    "start_time": "2024-09-06T22:58:53.690Z"
   },
   {
    "duration": 3,
    "start_time": "2024-09-06T22:58:53.770Z"
   },
   {
    "duration": 3,
    "start_time": "2024-09-06T22:58:53.775Z"
   },
   {
    "duration": 4,
    "start_time": "2024-09-06T22:58:53.779Z"
   },
   {
    "duration": 3,
    "start_time": "2024-09-06T22:58:53.784Z"
   },
   {
    "duration": 80,
    "start_time": "2024-09-06T22:58:53.792Z"
   },
   {
    "duration": 9,
    "start_time": "2024-09-06T22:58:53.874Z"
   },
   {
    "duration": 4,
    "start_time": "2024-09-06T22:58:53.885Z"
   },
   {
    "duration": 4,
    "start_time": "2024-09-06T22:58:53.891Z"
   },
   {
    "duration": 74,
    "start_time": "2024-09-06T22:58:53.898Z"
   },
   {
    "duration": 2,
    "start_time": "2024-09-06T22:58:53.974Z"
   },
   {
    "duration": 7,
    "start_time": "2024-09-06T22:58:53.978Z"
   },
   {
    "duration": 87,
    "start_time": "2024-09-06T22:58:53.987Z"
   },
   {
    "duration": 5,
    "start_time": "2024-09-06T22:58:54.076Z"
   },
   {
    "duration": 5,
    "start_time": "2024-09-06T22:58:54.083Z"
   },
   {
    "duration": 2122,
    "start_time": "2024-09-06T23:36:30.570Z"
   },
   {
    "duration": 982,
    "start_time": "2024-09-06T23:36:32.695Z"
   },
   {
    "duration": 7,
    "start_time": "2024-09-06T23:36:33.679Z"
   },
   {
    "duration": 3,
    "start_time": "2024-09-06T23:36:33.689Z"
   },
   {
    "duration": 10,
    "start_time": "2024-09-06T23:36:33.694Z"
   },
   {
    "duration": 8,
    "start_time": "2024-09-06T23:36:33.706Z"
   },
   {
    "duration": 8,
    "start_time": "2024-09-06T23:36:33.716Z"
   },
   {
    "duration": 9,
    "start_time": "2024-09-06T23:36:33.726Z"
   },
   {
    "duration": 36,
    "start_time": "2024-09-06T23:36:33.736Z"
   },
   {
    "duration": 7,
    "start_time": "2024-09-06T23:36:33.776Z"
   },
   {
    "duration": 16,
    "start_time": "2024-09-06T23:36:33.784Z"
   },
   {
    "duration": 4,
    "start_time": "2024-09-06T23:36:33.802Z"
   },
   {
    "duration": 2567,
    "start_time": "2024-09-06T23:36:33.808Z"
   },
   {
    "duration": 3,
    "start_time": "2024-09-06T23:36:36.376Z"
   },
   {
    "duration": 5,
    "start_time": "2024-09-06T23:36:36.380Z"
   },
   {
    "duration": 8,
    "start_time": "2024-09-06T23:36:36.386Z"
   },
   {
    "duration": 8,
    "start_time": "2024-09-06T23:36:36.396Z"
   },
   {
    "duration": 20,
    "start_time": "2024-09-06T23:36:36.405Z"
   },
   {
    "duration": 59,
    "start_time": "2024-09-06T23:36:36.427Z"
   },
   {
    "duration": 35,
    "start_time": "2024-09-06T23:36:36.487Z"
   },
   {
    "duration": 5,
    "start_time": "2024-09-06T23:36:36.524Z"
   },
   {
    "duration": 5,
    "start_time": "2024-09-06T23:36:36.533Z"
   },
   {
    "duration": 5,
    "start_time": "2024-09-06T23:36:36.545Z"
   },
   {
    "duration": 4,
    "start_time": "2024-09-06T23:36:36.571Z"
   },
   {
    "duration": 45,
    "start_time": "2024-09-06T23:36:36.577Z"
   },
   {
    "duration": 10,
    "start_time": "2024-09-06T23:36:36.624Z"
   },
   {
    "duration": 313,
    "start_time": "2024-09-06T23:36:36.636Z"
   },
   {
    "duration": 29,
    "start_time": "2024-09-06T23:36:36.953Z"
   },
   {
    "duration": 388,
    "start_time": "2024-09-06T23:36:36.983Z"
   },
   {
    "duration": 5,
    "start_time": "2024-09-06T23:36:37.373Z"
   },
   {
    "duration": 3,
    "start_time": "2024-09-06T23:36:37.380Z"
   },
   {
    "duration": 7,
    "start_time": "2024-09-06T23:36:37.384Z"
   },
   {
    "duration": 7,
    "start_time": "2024-09-06T23:36:37.392Z"
   },
   {
    "duration": 3,
    "start_time": "2024-09-06T23:36:37.401Z"
   },
   {
    "duration": 4,
    "start_time": "2024-09-06T23:36:37.470Z"
   },
   {
    "duration": 3,
    "start_time": "2024-09-06T23:36:37.476Z"
   },
   {
    "duration": 3,
    "start_time": "2024-09-06T23:36:37.481Z"
   },
   {
    "duration": 3,
    "start_time": "2024-09-06T23:36:37.485Z"
   },
   {
    "duration": 81,
    "start_time": "2024-09-06T23:36:37.491Z"
   },
   {
    "duration": 5,
    "start_time": "2024-09-06T23:36:37.573Z"
   },
   {
    "duration": 4,
    "start_time": "2024-09-06T23:36:37.579Z"
   },
   {
    "duration": 5,
    "start_time": "2024-09-06T23:36:37.585Z"
   },
   {
    "duration": 80,
    "start_time": "2024-09-06T23:36:37.592Z"
   },
   {
    "duration": 16,
    "start_time": "2024-09-06T23:36:37.673Z"
   },
   {
    "duration": 3,
    "start_time": "2024-09-06T23:36:37.691Z"
   },
   {
    "duration": 2,
    "start_time": "2024-09-06T23:36:37.696Z"
   },
   {
    "duration": 7,
    "start_time": "2024-09-06T23:36:37.770Z"
   },
   {
    "duration": 8,
    "start_time": "2024-09-06T23:36:37.781Z"
   },
   {
    "duration": 80,
    "start_time": "2024-09-06T23:36:37.793Z"
   },
   {
    "duration": 7,
    "start_time": "2024-09-06T23:36:37.875Z"
   },
   {
    "duration": 2078,
    "start_time": "2024-09-06T23:45:44.150Z"
   },
   {
    "duration": 975,
    "start_time": "2024-09-06T23:45:46.230Z"
   },
   {
    "duration": 8,
    "start_time": "2024-09-06T23:45:47.207Z"
   },
   {
    "duration": 3,
    "start_time": "2024-09-06T23:45:47.218Z"
   },
   {
    "duration": 11,
    "start_time": "2024-09-06T23:45:47.223Z"
   },
   {
    "duration": 8,
    "start_time": "2024-09-06T23:45:47.235Z"
   },
   {
    "duration": 30,
    "start_time": "2024-09-06T23:45:47.245Z"
   },
   {
    "duration": 9,
    "start_time": "2024-09-06T23:45:47.277Z"
   },
   {
    "duration": 3,
    "start_time": "2024-09-06T23:45:47.287Z"
   },
   {
    "duration": 7,
    "start_time": "2024-09-06T23:45:47.292Z"
   },
   {
    "duration": 15,
    "start_time": "2024-09-06T23:45:47.302Z"
   },
   {
    "duration": 5,
    "start_time": "2024-09-06T23:45:47.318Z"
   },
   {
    "duration": 2574,
    "start_time": "2024-09-06T23:45:47.325Z"
   },
   {
    "duration": 3,
    "start_time": "2024-09-06T23:45:49.902Z"
   },
   {
    "duration": 4,
    "start_time": "2024-09-06T23:45:49.906Z"
   },
   {
    "duration": 8,
    "start_time": "2024-09-06T23:45:49.912Z"
   },
   {
    "duration": 9,
    "start_time": "2024-09-06T23:45:49.921Z"
   },
   {
    "duration": 22,
    "start_time": "2024-09-06T23:45:49.931Z"
   },
   {
    "duration": 41,
    "start_time": "2024-09-06T23:45:49.954Z"
   },
   {
    "duration": 36,
    "start_time": "2024-09-06T23:45:49.997Z"
   },
   {
    "duration": 5,
    "start_time": "2024-09-06T23:45:50.035Z"
   },
   {
    "duration": 29,
    "start_time": "2024-09-06T23:45:50.041Z"
   },
   {
    "duration": 2,
    "start_time": "2024-09-06T23:45:50.072Z"
   },
   {
    "duration": 3,
    "start_time": "2024-09-06T23:45:50.076Z"
   },
   {
    "duration": 43,
    "start_time": "2024-09-06T23:45:50.081Z"
   },
   {
    "duration": 9,
    "start_time": "2024-09-06T23:45:50.125Z"
   },
   {
    "duration": 321,
    "start_time": "2024-09-06T23:45:50.136Z"
   },
   {
    "duration": 22,
    "start_time": "2024-09-06T23:45:50.459Z"
   },
   {
    "duration": 388,
    "start_time": "2024-09-06T23:45:50.482Z"
   },
   {
    "duration": 4,
    "start_time": "2024-09-06T23:45:50.872Z"
   },
   {
    "duration": 3,
    "start_time": "2024-09-06T23:45:50.878Z"
   },
   {
    "duration": 14,
    "start_time": "2024-09-06T23:45:50.883Z"
   },
   {
    "duration": 73,
    "start_time": "2024-09-06T23:45:50.900Z"
   },
   {
    "duration": 3,
    "start_time": "2024-09-06T23:45:50.975Z"
   },
   {
    "duration": 3,
    "start_time": "2024-09-06T23:45:50.980Z"
   },
   {
    "duration": 3,
    "start_time": "2024-09-06T23:45:50.985Z"
   },
   {
    "duration": 3,
    "start_time": "2024-09-06T23:45:50.990Z"
   },
   {
    "duration": 78,
    "start_time": "2024-09-06T23:45:50.995Z"
   },
   {
    "duration": 6,
    "start_time": "2024-09-06T23:45:51.074Z"
   },
   {
    "duration": 4,
    "start_time": "2024-09-06T23:45:51.082Z"
   },
   {
    "duration": 4,
    "start_time": "2024-09-06T23:45:51.091Z"
   },
   {
    "duration": 75,
    "start_time": "2024-09-06T23:45:51.096Z"
   },
   {
    "duration": 4,
    "start_time": "2024-09-06T23:45:51.173Z"
   },
   {
    "duration": 3,
    "start_time": "2024-09-06T23:45:51.179Z"
   },
   {
    "duration": 3,
    "start_time": "2024-09-06T23:45:51.184Z"
   },
   {
    "duration": 3,
    "start_time": "2024-09-06T23:45:51.188Z"
   },
   {
    "duration": 82,
    "start_time": "2024-09-06T23:45:51.192Z"
   },
   {
    "duration": 12,
    "start_time": "2024-09-06T23:45:51.277Z"
   },
   {
    "duration": 82,
    "start_time": "2024-09-06T23:45:51.293Z"
   },
   {
    "duration": 4,
    "start_time": "2024-09-06T23:45:51.376Z"
   }
  ],
  "kernelspec": {
   "display_name": "Python 3 (ipykernel)",
   "language": "python",
   "name": "python3"
  },
  "language_info": {
   "codemirror_mode": {
    "name": "ipython",
    "version": 3
   },
   "file_extension": ".py",
   "mimetype": "text/x-python",
   "name": "python",
   "nbconvert_exporter": "python",
   "pygments_lexer": "ipython3",
   "version": "3.9.19"
  },
  "toc": {
   "base_numbering": 1,
   "nav_menu": {},
   "number_sections": true,
   "sideBar": true,
   "skip_h1_title": true,
   "title_cell": "Table of Contents",
   "title_sidebar": "Contents",
   "toc_cell": false,
   "toc_position": {},
   "toc_section_display": true,
   "toc_window_display": false
  }
 },
 "nbformat": 4,
 "nbformat_minor": 4
}
